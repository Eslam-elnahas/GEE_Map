{
 "cells": [
  {
   "cell_type": "code",
   "execution_count": null,
   "id": "1",
   "metadata": {},
   "outputs": [],
   "source": [
    "# !pip install geemap"
   ]
  },
  {
   "cell_type": "code",
   "execution_count": 1,
   "id": "2",
   "metadata": {},
   "outputs": [],
   "source": [
    "import ee\n",
    "import geemap\n",
    "import os"
   ]
  },
  {
   "cell_type": "code",
   "execution_count": 7,
   "id": "77f74b50-958e-407d-acca-b92d2c26bf11",
   "metadata": {},
   "outputs": [
    {
     "data": {
      "text/html": [
       "\n",
       "            <style>\n",
       "                .geemap-dark {\n",
       "                    --jp-widgets-color: white;\n",
       "                    --jp-widgets-label-color: white;\n",
       "                    --jp-ui-font-color1: white;\n",
       "                    --jp-layout-color2: #454545;\n",
       "                    background-color: #383838;\n",
       "                }\n",
       "\n",
       "                .geemap-dark .jupyter-button {\n",
       "                    --jp-layout-color3: #383838;\n",
       "                }\n",
       "\n",
       "                .geemap-colab {\n",
       "                    background-color: var(--colab-primary-surface-color, white);\n",
       "                }\n",
       "\n",
       "                .geemap-colab .jupyter-button {\n",
       "                    --jp-layout-color3: var(--colab-primary-surface-color, white);\n",
       "                }\n",
       "            </style>\n",
       "            "
      ],
      "text/plain": [
       "<IPython.core.display.HTML object>"
      ]
     },
     "metadata": {},
     "output_type": "display_data"
    }
   ],
   "source": [
    "ee.Authenticate()\n",
    "ee.Initialize(project='ee-eslamelnahas-jupyter')"
   ]
  },
  {
   "cell_type": "code",
   "execution_count": 9,
   "id": "4",
   "metadata": {},
   "outputs": [
    {
     "data": {
      "text/html": [
       "\n",
       "            <style>\n",
       "                .geemap-dark {\n",
       "                    --jp-widgets-color: white;\n",
       "                    --jp-widgets-label-color: white;\n",
       "                    --jp-ui-font-color1: white;\n",
       "                    --jp-layout-color2: #454545;\n",
       "                    background-color: #383838;\n",
       "                }\n",
       "\n",
       "                .geemap-dark .jupyter-button {\n",
       "                    --jp-layout-color3: #383838;\n",
       "                }\n",
       "\n",
       "                .geemap-colab {\n",
       "                    background-color: var(--colab-primary-surface-color, white);\n",
       "                }\n",
       "\n",
       "                .geemap-colab .jupyter-button {\n",
       "                    --jp-layout-color3: var(--colab-primary-surface-color, white);\n",
       "                }\n",
       "            </style>\n",
       "            "
      ],
      "text/plain": [
       "<IPython.core.display.HTML object>"
      ]
     },
     "metadata": {},
     "output_type": "display_data"
    },
    {
     "data": {
      "application/vnd.jupyter.widget-view+json": {
       "model_id": "f748e683df2240978e2bec941c45638a",
       "version_major": 2,
       "version_minor": 0
      },
      "text/plain": [
       "Map(center=[0, 0], controls=(WidgetControl(options=['position', 'transparent_bg'], widget=SearchDataGUI(childr…"
      ]
     },
     "execution_count": 9,
     "metadata": {},
     "output_type": "execute_result"
    }
   ],
   "source": [
    "Map = geemap.Map()\n",
    "Map"
   ]
  },
  {
   "cell_type": "code",
   "execution_count": 48,
   "id": "5",
   "metadata": {},
   "outputs": [
    {
     "data": {
      "text/html": [
       "\n",
       "            <style>\n",
       "                .geemap-dark {\n",
       "                    --jp-widgets-color: white;\n",
       "                    --jp-widgets-label-color: white;\n",
       "                    --jp-ui-font-color1: white;\n",
       "                    --jp-layout-color2: #454545;\n",
       "                    background-color: #383838;\n",
       "                }\n",
       "\n",
       "                .geemap-dark .jupyter-button {\n",
       "                    --jp-layout-color3: #383838;\n",
       "                }\n",
       "\n",
       "                .geemap-colab {\n",
       "                    background-color: var(--colab-primary-surface-color, white);\n",
       "                }\n",
       "\n",
       "                .geemap-colab .jupyter-button {\n",
       "                    --jp-layout-color3: var(--colab-primary-surface-color, white);\n",
       "                }\n",
       "            </style>\n",
       "            "
      ],
      "text/plain": [
       "<IPython.core.display.HTML object>"
      ]
     },
     "metadata": {},
     "output_type": "display_data"
    }
   ],
   "source": [
    "# Add Earth Engine dataset\n",
    "dem = ee.Image(\"USGS/SRTMGL1_003\")\n",
    "\n",
    "# Set visualization parameters.\n",
    "dem_vis = {\n",
    "    \"min\": 0,\n",
    "    \"max\": 4000,\n",
    "    \"palette\": [\"006633\", \"E5FFCC\", \"662A00\", \"D8D8D8\", \"F5F5F5\"],\n",
    "}\n",
    "\n",
    "# Add Earth Engine DEM to map\n",
    "Map.addLayer(dem, dem_vis, \"SRTM DEM\")\n",
    "\n",
    "# Add Landsat data to map\n",
    "landsat = ee.Image(\"LANDSAT/LE7_TOA_5YEAR/1999_2003\")\n",
    "\n",
    "landsat_vis = {\"bands\": [\"B4\", \"B3\", \"B2\"], \"gamma\": 1.4}\n",
    "Map.addLayer(landsat, landsat_vis, \"LE7_TOA_5YEAR/1999_2003\")\n",
    "\n",
    "# states = ee.FeatureCollection(\"TIGER/2018/States\")\n",
    "egypt = ee.FeatureCollection(\"FAO/GAUL/2015/level1\").filter(ee.Filter.eq('ADM0_NAME', 'Egypt'))\n",
    "\n",
    "# Map.addLayer(states, {}, \"US States\")\n",
    "Map.addLayer(egypt, {}, \"Egypt\")\n"
   ]
  },
  {
   "cell_type": "code",
   "execution_count": 34,
   "id": "6",
   "metadata": {},
   "outputs": [
    {
     "data": {
      "text/html": [
       "\n",
       "            <style>\n",
       "                .geemap-dark {\n",
       "                    --jp-widgets-color: white;\n",
       "                    --jp-widgets-label-color: white;\n",
       "                    --jp-ui-font-color1: white;\n",
       "                    --jp-layout-color2: #454545;\n",
       "                    background-color: #383838;\n",
       "                }\n",
       "\n",
       "                .geemap-dark .jupyter-button {\n",
       "                    --jp-layout-color3: #383838;\n",
       "                }\n",
       "\n",
       "                .geemap-colab {\n",
       "                    background-color: var(--colab-primary-surface-color, white);\n",
       "                }\n",
       "\n",
       "                .geemap-colab .jupyter-button {\n",
       "                    --jp-layout-color3: var(--colab-primary-surface-color, white);\n",
       "                }\n",
       "            </style>\n",
       "            "
      ],
      "text/plain": [
       "<IPython.core.display.HTML object>"
      ]
     },
     "metadata": {},
     "output_type": "display_data"
    },
    {
     "name": "stdout",
     "output_type": "stream",
     "text": [
      "Computing statistics ...\n",
      "Generating URL ...\n",
      "Downloading data from https://earthengine.googleapis.com/v1/projects/ee-eslamelnahas-jupyter/tables/6956ddf8da3dcdde09ca7a891ddba7f1-4443ff503bac14e9b7a604088a2e2844:getFeatures\n",
      "Please wait ...\n",
      "Data downloaded to C:\\Users\\Lenovo\\Downloads\\dem_Egy.csv\n"
     ]
    }
   ],
   "source": [
    "out_dir = os.path.join(os.path.expanduser(\"~\"), \"Downloads\")\n",
    "out_dem_Egy = os.path.join(out_dir, \"dem_Egy.csv\")\n",
    "\n",
    "if not os.path.exists(out_dir):\n",
    "    os.makedirs(out_dir)\n",
    "\n",
    "# Allowed output formats: csv, shp, json, kml, kmz\n",
    "# Allowed statistics type: MEAN, MAXIMUM, MINIMUM, MEDIAN, STD, MIN_MAX, VARIANCE, SUM\n",
    "geemap.zonal_stats(dem, egypt, out_dem_Egy, stat_type=\"MEAN\", scale=1000)"
   ]
  },
  {
   "cell_type": "code",
   "execution_count": 44,
   "id": "602eaad4-cc61-4198-80fe-db4df46996c4",
   "metadata": {},
   "outputs": [
    {
     "data": {
      "text/html": [
       "\n",
       "            <style>\n",
       "                .geemap-dark {\n",
       "                    --jp-widgets-color: white;\n",
       "                    --jp-widgets-label-color: white;\n",
       "                    --jp-ui-font-color1: white;\n",
       "                    --jp-layout-color2: #454545;\n",
       "                    background-color: #383838;\n",
       "                }\n",
       "\n",
       "                .geemap-dark .jupyter-button {\n",
       "                    --jp-layout-color3: #383838;\n",
       "                }\n",
       "\n",
       "                .geemap-colab {\n",
       "                    background-color: var(--colab-primary-surface-color, white);\n",
       "                }\n",
       "\n",
       "                .geemap-colab .jupyter-button {\n",
       "                    --jp-layout-color3: var(--colab-primary-surface-color, white);\n",
       "                }\n",
       "            </style>\n",
       "            "
      ],
      "text/plain": [
       "<IPython.core.display.HTML object>"
      ]
     },
     "metadata": {},
     "output_type": "display_data"
    },
    {
     "name": "stdout",
     "output_type": "stream",
     "text": [
      "Computing statistics ...\n",
      "Generating URL ...\n",
      "Downloading data from https://earthengine.googleapis.com/v1/projects/ee-eslamelnahas-jupyter/tables/9459402cc8f5480afa17aabbde0d9ef1-d9803f13c1f2a9b2f978b1393da4ec9d:getFeatures\n",
      "Please wait ...\n",
      "An error occurred while downloading. \n",
      " Retrying ...\n",
      "Generating URL ...\n",
      "Downloading data from https://earthengine.googleapis.com/v1/projects/ee-eslamelnahas-jupyter/tables/1a748683343733988969f8c4ae1e0e43-7477ed8e66a26d18937363d3e6437603:getFeatures\n",
      "Please wait ...\n",
      "Data downloaded to C:\\Users\\Lenovo\\Downloads\\dem_Egy.shp\n"
     ]
    }
   ],
   "source": [
    "out_dir = os.path.join(os.path.expanduser(\"~\"), \"Downloads\")\n",
    "out_dem_Egy_shp = os.path.join(out_dir, \"dem_Egy.shp\")\n",
    "\n",
    "if not os.path.exists(out_dir):\n",
    "    os.makedirs(out_dir)\n",
    "\n",
    "# Allowed output formats: csv, shp, json, kml, kmz\n",
    "# Allowed statistics type: MEAN, MAXIMUM, MINIMUM, MEDIAN, STD, MIN_MAX, VARIANCE, SUM\n",
    "geemap.zonal_stats(dem, egypt, out_dem_Egy_shp, stat_type=\"MEAN\", scale=1000)"
   ]
  },
  {
   "cell_type": "code",
   "execution_count": 36,
   "id": "7",
   "metadata": {},
   "outputs": [
    {
     "data": {
      "text/html": [
       "\n",
       "            <style>\n",
       "                .geemap-dark {\n",
       "                    --jp-widgets-color: white;\n",
       "                    --jp-widgets-label-color: white;\n",
       "                    --jp-ui-font-color1: white;\n",
       "                    --jp-layout-color2: #454545;\n",
       "                    background-color: #383838;\n",
       "                }\n",
       "\n",
       "                .geemap-dark .jupyter-button {\n",
       "                    --jp-layout-color3: #383838;\n",
       "                }\n",
       "\n",
       "                .geemap-colab {\n",
       "                    background-color: var(--colab-primary-surface-color, white);\n",
       "                }\n",
       "\n",
       "                .geemap-colab .jupyter-button {\n",
       "                    --jp-layout-color3: var(--colab-primary-surface-color, white);\n",
       "                }\n",
       "            </style>\n",
       "            "
      ],
      "text/plain": [
       "<IPython.core.display.HTML object>"
      ]
     },
     "metadata": {},
     "output_type": "display_data"
    },
    {
     "name": "stdout",
     "output_type": "stream",
     "text": [
      "Computing statistics ...\n",
      "Generating URL ...\n",
      "Downloading data from https://earthengine.googleapis.com/v1/projects/ee-eslamelnahas-jupyter/tables/5f1290f70126fc65f7d11cf63c4cb1cc-6c647802a430f140331da38f388c8fd7:getFeatures\n",
      "Please wait ...\n",
      "Data downloaded to C:\\Users\\Lenovo\\Downloads\\landsat_EGY.csv\n"
     ]
    }
   ],
   "source": [
    "out_landsat_Egy = os.path.join(out_dir, \"landsat_EGY.csv\")\n",
    "geemap.zonal_stats(landsat, egypt, out_landsat_Egy, stat_type=\"SUM\", scale=1000)"
   ]
  },
  {
   "cell_type": "code",
   "execution_count": 38,
   "id": "8",
   "metadata": {},
   "outputs": [
    {
     "data": {
      "text/html": [
       "\n",
       "            <style>\n",
       "                .geemap-dark {\n",
       "                    --jp-widgets-color: white;\n",
       "                    --jp-widgets-label-color: white;\n",
       "                    --jp-ui-font-color1: white;\n",
       "                    --jp-layout-color2: #454545;\n",
       "                    background-color: #383838;\n",
       "                }\n",
       "\n",
       "                .geemap-dark .jupyter-button {\n",
       "                    --jp-layout-color3: #383838;\n",
       "                }\n",
       "\n",
       "                .geemap-colab {\n",
       "                    background-color: var(--colab-primary-surface-color, white);\n",
       "                }\n",
       "\n",
       "                .geemap-colab .jupyter-button {\n",
       "                    --jp-layout-color3: var(--colab-primary-surface-color, white);\n",
       "                }\n",
       "            </style>\n",
       "            "
      ],
      "text/plain": [
       "<IPython.core.display.HTML object>"
      ]
     },
     "metadata": {},
     "output_type": "display_data"
    },
    {
     "data": {
      "text/html": [
       "<a download=\"dem_Egy.csv\" href=\"data:text/csv;base64,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\" style=\"color:#0000FF;\" target=\"_blank\">Click here to download:  dem_Egy.csv</a>"
      ],
      "text/plain": [
       "<IPython.core.display.HTML object>"
      ]
     },
     "execution_count": 38,
     "metadata": {},
     "output_type": "execute_result"
    }
   ],
   "source": [
    "geemap.create_download_link(out_dem_Egy)\n"
   ]
  },
  {
   "cell_type": "code",
   "execution_count": 40,
   "id": "9",
   "metadata": {},
   "outputs": [
    {
     "data": {
      "text/html": [
       "\n",
       "            <style>\n",
       "                .geemap-dark {\n",
       "                    --jp-widgets-color: white;\n",
       "                    --jp-widgets-label-color: white;\n",
       "                    --jp-ui-font-color1: white;\n",
       "                    --jp-layout-color2: #454545;\n",
       "                    background-color: #383838;\n",
       "                }\n",
       "\n",
       "                .geemap-dark .jupyter-button {\n",
       "                    --jp-layout-color3: #383838;\n",
       "                }\n",
       "\n",
       "                .geemap-colab {\n",
       "                    background-color: var(--colab-primary-surface-color, white);\n",
       "                }\n",
       "\n",
       "                .geemap-colab .jupyter-button {\n",
       "                    --jp-layout-color3: var(--colab-primary-surface-color, white);\n",
       "                }\n",
       "            </style>\n",
       "            "
      ],
      "text/plain": [
       "<IPython.core.display.HTML object>"
      ]
     },
     "metadata": {},
     "output_type": "display_data"
    },
    {
     "data": {
      "text/html": [
       "<a download=\"landsat_EGY.csv\" href=\"data:text/csv;base64,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\" style=\"color:#0000FF;\" target=\"_blank\">Click here to download:  landsat_EGY.csv</a>"
      ],
      "text/plain": [
       "<IPython.core.display.HTML object>"
      ]
     },
     "execution_count": 40,
     "metadata": {},
     "output_type": "execute_result"
    }
   ],
   "source": [
    "geemap.create_download_link(out_landsat_Egy)"
   ]
  },
  {
   "cell_type": "code",
   "execution_count": null,
   "id": "b56a6c50-5f2a-46a1-8850-fc13f0f6c367",
   "metadata": {},
   "outputs": [],
   "source": []
  }
 ],
 "metadata": {
  "kernelspec": {
   "display_name": "Python 3 (ipykernel)",
   "language": "python",
   "name": "python3"
  },
  "language_info": {
   "codemirror_mode": {
    "name": "ipython",
    "version": 3
   },
   "file_extension": ".py",
   "mimetype": "text/x-python",
   "name": "python",
   "nbconvert_exporter": "python",
   "pygments_lexer": "ipython3",
   "version": "3.11.7"
  }
 },
 "nbformat": 4,
 "nbformat_minor": 5
}
