{
 "cells": [
  {
   "cell_type": "code",
   "execution_count": 1,
   "id": "1",
   "metadata": {},
   "outputs": [],
   "source": [
    "# !pip install geemap"
   ]
  },
  {
   "cell_type": "code",
   "execution_count": 2,
   "id": "2",
   "metadata": {},
   "outputs": [],
   "source": [
    "import geemap\n",
    "import os"
   ]
  },
  {
   "cell_type": "markdown",
   "id": "4",
   "metadata": {},
   "source": [
    "## Update the geemap package\n",
    "\n",
    "If you run into errors with this notebook, please uncomment the line below to update the [geemap](https://github.com/gee-community/geemap#installation) package to the latest version from GitHub. \n",
    "Restart the Kernel (Menu -> Kernel -> Restart) to take effect."
   ]
  },
  {
   "cell_type": "code",
   "execution_count": 8,
   "id": "5",
   "metadata": {},
   "outputs": [
    {
     "data": {
      "text/html": [
       "\n",
       "            <style>\n",
       "                .geemap-dark {\n",
       "                    --jp-widgets-color: white;\n",
       "                    --jp-widgets-label-color: white;\n",
       "                    --jp-ui-font-color1: white;\n",
       "                    --jp-layout-color2: #454545;\n",
       "                    background-color: #383838;\n",
       "                }\n",
       "\n",
       "                .geemap-dark .jupyter-button {\n",
       "                    --jp-layout-color3: #383838;\n",
       "                }\n",
       "\n",
       "                .geemap-colab {\n",
       "                    background-color: var(--colab-primary-surface-color, white);\n",
       "                }\n",
       "\n",
       "                .geemap-colab .jupyter-button {\n",
       "                    --jp-layout-color3: var(--colab-primary-surface-color, white);\n",
       "                }\n",
       "            </style>\n",
       "            "
      ],
      "text/plain": [
       "<IPython.core.display.HTML object>"
      ]
     },
     "metadata": {},
     "output_type": "display_data"
    }
   ],
   "source": [
    "# geemap.update_package()"
   ]
  },
  {
   "cell_type": "markdown",
   "id": "6",
   "metadata": {},
   "source": [
    "## Add animated text to an existing GIF\n",
    "\n",
    "You can download this GIF example from [here](https://github.com/gee-community/geemap/blob/master/examples/data/animation.gif). You can also create GIF images from Earth Engine data using this amazing [LT-GEE Time Series Animator](https://emaprlab.users.earthengine.app/view/lt-gee-time-series-animator), which was created by [Justin Braaten](https://github.com/jdbcode)."
   ]
  },
  {
   "cell_type": "code",
   "execution_count": 10,
   "id": "7",
   "metadata": {},
   "outputs": [
    {
     "data": {
      "text/html": [
       "\n",
       "            <style>\n",
       "                .geemap-dark {\n",
       "                    --jp-widgets-color: white;\n",
       "                    --jp-widgets-label-color: white;\n",
       "                    --jp-ui-font-color1: white;\n",
       "                    --jp-layout-color2: #454545;\n",
       "                    background-color: #383838;\n",
       "                }\n",
       "\n",
       "                .geemap-dark .jupyter-button {\n",
       "                    --jp-layout-color3: #383838;\n",
       "                }\n",
       "\n",
       "                .geemap-colab {\n",
       "                    background-color: var(--colab-primary-surface-color, white);\n",
       "                }\n",
       "\n",
       "                .geemap-colab .jupyter-button {\n",
       "                    --jp-layout-color3: var(--colab-primary-surface-color, white);\n",
       "                }\n",
       "            </style>\n",
       "            "
      ],
      "text/plain": [
       "<IPython.core.display.HTML object>"
      ]
     },
     "metadata": {},
     "output_type": "display_data"
    }
   ],
   "source": [
    "in_gif = os.path.abspath(\"F:\\python\\Geemap\\geemap-master\\examples\\data/animation.gif\")\n",
    "out_dir = os.path.join(os.path.expanduser(\"~\"), \"Downloads\")\n",
    "out_gif = os.path.join(out_dir, \"output.gif\")\n",
    "if not os.path.exists(out_dir):\n",
    "    os.makedirs(out_dir)"
   ]
  },
  {
   "cell_type": "code",
   "execution_count": 12,
   "id": "8",
   "metadata": {},
   "outputs": [
    {
     "data": {
      "text/html": [
       "\n",
       "            <style>\n",
       "                .geemap-dark {\n",
       "                    --jp-widgets-color: white;\n",
       "                    --jp-widgets-label-color: white;\n",
       "                    --jp-ui-font-color1: white;\n",
       "                    --jp-layout-color2: #454545;\n",
       "                    background-color: #383838;\n",
       "                }\n",
       "\n",
       "                .geemap-dark .jupyter-button {\n",
       "                    --jp-layout-color3: #383838;\n",
       "                }\n",
       "\n",
       "                .geemap-colab {\n",
       "                    background-color: var(--colab-primary-surface-color, white);\n",
       "                }\n",
       "\n",
       "                .geemap-colab .jupyter-button {\n",
       "                    --jp-layout-color3: var(--colab-primary-surface-color, white);\n",
       "                }\n",
       "            </style>\n",
       "            "
      ],
      "text/plain": [
       "<IPython.core.display.HTML object>"
      ]
     },
     "metadata": {},
     "output_type": "display_data"
    },
    {
     "data": {
      "application/vnd.jupyter.widget-view+json": {
       "model_id": "55ebfcd0d2f64de2ab5eb62f5cb94c5c",
       "version_major": 2,
       "version_minor": 0
      },
      "text/plain": [
       "Output()"
      ]
     },
     "metadata": {},
     "output_type": "display_data"
    }
   ],
   "source": [
    "geemap.show_image(in_gif)"
   ]
  },
  {
   "cell_type": "markdown",
   "id": "9",
   "metadata": {},
   "source": [
    "### Add animated text to GIF"
   ]
  },
  {
   "cell_type": "code",
   "execution_count": 26,
   "id": "10",
   "metadata": {},
   "outputs": [
    {
     "data": {
      "text/html": [
       "\n",
       "            <style>\n",
       "                .geemap-dark {\n",
       "                    --jp-widgets-color: white;\n",
       "                    --jp-widgets-label-color: white;\n",
       "                    --jp-ui-font-color1: white;\n",
       "                    --jp-layout-color2: #454545;\n",
       "                    background-color: #383838;\n",
       "                }\n",
       "\n",
       "                .geemap-dark .jupyter-button {\n",
       "                    --jp-layout-color3: #383838;\n",
       "                }\n",
       "\n",
       "                .geemap-colab {\n",
       "                    background-color: var(--colab-primary-surface-color, white);\n",
       "                }\n",
       "\n",
       "                .geemap-colab .jupyter-button {\n",
       "                    --jp-layout-color3: var(--colab-primary-surface-color, white);\n",
       "                }\n",
       "            </style>\n",
       "            "
      ],
      "text/plain": [
       "<IPython.core.display.HTML object>"
      ]
     },
     "metadata": {},
     "output_type": "display_data"
    }
   ],
   "source": [
    "geemap.add_text_to_gif(\n",
    "    in_gif,\n",
    "    out_gif,\n",
    "    xy=(\"5%\", \"5%\"),\n",
    "    text_sequence=1990,\n",
    "    font_size=30,\n",
    "    font_color=\"#0000ff\",\n",
    "    duration=1000,\n",
    ")"
   ]
  },
  {
   "cell_type": "code",
   "execution_count": 27,
   "id": "11",
   "metadata": {},
   "outputs": [
    {
     "data": {
      "text/html": [
       "\n",
       "            <style>\n",
       "                .geemap-dark {\n",
       "                    --jp-widgets-color: white;\n",
       "                    --jp-widgets-label-color: white;\n",
       "                    --jp-ui-font-color1: white;\n",
       "                    --jp-layout-color2: #454545;\n",
       "                    background-color: #383838;\n",
       "                }\n",
       "\n",
       "                .geemap-dark .jupyter-button {\n",
       "                    --jp-layout-color3: #383838;\n",
       "                }\n",
       "\n",
       "                .geemap-colab {\n",
       "                    background-color: var(--colab-primary-surface-color, white);\n",
       "                }\n",
       "\n",
       "                .geemap-colab .jupyter-button {\n",
       "                    --jp-layout-color3: var(--colab-primary-surface-color, white);\n",
       "                }\n",
       "            </style>\n",
       "            "
      ],
      "text/plain": [
       "<IPython.core.display.HTML object>"
      ]
     },
     "metadata": {},
     "output_type": "display_data"
    },
    {
     "data": {
      "application/vnd.jupyter.widget-view+json": {
       "model_id": "662bbccbb5bf4f608820e2f1688eb365",
       "version_major": 2,
       "version_minor": 0
      },
      "text/plain": [
       "Output()"
      ]
     },
     "metadata": {},
     "output_type": "display_data"
    }
   ],
   "source": [
    "geemap.show_image(out_gif)"
   ]
  },
  {
   "cell_type": "markdown",
   "id": "12",
   "metadata": {},
   "source": [
    "### Add place name"
   ]
  },
  {
   "cell_type": "code",
   "execution_count": 46,
   "id": "13",
   "metadata": {},
   "outputs": [
    {
     "data": {
      "text/html": [
       "\n",
       "            <style>\n",
       "                .geemap-dark {\n",
       "                    --jp-widgets-color: white;\n",
       "                    --jp-widgets-label-color: white;\n",
       "                    --jp-ui-font-color1: white;\n",
       "                    --jp-layout-color2: #454545;\n",
       "                    background-color: #383838;\n",
       "                }\n",
       "\n",
       "                .geemap-dark .jupyter-button {\n",
       "                    --jp-layout-color3: #383838;\n",
       "                }\n",
       "\n",
       "                .geemap-colab {\n",
       "                    background-color: var(--colab-primary-surface-color, white);\n",
       "                }\n",
       "\n",
       "                .geemap-colab .jupyter-button {\n",
       "                    --jp-layout-color3: var(--colab-primary-surface-color, white);\n",
       "                }\n",
       "            </style>\n",
       "            "
      ],
      "text/plain": [
       "<IPython.core.display.HTML object>"
      ]
     },
     "metadata": {},
     "output_type": "display_data"
    }
   ],
   "source": [
    "geemap.add_text_to_gif(\n",
    "    out_gif, out_gif, xy=(\"30%\", \"85%\"), text_sequence=\"Las Vegas\", font_color=\"red\"\n",
    ")"
   ]
  },
  {
   "cell_type": "code",
   "execution_count": 48,
   "id": "14",
   "metadata": {},
   "outputs": [
    {
     "data": {
      "text/html": [
       "\n",
       "            <style>\n",
       "                .geemap-dark {\n",
       "                    --jp-widgets-color: white;\n",
       "                    --jp-widgets-label-color: white;\n",
       "                    --jp-ui-font-color1: white;\n",
       "                    --jp-layout-color2: #454545;\n",
       "                    background-color: #383838;\n",
       "                }\n",
       "\n",
       "                .geemap-dark .jupyter-button {\n",
       "                    --jp-layout-color3: #383838;\n",
       "                }\n",
       "\n",
       "                .geemap-colab {\n",
       "                    background-color: var(--colab-primary-surface-color, white);\n",
       "                }\n",
       "\n",
       "                .geemap-colab .jupyter-button {\n",
       "                    --jp-layout-color3: var(--colab-primary-surface-color, white);\n",
       "                }\n",
       "            </style>\n",
       "            "
      ],
      "text/plain": [
       "<IPython.core.display.HTML object>"
      ]
     },
     "metadata": {},
     "output_type": "display_data"
    },
    {
     "data": {
      "application/vnd.jupyter.widget-view+json": {
       "model_id": "f1ebe3ae8ce343deafa3c8ae3e4671a2",
       "version_major": 2,
       "version_minor": 0
      },
      "text/plain": [
       "Output()"
      ]
     },
     "metadata": {},
     "output_type": "display_data"
    }
   ],
   "source": [
    "geemap.show_image(out_gif)"
   ]
  },
  {
   "cell_type": "markdown",
   "id": "15",
   "metadata": {},
   "source": [
    "### Change font type"
   ]
  },
  {
   "cell_type": "code",
   "execution_count": 50,
   "id": "16",
   "metadata": {},
   "outputs": [
    {
     "data": {
      "text/html": [
       "\n",
       "            <style>\n",
       "                .geemap-dark {\n",
       "                    --jp-widgets-color: white;\n",
       "                    --jp-widgets-label-color: white;\n",
       "                    --jp-ui-font-color1: white;\n",
       "                    --jp-layout-color2: #454545;\n",
       "                    background-color: #383838;\n",
       "                }\n",
       "\n",
       "                .geemap-dark .jupyter-button {\n",
       "                    --jp-layout-color3: #383838;\n",
       "                }\n",
       "\n",
       "                .geemap-colab {\n",
       "                    background-color: var(--colab-primary-surface-color, white);\n",
       "                }\n",
       "\n",
       "                .geemap-colab .jupyter-button {\n",
       "                    --jp-layout-color3: var(--colab-primary-surface-color, white);\n",
       "                }\n",
       "            </style>\n",
       "            "
      ],
      "text/plain": [
       "<IPython.core.display.HTML object>"
      ]
     },
     "metadata": {},
     "output_type": "display_data"
    },
    {
     "data": {
      "text/plain": [
       "['AGENCYB.TTF',\n",
       " 'AGENCYR.TTF',\n",
       " 'ALGER.TTF',\n",
       " 'ANTQUAB.TTF',\n",
       " 'ANTQUABI.TTF',\n",
       " 'ANTQUAI.TTF',\n",
       " 'ARIALN.TTF',\n",
       " 'ARIALNB.TTF',\n",
       " 'ARIALNBI.TTF',\n",
       " 'ARIALNI.TTF',\n",
       " 'ARLRDBD.TTF',\n",
       " 'BASKVILL.TTF',\n",
       " 'BAUHS93.TTF',\n",
       " 'BELL.TTF',\n",
       " 'BELLB.TTF',\n",
       " 'BELLI.TTF',\n",
       " 'BERNHC.TTF',\n",
       " 'BKANT.TTF',\n",
       " 'BOD_B.TTF',\n",
       " 'BOD_BI.TTF',\n",
       " 'BOD_BLAI.TTF',\n",
       " 'BOD_BLAR.TTF',\n",
       " 'BOD_CB.TTF',\n",
       " 'BOD_CBI.TTF',\n",
       " 'BOD_CI.TTF',\n",
       " 'BOD_CR.TTF',\n",
       " 'BOD_I.TTF',\n",
       " 'BOD_PSTC.TTF',\n",
       " 'BOD_R.TTF',\n",
       " 'BOOKOS.TTF',\n",
       " 'BOOKOSB.TTF',\n",
       " 'BOOKOSBI.TTF',\n",
       " 'BOOKOSI.TTF',\n",
       " 'BRADHITC.TTF',\n",
       " 'BRITANIC.TTF',\n",
       " 'BRLNSB.TTF',\n",
       " 'BRLNSDB.TTF',\n",
       " 'BRLNSR.TTF',\n",
       " 'BROADW.TTF',\n",
       " 'BRUSHSCI.TTF',\n",
       " 'BSSYM7.TTF',\n",
       " 'CALIFB.TTF',\n",
       " 'CALIFI.TTF',\n",
       " 'CALIFR.TTF',\n",
       " 'CALIST.TTF',\n",
       " 'CALISTB.TTF',\n",
       " 'CALISTBI.TTF',\n",
       " 'CALISTI.TTF',\n",
       " 'CASTELAR.TTF',\n",
       " 'CENSCBK.TTF',\n",
       " 'CENTAUR.TTF',\n",
       " 'CENTURY.TTF',\n",
       " 'CHILLER.TTF',\n",
       " 'COLONNA.TTF',\n",
       " 'COOPBL.TTF',\n",
       " 'COPRGTB.TTF',\n",
       " 'COPRGTL.TTF',\n",
       " 'CURLZ___.TTF',\n",
       " 'Candara.ttf',\n",
       " 'Candarab.ttf',\n",
       " 'Candarai.ttf',\n",
       " 'Candaral.ttf',\n",
       " 'Candarali.ttf',\n",
       " 'Candaraz.ttf',\n",
       " 'DUBAI-BOLD.TTF',\n",
       " 'DUBAI-LIGHT.TTF',\n",
       " 'DUBAI-MEDIUM.TTF',\n",
       " 'DUBAI-REGULAR.TTF',\n",
       " 'ELEPHNT.TTF',\n",
       " 'ELEPHNTI.TTF',\n",
       " 'ENGR.TTF',\n",
       " 'ERASBD.TTF',\n",
       " 'ERASDEMI.TTF',\n",
       " 'ERASLGHT.TTF',\n",
       " 'ERASMD.TTF',\n",
       " 'FELIXTI.TTF',\n",
       " 'FORTE.TTF',\n",
       " 'FRABK.TTF',\n",
       " 'FRABKIT.TTF',\n",
       " 'FRADM.TTF',\n",
       " 'FRADMCN.TTF',\n",
       " 'FRADMIT.TTF',\n",
       " 'FRAHV.TTF',\n",
       " 'FRAHVIT.TTF',\n",
       " 'FRAMDCN.TTF',\n",
       " 'FREESCPT.TTF',\n",
       " 'FRSCRIPT.TTF',\n",
       " 'FTLTLT.TTF',\n",
       " 'GARA.TTF',\n",
       " 'GARABD.TTF',\n",
       " 'GARAIT.TTF',\n",
       " 'GIGI.TTF',\n",
       " 'GILBI___.TTF',\n",
       " 'GILB____.TTF',\n",
       " 'GILC____.TTF',\n",
       " 'GILI____.TTF',\n",
       " 'GILLUBCD.TTF',\n",
       " 'GILSANUB.TTF',\n",
       " 'GIL_____.TTF',\n",
       " 'GLECB.TTF',\n",
       " 'GLSNECB.TTF',\n",
       " 'GOTHIC.TTF',\n",
       " 'GOTHICB.TTF',\n",
       " 'GOTHICBI.TTF',\n",
       " 'GOTHICI.TTF',\n",
       " 'GOUDOS.TTF',\n",
       " 'GOUDOSB.TTF',\n",
       " 'GOUDOSI.TTF',\n",
       " 'GOUDYSTO.TTF',\n",
       " 'GSDidger1.ttf',\n",
       " 'GSGeol1.ttf',\n",
       " 'GSMap1.ttf',\n",
       " 'GSNArrow.ttf',\n",
       " 'GSOandG1.ttf',\n",
       " 'GSWBarb1.ttf',\n",
       " 'GSWeath1.ttf',\n",
       " 'Gabriola.ttf',\n",
       " 'HARLOWSI.TTF',\n",
       " 'HARNGTON.TTF',\n",
       " 'HATTEN.TTF',\n",
       " 'HTOWERT.TTF',\n",
       " 'HTOWERTI.TTF',\n",
       " 'IMPRISHA.TTF',\n",
       " 'INFROMAN.TTF',\n",
       " 'ITCBLKAD.TTF',\n",
       " 'ITCEDSCR.TTF',\n",
       " 'ITCKRIST.TTF',\n",
       " 'Inkfree.ttf',\n",
       " 'JOKERMAN.TTF',\n",
       " 'JUICE___.TTF',\n",
       " 'KUNSTLER.TTF',\n",
       " 'LATINWD.TTF',\n",
       " 'LBRITE.TTF',\n",
       " 'LBRITED.TTF',\n",
       " 'LBRITEDI.TTF',\n",
       " 'LBRITEI.TTF',\n",
       " 'LCALLIG.TTF',\n",
       " 'LFAX.TTF',\n",
       " 'LFAXD.TTF',\n",
       " 'LFAXDI.TTF',\n",
       " 'LFAXI.TTF',\n",
       " 'LHANDW.TTF',\n",
       " 'LSANS.TTF',\n",
       " 'LSANSD.TTF',\n",
       " 'LSANSDI.TTF',\n",
       " 'LSANSI.TTF',\n",
       " 'LTYPE.TTF',\n",
       " 'LTYPEB.TTF',\n",
       " 'LTYPEBO.TTF',\n",
       " 'LTYPEO.TTF',\n",
       " 'LeelUIsl.ttf',\n",
       " 'LeelaUIb.ttf',\n",
       " 'LeelawUI.ttf',\n",
       " 'MAGNETOB.TTF',\n",
       " 'MAIAN.TTF',\n",
       " 'MATURASC.TTF',\n",
       " 'MISTRAL.TTF',\n",
       " 'MOD20.TTF',\n",
       " 'MTCORSVA.TTF',\n",
       " 'MTEXTRA.TTF',\n",
       " 'NIAGENG.TTF',\n",
       " 'NIAGSOL.TTF',\n",
       " 'Nirmala.ttf',\n",
       " 'NirmalaB.ttf',\n",
       " 'NirmalaS.ttf',\n",
       " 'OCRAEXT.TTF',\n",
       " 'OLDENGL.TTF',\n",
       " 'ONYX.TTF',\n",
       " 'OUTLOOK.TTF',\n",
       " 'PALSCRI.TTF',\n",
       " 'PAPYRUS.TTF',\n",
       " 'PARCHM.TTF',\n",
       " 'PERBI___.TTF',\n",
       " 'PERB____.TTF',\n",
       " 'PERI____.TTF',\n",
       " 'PERTIBD.TTF',\n",
       " 'PERTILI.TTF',\n",
       " 'PER_____.TTF',\n",
       " 'PLAYBILL.TTF',\n",
       " 'POORICH.TTF',\n",
       " 'PRISTINA.TTF',\n",
       " 'RAGE.TTF',\n",
       " 'RAVIE.TTF',\n",
       " 'REFSAN.TTF',\n",
       " 'REFSPCL.TTF',\n",
       " 'ROCCB___.TTF',\n",
       " 'ROCC____.TTF',\n",
       " 'ROCK.TTF',\n",
       " 'ROCKB.TTF',\n",
       " 'ROCKBI.TTF',\n",
       " 'ROCKEB.TTF',\n",
       " 'ROCKI.TTF',\n",
       " 'SCHLBKB.TTF',\n",
       " 'SCHLBKBI.TTF',\n",
       " 'SCHLBKI.TTF',\n",
       " 'SCRIPTBL.TTF',\n",
       " 'SHOWG.TTF',\n",
       " 'SNAP____.TTF',\n",
       " 'STENCIL.TTF',\n",
       " 'Sitka.ttc',\n",
       " 'SitkaB.ttc',\n",
       " 'SitkaI.ttc',\n",
       " 'SitkaZ.ttc',\n",
       " 'TCBI____.TTF',\n",
       " 'TCB_____.TTF',\n",
       " 'TCCB____.TTF',\n",
       " 'TCCEB.TTF',\n",
       " 'TCCM____.TTF',\n",
       " 'TCMI____.TTF',\n",
       " 'TCM_____.TTF',\n",
       " 'TEMPSITC.TTF',\n",
       " 'UrdType.ttf',\n",
       " 'UrdTypeb.ttf',\n",
       " 'VINERITC.TTF',\n",
       " 'VIVALDII.TTF',\n",
       " 'VLADIMIR.TTF',\n",
       " 'WINGDNG2.TTF',\n",
       " 'WINGDNG3.TTF',\n",
       " 'YuGothB.ttc',\n",
       " 'YuGothL.ttc',\n",
       " 'YuGothM.ttc',\n",
       " 'YuGothR.ttc',\n",
       " 'aldhabi.ttf',\n",
       " 'andlso.ttf',\n",
       " 'arabtype.ttf',\n",
       " 'arial.ttf',\n",
       " 'arialbd.ttf',\n",
       " 'arialbi.ttf',\n",
       " 'ariali.ttf',\n",
       " 'ariblk.ttf',\n",
       " 'bahnschrift.ttf',\n",
       " 'calibri.ttf',\n",
       " 'calibrib.ttf',\n",
       " 'calibrii.ttf',\n",
       " 'calibril.ttf',\n",
       " 'calibrili.ttf',\n",
       " 'calibriz.ttf',\n",
       " 'cambria.ttc',\n",
       " 'cambriab.ttf',\n",
       " 'cambriai.ttf',\n",
       " 'cambriaz.ttf',\n",
       " 'comic.ttf',\n",
       " 'comicbd.ttf',\n",
       " 'comici.ttf',\n",
       " 'comicz.ttf',\n",
       " 'consola.ttf',\n",
       " 'consolab.ttf',\n",
       " 'consolai.ttf',\n",
       " 'consolaz.ttf',\n",
       " 'constan.ttf',\n",
       " 'constanb.ttf',\n",
       " 'constani.ttf',\n",
       " 'constanz.ttf',\n",
       " 'corbel.ttf',\n",
       " 'corbelb.ttf',\n",
       " 'corbeli.ttf',\n",
       " 'corbell.ttf',\n",
       " 'corbelli.ttf',\n",
       " 'corbelz.ttf',\n",
       " 'cour.ttf',\n",
       " 'courbd.ttf',\n",
       " 'courbi.ttf',\n",
       " 'couri.ttf',\n",
       " 'ebrima.ttf',\n",
       " 'ebrimabd.ttf',\n",
       " 'esri_1.ttf',\n",
       " 'esri_105.ttf',\n",
       " 'esri_11.ttf',\n",
       " 'esri_12.ttf',\n",
       " 'esri_121.ttf',\n",
       " 'esri_13.ttf',\n",
       " 'esri_130.ttf',\n",
       " 'esri_131.ttf',\n",
       " 'esri_132.ttf',\n",
       " 'esri_133.ttf',\n",
       " 'esri_14.ttf',\n",
       " 'esri_144.ttf',\n",
       " 'esri_149.ttf',\n",
       " 'esri_15.ttf',\n",
       " 'esri_150.ttf',\n",
       " 'esri_151.ttf',\n",
       " 'esri_152.ttf',\n",
       " 'esri_153.ttf',\n",
       " 'esri_159.ttf',\n",
       " 'esri_16.ttf',\n",
       " 'esri_160.ttf',\n",
       " 'esri_161.ttf',\n",
       " 'esri_17.ttf',\n",
       " 'esri_19.ttf',\n",
       " 'esri_2.ttf',\n",
       " 'esri_20.ttf',\n",
       " 'esri_21.ttf',\n",
       " 'esri_216.ttf',\n",
       " 'esri_22.ttf',\n",
       " 'esri_220.ttf',\n",
       " 'esri_221.ttf',\n",
       " 'esri_222.ttf',\n",
       " 'esri_223.ttf',\n",
       " 'esri_224.ttf',\n",
       " 'esri_225.ttf',\n",
       " 'esri_23.ttf',\n",
       " 'esri_24.ttf',\n",
       " 'esri_25.ttf',\n",
       " 'esri_26.ttf',\n",
       " 'esri_27Mcr_2.ttf',\n",
       " 'esri_29.ttf',\n",
       " 'esri_3.ttf',\n",
       " 'esri_30s.ttf',\n",
       " 'esri_33.ttf',\n",
       " 'esri_34.ttf',\n",
       " 'esri_375.ttf',\n",
       " 'esri_376.ttf',\n",
       " 'esri_377.ttf',\n",
       " 'esri_39.ttf',\n",
       " 'esri_4.ttf',\n",
       " 'esri_40.ttf',\n",
       " 'esri_400.ttf',\n",
       " 'esri_405.ttf',\n",
       " 'esri_406.ttf',\n",
       " 'esri_44.ttf',\n",
       " 'esri_47.ttf',\n",
       " 'esri_48.ttf',\n",
       " 'esri_49.ttf',\n",
       " 'esri_5.ttf',\n",
       " 'esri_500.ttf',\n",
       " 'esri_651.ttf',\n",
       " 'esri_652.ttf',\n",
       " 'esri_7.ttf',\n",
       " 'esri_730.ttf',\n",
       " 'esri_8.ttf',\n",
       " 'esri_800.ttf',\n",
       " 'esri_801.ttf',\n",
       " 'esri_802.ttf',\n",
       " 'esri_803.ttf',\n",
       " 'esri_804.ttf',\n",
       " 'esri_832.ttf',\n",
       " 'esri_837.ttf',\n",
       " 'esri_9.ttf',\n",
       " 'framd.ttf',\n",
       " 'framdit.ttf',\n",
       " 'gadugi.ttf',\n",
       " 'gadugib.ttf',\n",
       " 'georgia.ttf',\n",
       " 'georgiab.ttf',\n",
       " 'georgiai.ttf',\n",
       " 'georgiaz.ttf',\n",
       " 'gsdefsym.ttf',\n",
       " 'himalaya.ttf',\n",
       " 'holomdl2.ttf',\n",
       " 'impact.ttf',\n",
       " 'javatext.ttf',\n",
       " 'l_10646.ttf',\n",
       " 'lucon.ttf',\n",
       " 'majalla.ttf',\n",
       " 'majallab.ttf',\n",
       " 'malgun.ttf',\n",
       " 'malgunbd.ttf',\n",
       " 'malgunsl.ttf',\n",
       " 'micross.ttf',\n",
       " 'mingliub.ttc',\n",
       " 'mmrtext.ttf',\n",
       " 'mmrtextb.ttf',\n",
       " 'monbaiti.ttf',\n",
       " 'msgothic.ttc',\n",
       " 'msjh.ttc',\n",
       " 'msjhbd.ttc',\n",
       " 'msjhl.ttc',\n",
       " 'msuighub.ttf',\n",
       " 'msuighur.ttf',\n",
       " 'msyh.ttc',\n",
       " 'msyhbd.ttc',\n",
       " 'msyhl.ttc',\n",
       " 'msyi.ttf',\n",
       " 'mvboli.ttf',\n",
       " 'ntailu.ttf',\n",
       " 'ntailub.ttf',\n",
       " 'pala.ttf',\n",
       " 'palab.ttf',\n",
       " 'palabi.ttf',\n",
       " 'palai.ttf',\n",
       " 'phagspa.ttf',\n",
       " 'phagspab.ttf',\n",
       " 'segmdl2.ttf',\n",
       " 'segoepr.ttf',\n",
       " 'segoeprb.ttf',\n",
       " 'segoesc.ttf',\n",
       " 'segoescb.ttf',\n",
       " 'segoeui.ttf',\n",
       " 'segoeuib.ttf',\n",
       " 'segoeuii.ttf',\n",
       " 'segoeuil.ttf',\n",
       " 'segoeuisl.ttf',\n",
       " 'segoeuiz.ttf',\n",
       " 'seguibl.ttf',\n",
       " 'seguibli.ttf',\n",
       " 'seguiemj.ttf',\n",
       " 'seguihis.ttf',\n",
       " 'seguili.ttf',\n",
       " 'seguisb.ttf',\n",
       " 'seguisbi.ttf',\n",
       " 'seguisli.ttf',\n",
       " 'seguisym.ttf',\n",
       " 'simpbdo.ttf',\n",
       " 'simpfxo.ttf',\n",
       " 'simpo.ttf',\n",
       " 'simsun.ttc',\n",
       " 'simsunb.ttf',\n",
       " 'sylfaen.ttf',\n",
       " 'symbol.ttf',\n",
       " 'tahoma.ttf',\n",
       " 'tahomabd.ttf',\n",
       " 'taile.ttf',\n",
       " 'taileb.ttf',\n",
       " 'times.ttf',\n",
       " 'timesbd.ttf',\n",
       " 'timesbi.ttf',\n",
       " 'timesi.ttf',\n",
       " 'tradbdo.ttf',\n",
       " 'trado.ttf',\n",
       " 'trebuc.ttf',\n",
       " 'trebucbd.ttf',\n",
       " 'trebucbi.ttf',\n",
       " 'trebucit.ttf',\n",
       " 'verdana.ttf',\n",
       " 'verdanab.ttf',\n",
       " 'verdanai.ttf',\n",
       " 'verdanaz.ttf',\n",
       " 'webdings.ttf',\n",
       " 'wingding.ttf']"
      ]
     },
     "execution_count": 50,
     "metadata": {},
     "output_type": "execute_result"
    }
   ],
   "source": [
    "geemap.system_fonts()"
   ]
  },
  {
   "cell_type": "code",
   "execution_count": 52,
   "id": "17",
   "metadata": {},
   "outputs": [
    {
     "data": {
      "text/html": [
       "\n",
       "            <style>\n",
       "                .geemap-dark {\n",
       "                    --jp-widgets-color: white;\n",
       "                    --jp-widgets-label-color: white;\n",
       "                    --jp-ui-font-color1: white;\n",
       "                    --jp-layout-color2: #454545;\n",
       "                    background-color: #383838;\n",
       "                }\n",
       "\n",
       "                .geemap-dark .jupyter-button {\n",
       "                    --jp-layout-color3: #383838;\n",
       "                }\n",
       "\n",
       "                .geemap-colab {\n",
       "                    background-color: var(--colab-primary-surface-color, white);\n",
       "                }\n",
       "\n",
       "                .geemap-colab .jupyter-button {\n",
       "                    --jp-layout-color3: var(--colab-primary-surface-color, white);\n",
       "                }\n",
       "            </style>\n",
       "            "
      ],
      "text/plain": [
       "<IPython.core.display.HTML object>"
      ]
     },
     "metadata": {},
     "output_type": "display_data"
    },
    {
     "data": {
      "application/vnd.jupyter.widget-view+json": {
       "model_id": "f0dd69dd22d3422eb879e4365dd9e093",
       "version_major": 2,
       "version_minor": 0
      },
      "text/plain": [
       "Output()"
      ]
     },
     "metadata": {},
     "output_type": "display_data"
    }
   ],
   "source": [
    "geemap.add_text_to_gif(\n",
    "    in_gif,\n",
    "    out_gif,\n",
    "    xy=(\"5%\", \"5%\"),\n",
    "    text_sequence=1984,\n",
    "    font_size=30,\n",
    "    font_color=\"#0000ff\",\n",
    "    duration=100,\n",
    ")\n",
    "geemap.add_text_to_gif(\n",
    "    out_gif,\n",
    "    out_gif,\n",
    "    xy=(\"30%\", \"85%\"),\n",
    "    text_sequence=\"Las Vegas\",\n",
    "    font_type=\"timesbd.ttf\",\n",
    "    font_size=30,\n",
    "    font_color=\"black\",\n",
    ")\n",
    "geemap.show_image(out_gif)"
   ]
  },
  {
   "cell_type": "markdown",
   "id": "18",
   "metadata": {},
   "source": [
    "## Create GIF from Earth Engine data\n",
    "\n",
    "This example was adapted from the Earth Engine JavaScript API Documentation [here](https://developers.google.com/earth-engine/ic_visualization#video_thumb)."
   ]
  },
  {
   "cell_type": "markdown",
   "id": "19",
   "metadata": {},
   "source": [
    "### Prepare for an ImageCollection"
   ]
  },
  {
   "cell_type": "code",
   "execution_count": 56,
   "id": "20",
   "metadata": {},
   "outputs": [
    {
     "data": {
      "text/html": [
       "\n",
       "            <style>\n",
       "                .geemap-dark {\n",
       "                    --jp-widgets-color: white;\n",
       "                    --jp-widgets-label-color: white;\n",
       "                    --jp-ui-font-color1: white;\n",
       "                    --jp-layout-color2: #454545;\n",
       "                    background-color: #383838;\n",
       "                }\n",
       "\n",
       "                .geemap-dark .jupyter-button {\n",
       "                    --jp-layout-color3: #383838;\n",
       "                }\n",
       "\n",
       "                .geemap-colab {\n",
       "                    background-color: var(--colab-primary-surface-color, white);\n",
       "                }\n",
       "\n",
       "                .geemap-colab .jupyter-button {\n",
       "                    --jp-layout-color3: var(--colab-primary-surface-color, white);\n",
       "                }\n",
       "            </style>\n",
       "            "
      ],
      "text/plain": [
       "<IPython.core.display.HTML object>"
      ]
     },
     "metadata": {},
     "output_type": "display_data"
    }
   ],
   "source": [
    "import ee\n",
    "import geemap\n",
    "\n",
    "ee.Authenticate()\n",
    "ee.Initialize(project='ee-eslamelnahas-jupyter')\n",
    "\n",
    "# Define an area of interest geometry with a global non-polar extent.\n",
    "aoi = ee.Geometry.Polygon(\n",
    "    [[[-179.0, 78.0], [-179.0, -58.0], [179.0, -58.0], [179.0, 78.0]]], None, False\n",
    ")\n",
    "\n",
    "# Import hourly predicted temperature image collection for northern winter\n",
    "# solstice. Note that predictions extend for 384 hours; limit the collection\n",
    "# to the first 24 hours.\n",
    "tempCol = (\n",
    "    ee.ImageCollection(\"NOAA/GFS0P25\")\n",
    "    .filterDate(\"2018-12-22\", \"2018-12-23\")\n",
    "    .limit(24)\n",
    "    .select(\"temperature_2m_above_ground\")\n",
    ")\n",
    "\n",
    "# Define arguments for animation function parameters.\n",
    "videoArgs = {\n",
    "    \"dimensions\": 768,\n",
    "    \"region\": aoi,\n",
    "    \"framesPerSecond\": 10,\n",
    "    \"crs\": \"EPSG:3857\",\n",
    "    \"min\": -40.0,\n",
    "    \"max\": 35.0,\n",
    "    \"palette\": [\"blue\", \"purple\", \"cyan\", \"green\", \"yellow\", \"red\"],\n",
    "}"
   ]
  },
  {
   "cell_type": "markdown",
   "id": "21",
   "metadata": {},
   "source": [
    "### Save the GIF to local drive"
   ]
  },
  {
   "cell_type": "code",
   "execution_count": 59,
   "id": "22",
   "metadata": {},
   "outputs": [
    {
     "data": {
      "text/html": [
       "\n",
       "            <style>\n",
       "                .geemap-dark {\n",
       "                    --jp-widgets-color: white;\n",
       "                    --jp-widgets-label-color: white;\n",
       "                    --jp-ui-font-color1: white;\n",
       "                    --jp-layout-color2: #454545;\n",
       "                    background-color: #383838;\n",
       "                }\n",
       "\n",
       "                .geemap-dark .jupyter-button {\n",
       "                    --jp-layout-color3: #383838;\n",
       "                }\n",
       "\n",
       "                .geemap-colab {\n",
       "                    background-color: var(--colab-primary-surface-color, white);\n",
       "                }\n",
       "\n",
       "                .geemap-colab .jupyter-button {\n",
       "                    --jp-layout-color3: var(--colab-primary-surface-color, white);\n",
       "                }\n",
       "            </style>\n",
       "            "
      ],
      "text/plain": [
       "<IPython.core.display.HTML object>"
      ]
     },
     "metadata": {},
     "output_type": "display_data"
    },
    {
     "name": "stdout",
     "output_type": "stream",
     "text": [
      "Generating URL...\n",
      "Downloading GIF image from https://earthengine.googleapis.com/v1/projects/ee-eslamelnahas-jupyter/videoThumbnails/4c162bef8c47961b9cd086955938e2c1-e920b664467d5246c631f8d11a3b0c2c:getPixels\n",
      "Please wait ...\n",
      "The GIF image has been saved to: C:\\Users\\Lenovo\\Downloads\\temperature.gif\n"
     ]
    }
   ],
   "source": [
    "saved_gif = os.path.join(os.path.expanduser(\"~\"), \"Downloads/temperature.gif\")\n",
    "geemap.download_ee_video(tempCol, videoArgs, saved_gif)"
   ]
  },
  {
   "cell_type": "code",
   "execution_count": 60,
   "id": "23",
   "metadata": {},
   "outputs": [
    {
     "data": {
      "text/html": [
       "\n",
       "            <style>\n",
       "                .geemap-dark {\n",
       "                    --jp-widgets-color: white;\n",
       "                    --jp-widgets-label-color: white;\n",
       "                    --jp-ui-font-color1: white;\n",
       "                    --jp-layout-color2: #454545;\n",
       "                    background-color: #383838;\n",
       "                }\n",
       "\n",
       "                .geemap-dark .jupyter-button {\n",
       "                    --jp-layout-color3: #383838;\n",
       "                }\n",
       "\n",
       "                .geemap-colab {\n",
       "                    background-color: var(--colab-primary-surface-color, white);\n",
       "                }\n",
       "\n",
       "                .geemap-colab .jupyter-button {\n",
       "                    --jp-layout-color3: var(--colab-primary-surface-color, white);\n",
       "                }\n",
       "            </style>\n",
       "            "
      ],
      "text/plain": [
       "<IPython.core.display.HTML object>"
      ]
     },
     "metadata": {},
     "output_type": "display_data"
    },
    {
     "data": {
      "application/vnd.jupyter.widget-view+json": {
       "model_id": "0d8280d68173416f83077997bfe9a64f",
       "version_major": 2,
       "version_minor": 0
      },
      "text/plain": [
       "Output()"
      ]
     },
     "metadata": {},
     "output_type": "display_data"
    }
   ],
   "source": [
    "geemap.show_image(saved_gif)"
   ]
  },
  {
   "cell_type": "markdown",
   "id": "24",
   "metadata": {},
   "source": [
    "### Generate an hourly text sequence"
   ]
  },
  {
   "cell_type": "code",
   "execution_count": 63,
   "id": "25",
   "metadata": {},
   "outputs": [
    {
     "data": {
      "text/html": [
       "\n",
       "            <style>\n",
       "                .geemap-dark {\n",
       "                    --jp-widgets-color: white;\n",
       "                    --jp-widgets-label-color: white;\n",
       "                    --jp-ui-font-color1: white;\n",
       "                    --jp-layout-color2: #454545;\n",
       "                    background-color: #383838;\n",
       "                }\n",
       "\n",
       "                .geemap-dark .jupyter-button {\n",
       "                    --jp-layout-color3: #383838;\n",
       "                }\n",
       "\n",
       "                .geemap-colab {\n",
       "                    background-color: var(--colab-primary-surface-color, white);\n",
       "                }\n",
       "\n",
       "                .geemap-colab .jupyter-button {\n",
       "                    --jp-layout-color3: var(--colab-primary-surface-color, white);\n",
       "                }\n",
       "            </style>\n",
       "            "
      ],
      "text/plain": [
       "<IPython.core.display.HTML object>"
      ]
     },
     "metadata": {},
     "output_type": "display_data"
    },
    {
     "name": "stdout",
     "output_type": "stream",
     "text": [
      "['00:00', '01:00', '02:00', '03:00', '04:00', '05:00', '06:00', '07:00', '08:00', '09:00', '10:00', '11:00', '12:00', '13:00', '14:00', '15:00', '16:00', '17:00', '18:00', '19:00', '20:00', '21:00', '22:00', '23:00']\n"
     ]
    }
   ],
   "source": [
    "text = [str(n).zfill(2) + \":00\" for n in range(0, 24)]\n",
    "print(text)"
   ]
  },
  {
   "cell_type": "markdown",
   "id": "26",
   "metadata": {},
   "source": [
    "### Add text to GIF"
   ]
  },
  {
   "cell_type": "code",
   "execution_count": 66,
   "id": "27",
   "metadata": {},
   "outputs": [
    {
     "data": {
      "text/html": [
       "\n",
       "            <style>\n",
       "                .geemap-dark {\n",
       "                    --jp-widgets-color: white;\n",
       "                    --jp-widgets-label-color: white;\n",
       "                    --jp-ui-font-color1: white;\n",
       "                    --jp-layout-color2: #454545;\n",
       "                    background-color: #383838;\n",
       "                }\n",
       "\n",
       "                .geemap-dark .jupyter-button {\n",
       "                    --jp-layout-color3: #383838;\n",
       "                }\n",
       "\n",
       "                .geemap-colab {\n",
       "                    background-color: var(--colab-primary-surface-color, white);\n",
       "                }\n",
       "\n",
       "                .geemap-colab .jupyter-button {\n",
       "                    --jp-layout-color3: var(--colab-primary-surface-color, white);\n",
       "                }\n",
       "            </style>\n",
       "            "
      ],
      "text/plain": [
       "<IPython.core.display.HTML object>"
      ]
     },
     "metadata": {},
     "output_type": "display_data"
    }
   ],
   "source": [
    "out_gif = os.path.join(os.path.expanduser(\"~\"), \"Downloads/output2.gif\")"
   ]
  },
  {
   "cell_type": "code",
   "execution_count": 68,
   "id": "28",
   "metadata": {},
   "outputs": [
    {
     "data": {
      "text/html": [
       "\n",
       "            <style>\n",
       "                .geemap-dark {\n",
       "                    --jp-widgets-color: white;\n",
       "                    --jp-widgets-label-color: white;\n",
       "                    --jp-ui-font-color1: white;\n",
       "                    --jp-layout-color2: #454545;\n",
       "                    background-color: #383838;\n",
       "                }\n",
       "\n",
       "                .geemap-dark .jupyter-button {\n",
       "                    --jp-layout-color3: #383838;\n",
       "                }\n",
       "\n",
       "                .geemap-colab {\n",
       "                    background-color: var(--colab-primary-surface-color, white);\n",
       "                }\n",
       "\n",
       "                .geemap-colab .jupyter-button {\n",
       "                    --jp-layout-color3: var(--colab-primary-surface-color, white);\n",
       "                }\n",
       "            </style>\n",
       "            "
      ],
      "text/plain": [
       "<IPython.core.display.HTML object>"
      ]
     },
     "metadata": {},
     "output_type": "display_data"
    }
   ],
   "source": [
    "geemap.add_text_to_gif(\n",
    "    saved_gif,\n",
    "    out_gif,\n",
    "    xy=(\"3%\", \"5%\"),\n",
    "    text_sequence=text,\n",
    "    font_size=30,\n",
    "    font_color=\"#ffffff\",\n",
    ")"
   ]
  },
  {
   "cell_type": "code",
   "execution_count": 70,
   "id": "29",
   "metadata": {},
   "outputs": [
    {
     "data": {
      "text/html": [
       "\n",
       "            <style>\n",
       "                .geemap-dark {\n",
       "                    --jp-widgets-color: white;\n",
       "                    --jp-widgets-label-color: white;\n",
       "                    --jp-ui-font-color1: white;\n",
       "                    --jp-layout-color2: #454545;\n",
       "                    background-color: #383838;\n",
       "                }\n",
       "\n",
       "                .geemap-dark .jupyter-button {\n",
       "                    --jp-layout-color3: #383838;\n",
       "                }\n",
       "\n",
       "                .geemap-colab {\n",
       "                    background-color: var(--colab-primary-surface-color, white);\n",
       "                }\n",
       "\n",
       "                .geemap-colab .jupyter-button {\n",
       "                    --jp-layout-color3: var(--colab-primary-surface-color, white);\n",
       "                }\n",
       "            </style>\n",
       "            "
      ],
      "text/plain": [
       "<IPython.core.display.HTML object>"
      ]
     },
     "metadata": {},
     "output_type": "display_data"
    }
   ],
   "source": [
    "geemap.add_text_to_gif(\n",
    "    out_gif,\n",
    "    out_gif,\n",
    "    xy=(\"32%\", \"92%\"),\n",
    "    text_sequence=\"NOAA GFS Hourly Temperature\",\n",
    "    font_color=\"white\",\n",
    ")"
   ]
  },
  {
   "cell_type": "code",
   "execution_count": 71,
   "id": "30",
   "metadata": {},
   "outputs": [
    {
     "data": {
      "text/html": [
       "\n",
       "            <style>\n",
       "                .geemap-dark {\n",
       "                    --jp-widgets-color: white;\n",
       "                    --jp-widgets-label-color: white;\n",
       "                    --jp-ui-font-color1: white;\n",
       "                    --jp-layout-color2: #454545;\n",
       "                    background-color: #383838;\n",
       "                }\n",
       "\n",
       "                .geemap-dark .jupyter-button {\n",
       "                    --jp-layout-color3: #383838;\n",
       "                }\n",
       "\n",
       "                .geemap-colab {\n",
       "                    background-color: var(--colab-primary-surface-color, white);\n",
       "                }\n",
       "\n",
       "                .geemap-colab .jupyter-button {\n",
       "                    --jp-layout-color3: var(--colab-primary-surface-color, white);\n",
       "                }\n",
       "            </style>\n",
       "            "
      ],
      "text/plain": [
       "<IPython.core.display.HTML object>"
      ]
     },
     "metadata": {},
     "output_type": "display_data"
    },
    {
     "data": {
      "application/vnd.jupyter.widget-view+json": {
       "model_id": "52afbce72ffe46d8a8061cf283996a62",
       "version_major": 2,
       "version_minor": 0
      },
      "text/plain": [
       "Output()"
      ]
     },
     "metadata": {},
     "output_type": "display_data"
    }
   ],
   "source": [
    "geemap.show_image(out_gif)"
   ]
  },
  {
   "cell_type": "code",
   "execution_count": null,
   "id": "1047a0ef-1d33-4f6e-818c-6009ec835380",
   "metadata": {},
   "outputs": [],
   "source": []
  },
  {
   "cell_type": "code",
   "execution_count": 88,
   "id": "a08376da-1a93-444c-b7f7-29ad46b058f9",
   "metadata": {},
   "outputs": [
    {
     "data": {
      "text/html": [
       "\n",
       "            <style>\n",
       "                .geemap-dark {\n",
       "                    --jp-widgets-color: white;\n",
       "                    --jp-widgets-label-color: white;\n",
       "                    --jp-ui-font-color1: white;\n",
       "                    --jp-layout-color2: #454545;\n",
       "                    background-color: #383838;\n",
       "                }\n",
       "\n",
       "                .geemap-dark .jupyter-button {\n",
       "                    --jp-layout-color3: #383838;\n",
       "                }\n",
       "\n",
       "                .geemap-colab {\n",
       "                    background-color: var(--colab-primary-surface-color, white);\n",
       "                }\n",
       "\n",
       "                .geemap-colab .jupyter-button {\n",
       "                    --jp-layout-color3: var(--colab-primary-surface-color, white);\n",
       "                }\n",
       "            </style>\n",
       "            "
      ],
      "text/plain": [
       "<IPython.core.display.HTML object>"
      ]
     },
     "metadata": {},
     "output_type": "display_data"
    }
   ],
   "source": [
    "import ee\n",
    "import geemap\n",
    "\n",
    "ee.Authenticate()\n",
    "ee.Initialize(project='ee-eslamelnahas-jupyter')\n",
    "\n",
    "# Define an area of interest geometry with a global non-polar extent.\n",
    "Egypt= ee.Geometry.Polygon(\n",
    "    [[[24.0, 32.0], [24.0, 22.0], [37.0, 22.0], [37.0, 32]]], None, False\n",
    ")\n",
    "\n",
    "# Import hourly predicted temperature image collection for northern winter\n",
    "# solstice. Note that predictions extend for 384 hours; limit the collection\n",
    "# to the first 24 hours.\n",
    "tempCol = (\n",
    "    ee.ImageCollection(\"NOAA/GFS0P25\")\n",
    "    .filterDate(\"2024-1-1\", \"2024-1-2\")\n",
    "    .limit(24)\n",
    "    .select(\"temperature_2m_above_ground\")\n",
    ")\n",
    "\n",
    "# Define arguments for animation function parameters.\n",
    "videoArgs = {\n",
    "    \"dimensions\": 768,\n",
    "    \"region\": Egypt,\n",
    "    \"framesPerSecond\": 10,\n",
    "    \"crs\": \"EPSG:3857\",\n",
    "    \"min\": -40.0,\n",
    "    \"max\": 35.0,\n",
    "    \"palette\": [\"blue\", \"purple\", \"cyan\", \"green\", \"yellow\", \"red\"],\n",
    "}"
   ]
  },
  {
   "cell_type": "code",
   "execution_count": 89,
   "id": "dc6810a5-fa0d-4484-b7b3-2ca9ccbaf676",
   "metadata": {},
   "outputs": [
    {
     "data": {
      "text/html": [
       "\n",
       "            <style>\n",
       "                .geemap-dark {\n",
       "                    --jp-widgets-color: white;\n",
       "                    --jp-widgets-label-color: white;\n",
       "                    --jp-ui-font-color1: white;\n",
       "                    --jp-layout-color2: #454545;\n",
       "                    background-color: #383838;\n",
       "                }\n",
       "\n",
       "                .geemap-dark .jupyter-button {\n",
       "                    --jp-layout-color3: #383838;\n",
       "                }\n",
       "\n",
       "                .geemap-colab {\n",
       "                    background-color: var(--colab-primary-surface-color, white);\n",
       "                }\n",
       "\n",
       "                .geemap-colab .jupyter-button {\n",
       "                    --jp-layout-color3: var(--colab-primary-surface-color, white);\n",
       "                }\n",
       "            </style>\n",
       "            "
      ],
      "text/plain": [
       "<IPython.core.display.HTML object>"
      ]
     },
     "metadata": {},
     "output_type": "display_data"
    },
    {
     "name": "stdout",
     "output_type": "stream",
     "text": [
      "Generating URL...\n",
      "Downloading GIF image from https://earthengine.googleapis.com/v1/projects/ee-eslamelnahas-jupyter/videoThumbnails/c5e85d244b2e7bcee9ae558d2d390c93-778cacbcb0937522bb8b95aaccc716ce:getPixels\n",
      "Please wait ...\n",
      "The GIF image has been saved to: C:\\Users\\Lenovo\\Downloads\\temperature_EGY.gif\n"
     ]
    }
   ],
   "source": [
    "saved_gif_EGY = os.path.join(os.path.expanduser(\"~\"), \"Downloads/temperature_EGY.gif\")\n",
    "geemap.download_ee_video(tempCol, videoArgs, saved_gif_EGY)"
   ]
  },
  {
   "cell_type": "code",
   "execution_count": 90,
   "id": "af58b7ee-0a16-476f-9949-eae55db0b33c",
   "metadata": {},
   "outputs": [
    {
     "data": {
      "text/html": [
       "\n",
       "            <style>\n",
       "                .geemap-dark {\n",
       "                    --jp-widgets-color: white;\n",
       "                    --jp-widgets-label-color: white;\n",
       "                    --jp-ui-font-color1: white;\n",
       "                    --jp-layout-color2: #454545;\n",
       "                    background-color: #383838;\n",
       "                }\n",
       "\n",
       "                .geemap-dark .jupyter-button {\n",
       "                    --jp-layout-color3: #383838;\n",
       "                }\n",
       "\n",
       "                .geemap-colab {\n",
       "                    background-color: var(--colab-primary-surface-color, white);\n",
       "                }\n",
       "\n",
       "                .geemap-colab .jupyter-button {\n",
       "                    --jp-layout-color3: var(--colab-primary-surface-color, white);\n",
       "                }\n",
       "            </style>\n",
       "            "
      ],
      "text/plain": [
       "<IPython.core.display.HTML object>"
      ]
     },
     "metadata": {},
     "output_type": "display_data"
    },
    {
     "data": {
      "application/vnd.jupyter.widget-view+json": {
       "model_id": "5f79a58fcf6946978a98d3ee3a83a5e6",
       "version_major": 2,
       "version_minor": 0
      },
      "text/plain": [
       "Output()"
      ]
     },
     "metadata": {},
     "output_type": "display_data"
    }
   ],
   "source": [
    "geemap.show_image(saved_gif_EGY)"
   ]
  },
  {
   "cell_type": "code",
   "execution_count": 94,
   "id": "98fbe4d4-0fec-4329-9be4-6b24a99d04c9",
   "metadata": {},
   "outputs": [
    {
     "data": {
      "text/html": [
       "\n",
       "            <style>\n",
       "                .geemap-dark {\n",
       "                    --jp-widgets-color: white;\n",
       "                    --jp-widgets-label-color: white;\n",
       "                    --jp-ui-font-color1: white;\n",
       "                    --jp-layout-color2: #454545;\n",
       "                    background-color: #383838;\n",
       "                }\n",
       "\n",
       "                .geemap-dark .jupyter-button {\n",
       "                    --jp-layout-color3: #383838;\n",
       "                }\n",
       "\n",
       "                .geemap-colab {\n",
       "                    background-color: var(--colab-primary-surface-color, white);\n",
       "                }\n",
       "\n",
       "                .geemap-colab .jupyter-button {\n",
       "                    --jp-layout-color3: var(--colab-primary-surface-color, white);\n",
       "                }\n",
       "            </style>\n",
       "            "
      ],
      "text/plain": [
       "<IPython.core.display.HTML object>"
      ]
     },
     "metadata": {},
     "output_type": "display_data"
    },
    {
     "name": "stdout",
     "output_type": "stream",
     "text": [
      "['00:00', '01:00', '02:00', '03:00', '04:00', '05:00', '06:00', '07:00', '08:00', '09:00', '10:00', '11:00', '12:00', '13:00', '14:00', '15:00', '16:00', '17:00', '18:00', '19:00', '20:00', '21:00', '22:00', '23:00']\n"
     ]
    }
   ],
   "source": [
    "text_Eslam = [str(n).zfill(2) + \":00\" for n in range(0, 24)]\n",
    "print(text)"
   ]
  },
  {
   "cell_type": "code",
   "execution_count": 96,
   "id": "037d2c24-da03-4fdc-9c19-52994085763f",
   "metadata": {},
   "outputs": [
    {
     "data": {
      "text/html": [
       "\n",
       "            <style>\n",
       "                .geemap-dark {\n",
       "                    --jp-widgets-color: white;\n",
       "                    --jp-widgets-label-color: white;\n",
       "                    --jp-ui-font-color1: white;\n",
       "                    --jp-layout-color2: #454545;\n",
       "                    background-color: #383838;\n",
       "                }\n",
       "\n",
       "                .geemap-dark .jupyter-button {\n",
       "                    --jp-layout-color3: #383838;\n",
       "                }\n",
       "\n",
       "                .geemap-colab {\n",
       "                    background-color: var(--colab-primary-surface-color, white);\n",
       "                }\n",
       "\n",
       "                .geemap-colab .jupyter-button {\n",
       "                    --jp-layout-color3: var(--colab-primary-surface-color, white);\n",
       "                }\n",
       "            </style>\n",
       "            "
      ],
      "text/plain": [
       "<IPython.core.display.HTML object>"
      ]
     },
     "metadata": {},
     "output_type": "display_data"
    }
   ],
   "source": [
    "out_gif = os.path.join(os.path.expanduser(\"~\"), \"Downloads/output_EGY.gif\")"
   ]
  },
  {
   "cell_type": "code",
   "execution_count": 122,
   "id": "406b9ce0-bea6-4730-8b62-28d244cb03d6",
   "metadata": {},
   "outputs": [
    {
     "data": {
      "text/html": [
       "\n",
       "            <style>\n",
       "                .geemap-dark {\n",
       "                    --jp-widgets-color: white;\n",
       "                    --jp-widgets-label-color: white;\n",
       "                    --jp-ui-font-color1: white;\n",
       "                    --jp-layout-color2: #454545;\n",
       "                    background-color: #383838;\n",
       "                }\n",
       "\n",
       "                .geemap-dark .jupyter-button {\n",
       "                    --jp-layout-color3: #383838;\n",
       "                }\n",
       "\n",
       "                .geemap-colab {\n",
       "                    background-color: var(--colab-primary-surface-color, white);\n",
       "                }\n",
       "\n",
       "                .geemap-colab .jupyter-button {\n",
       "                    --jp-layout-color3: var(--colab-primary-surface-color, white);\n",
       "                }\n",
       "            </style>\n",
       "            "
      ],
      "text/plain": [
       "<IPython.core.display.HTML object>"
      ]
     },
     "metadata": {},
     "output_type": "display_data"
    }
   ],
   "source": [
    "geemap.add_text_to_gif(\n",
    "    saved_gif_EGY,\n",
    "    out_gif,\n",
    "    xy=(\"3%\", \"5%\"),\n",
    "    text_sequence=text_Eslam,\n",
    "    font_size=30,\n",
    "    font_color=\"#ffffff\",\n",
    "    )"
   ]
  },
  {
   "cell_type": "code",
   "execution_count": 123,
   "id": "97274d5b-8899-40df-ad8c-88b5475914f9",
   "metadata": {},
   "outputs": [
    {
     "data": {
      "text/html": [
       "\n",
       "            <style>\n",
       "                .geemap-dark {\n",
       "                    --jp-widgets-color: white;\n",
       "                    --jp-widgets-label-color: white;\n",
       "                    --jp-ui-font-color1: white;\n",
       "                    --jp-layout-color2: #454545;\n",
       "                    background-color: #383838;\n",
       "                }\n",
       "\n",
       "                .geemap-dark .jupyter-button {\n",
       "                    --jp-layout-color3: #383838;\n",
       "                }\n",
       "\n",
       "                .geemap-colab {\n",
       "                    background-color: var(--colab-primary-surface-color, white);\n",
       "                }\n",
       "\n",
       "                .geemap-colab .jupyter-button {\n",
       "                    --jp-layout-color3: var(--colab-primary-surface-color, white);\n",
       "                }\n",
       "            </style>\n",
       "            "
      ],
      "text/plain": [
       "<IPython.core.display.HTML object>"
      ]
     },
     "metadata": {},
     "output_type": "display_data"
    }
   ],
   "source": [
    "geemap.add_text_to_gif(\n",
    "    out_gif,\n",
    "    out_gif,\n",
    "    xy=(\"32%\", \"92%\"),\n",
    "    text_sequence=\"NOAA GFS Hourly Temperature\",\n",
    "    font_color=\"white\",\n",
    "    duration=1000,\n",
    ")"
   ]
  },
  {
   "cell_type": "code",
   "execution_count": 125,
   "id": "f171851b-ea01-4036-b395-78656a278438",
   "metadata": {},
   "outputs": [
    {
     "data": {
      "text/html": [
       "\n",
       "            <style>\n",
       "                .geemap-dark {\n",
       "                    --jp-widgets-color: white;\n",
       "                    --jp-widgets-label-color: white;\n",
       "                    --jp-ui-font-color1: white;\n",
       "                    --jp-layout-color2: #454545;\n",
       "                    background-color: #383838;\n",
       "                }\n",
       "\n",
       "                .geemap-dark .jupyter-button {\n",
       "                    --jp-layout-color3: #383838;\n",
       "                }\n",
       "\n",
       "                .geemap-colab {\n",
       "                    background-color: var(--colab-primary-surface-color, white);\n",
       "                }\n",
       "\n",
       "                .geemap-colab .jupyter-button {\n",
       "                    --jp-layout-color3: var(--colab-primary-surface-color, white);\n",
       "                }\n",
       "            </style>\n",
       "            "
      ],
      "text/plain": [
       "<IPython.core.display.HTML object>"
      ]
     },
     "metadata": {},
     "output_type": "display_data"
    },
    {
     "data": {
      "application/vnd.jupyter.widget-view+json": {
       "model_id": "d39bcc92ddd047d1a961137e8a047db5",
       "version_major": 2,
       "version_minor": 0
      },
      "text/plain": [
       "Output()"
      ]
     },
     "metadata": {},
     "output_type": "display_data"
    }
   ],
   "source": [
    "geemap.show_image(out_gif)\n"
   ]
  },
  {
   "cell_type": "code",
   "execution_count": null,
   "id": "30ea7c8a-7bfd-48d4-8e0b-0a1994469b7d",
   "metadata": {},
   "outputs": [],
   "source": []
  }
 ],
 "metadata": {
  "kernelspec": {
   "display_name": "Python 3 (ipykernel)",
   "language": "python",
   "name": "python3"
  },
  "language_info": {
   "codemirror_mode": {
    "name": "ipython",
    "version": 3
   },
   "file_extension": ".py",
   "mimetype": "text/x-python",
   "name": "python",
   "nbconvert_exporter": "python",
   "pygments_lexer": "ipython3",
   "version": "3.11.7"
  }
 },
 "nbformat": 4,
 "nbformat_minor": 5
}
