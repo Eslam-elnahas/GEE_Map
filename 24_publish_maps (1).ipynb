{
 "cells": [
  {
   "cell_type": "code",
   "execution_count": 1,
   "id": "1",
   "metadata": {},
   "outputs": [],
   "source": [
    "# !pip install geemap\n"
   ]
  },
  {
   "cell_type": "markdown",
   "id": "2",
   "metadata": {},
   "source": [
    "To follow this tutorial, you will need to [sign up](https://datapane.com/accounts/signup/) for an account with <https://datapane.com>, then install and authenticate the `datapane` Python package. More information can be found [here](https://docs.datapane.com/tutorials/tut-getting-started). \n",
    "\n",
    "- `pip install datapane`\n",
    "- `datapane login`\n",
    "- `datapane ping`"
   ]
  },
  {
   "cell_type": "code",
   "execution_count": 3,
   "id": "3",
   "metadata": {},
   "outputs": [],
   "source": [
    "import ee\n",
    "import geemap.foliumap as geemap\n",
    "ee.Authenticate()\n",
    "ee.Initialize(project='ee-eslamelnahas-jupyter')\n"
   ]
  },
  {
   "cell_type": "code",
   "execution_count": 5,
   "id": "3015ec0c-7beb-4e78-8fba-2222e6900c92",
   "metadata": {},
   "outputs": [
    {
     "data": {
      "text/html": [
       "\n",
       "            <style>\n",
       "                .geemap-dark {\n",
       "                    --jp-widgets-color: white;\n",
       "                    --jp-widgets-label-color: white;\n",
       "                    --jp-ui-font-color1: white;\n",
       "                    --jp-layout-color2: #454545;\n",
       "                    background-color: #383838;\n",
       "                }\n",
       "\n",
       "                .geemap-dark .jupyter-button {\n",
       "                    --jp-layout-color3: #383838;\n",
       "                }\n",
       "\n",
       "                .geemap-colab {\n",
       "                    background-color: var(--colab-primary-surface-color, white);\n",
       "                }\n",
       "\n",
       "                .geemap-colab .jupyter-button {\n",
       "                    --jp-layout-color3: var(--colab-primary-surface-color, white);\n",
       "                }\n",
       "            </style>\n",
       "            "
      ],
      "text/plain": [
       "<IPython.core.display.HTML object>"
      ]
     },
     "metadata": {},
     "output_type": "display_data"
    }
   ],
   "source": [
    "import altair as alt\n",
    "import datapane as dp\n",
    "from vega_datasets import data"
   ]
  },
  {
   "cell_type": "code",
   "execution_count": 6,
   "id": "6c3c2926-e5f5-45e7-9584-30b7148b4900",
   "metadata": {},
   "outputs": [
    {
     "data": {
      "text/html": [
       "\n",
       "            <style>\n",
       "                .geemap-dark {\n",
       "                    --jp-widgets-color: white;\n",
       "                    --jp-widgets-label-color: white;\n",
       "                    --jp-ui-font-color1: white;\n",
       "                    --jp-layout-color2: #454545;\n",
       "                    background-color: #383838;\n",
       "                }\n",
       "\n",
       "                .geemap-dark .jupyter-button {\n",
       "                    --jp-layout-color3: #383838;\n",
       "                }\n",
       "\n",
       "                .geemap-colab {\n",
       "                    background-color: var(--colab-primary-surface-color, white);\n",
       "                }\n",
       "\n",
       "                .geemap-colab .jupyter-button {\n",
       "                    --jp-layout-color3: var(--colab-primary-surface-color, white);\n",
       "                }\n",
       "            </style>\n",
       "            "
      ],
      "text/plain": [
       "<IPython.core.display.HTML object>"
      ]
     },
     "metadata": {},
     "output_type": "display_data"
    },
    {
     "name": "stdout",
     "output_type": "stream",
     "text": [
      "['sepalLength', 'sepalWidth', 'petalLength', 'petalWidth', 'species']\n"
     ]
    }
   ],
   "source": [
    "df = data.iris()\n",
    "columns = list(df.columns)\n",
    "print(columns)"
   ]
  },
  {
   "cell_type": "code",
   "execution_count": 7,
   "id": "b62f79c2-32b6-4e9f-94ab-0190afae6f66",
   "metadata": {},
   "outputs": [
    {
     "data": {
      "text/html": [
       "\n",
       "            <style>\n",
       "                .geemap-dark {\n",
       "                    --jp-widgets-color: white;\n",
       "                    --jp-widgets-label-color: white;\n",
       "                    --jp-ui-font-color1: white;\n",
       "                    --jp-layout-color2: #454545;\n",
       "                    background-color: #383838;\n",
       "                }\n",
       "\n",
       "                .geemap-dark .jupyter-button {\n",
       "                    --jp-layout-color3: #383838;\n",
       "                }\n",
       "\n",
       "                .geemap-colab {\n",
       "                    background-color: var(--colab-primary-surface-color, white);\n",
       "                }\n",
       "\n",
       "                .geemap-colab .jupyter-button {\n",
       "                    --jp-layout-color3: var(--colab-primary-surface-color, white);\n",
       "                }\n",
       "            </style>\n",
       "            "
      ],
      "text/plain": [
       "<IPython.core.display.HTML object>"
      ]
     },
     "metadata": {},
     "output_type": "display_data"
    },
    {
     "name": "stderr",
     "output_type": "stream",
     "text": [
      "'datapane' is not recognized as an internal or external command,\n",
      "operable program or batch file.\n"
     ]
    }
   ],
   "source": [
    "!datapane login"
   ]
  },
  {
   "cell_type": "code",
   "execution_count": 11,
   "id": "64751175-3918-4a71-a152-7281c54d57a6",
   "metadata": {},
   "outputs": [
    {
     "data": {
      "text/html": [
       "\n",
       "            <style>\n",
       "                .geemap-dark {\n",
       "                    --jp-widgets-color: white;\n",
       "                    --jp-widgets-label-color: white;\n",
       "                    --jp-ui-font-color1: white;\n",
       "                    --jp-layout-color2: #454545;\n",
       "                    background-color: #383838;\n",
       "                }\n",
       "\n",
       "                .geemap-dark .jupyter-button {\n",
       "                    --jp-layout-color3: #383838;\n",
       "                }\n",
       "\n",
       "                .geemap-colab {\n",
       "                    background-color: var(--colab-primary-surface-color, white);\n",
       "                }\n",
       "\n",
       "                .geemap-colab .jupyter-button {\n",
       "                    --jp-layout-color3: var(--colab-primary-surface-color, white);\n",
       "                }\n",
       "            </style>\n",
       "            "
      ],
      "text/plain": [
       "<IPython.core.display.HTML object>"
      ]
     },
     "metadata": {},
     "output_type": "display_data"
    },
    {
     "name": "stderr",
     "output_type": "stream",
     "text": [
      "'datapane' is not recognized as an internal or external command,\n",
      "operable program or batch file.\n"
     ]
    }
   ],
   "source": [
    "!datapane ping"
   ]
  },
  {
   "cell_type": "code",
   "execution_count": 44,
   "id": "4",
   "metadata": {},
   "outputs": [
    {
     "data": {
      "text/html": [
       "\n",
       "            <style>\n",
       "                .geemap-dark {\n",
       "                    --jp-widgets-color: white;\n",
       "                    --jp-widgets-label-color: white;\n",
       "                    --jp-ui-font-color1: white;\n",
       "                    --jp-layout-color2: #454545;\n",
       "                    background-color: #383838;\n",
       "                }\n",
       "\n",
       "                .geemap-dark .jupyter-button {\n",
       "                    --jp-layout-color3: #383838;\n",
       "                }\n",
       "\n",
       "                .geemap-colab {\n",
       "                    background-color: var(--colab-primary-surface-color, white);\n",
       "                }\n",
       "\n",
       "                .geemap-colab .jupyter-button {\n",
       "                    --jp-layout-color3: var(--colab-primary-surface-color, white);\n",
       "                }\n",
       "            </style>\n",
       "            "
      ],
      "text/plain": [
       "<IPython.core.display.HTML object>"
      ]
     },
     "metadata": {},
     "output_type": "display_data"
    }
   ],
   "source": [
    "# Create a map centered at (lat, lon).\n",
    "Map = geemap.Map(center=[40, -100], zoom=4)\n",
    "\n",
    "# Use an elevation dataset and terrain functions to create\n",
    "# a custom visualization of topography.\n",
    "\n",
    "# Load a global elevation image.\n",
    "elev = ee.Image('USGS/GMTED2010')\n",
    "# Zoom to an area of interest.\n",
    "Map.setCenter(-121.069, 50.709, 6)\n",
    "\n",
    "# Add the elevation to the map.\n",
    "Map.addLayer(elev, {}, \"elev\")\n",
    "\n",
    "# Use the terrain algorithms to compute a hillshade with 8-bit values.\n",
    "shade = ee.Terrain.hillshade(elev)\n",
    "Map.addLayer(shade, {}, \"hillshade\", False)\n",
    "\n",
    "# Create a \"sea\" variable to be used for cartographic purposes\n",
    "sea = elev.lte(0)\n",
    "Map.addLayer(sea.mask(sea), {\"palette\": \"000022\"}, \"sea\", False)\n",
    "\n",
    "# Create a custom elevation palette from hex strings.\n",
    "elevationPalette = [\"006600\", \"002200\", \"fff700\", \"ab7634\", \"c4d0ff\", \"ffffff\"]\n",
    "# Use these visualization parameters, customized by location.\n",
    "visParams = {\"min\": 1, \"max\": 3000, \"palette\": elevationPalette}\n",
    "\n",
    "# Create a mosaic of the sea and the elevation data\n",
    "visualized = ee.ImageCollection(\n",
    "    [\n",
    "        # Mask the elevation to get only land\n",
    "        elev.mask(sea.Not()).visualize(**visParams),\n",
    "        # Use the sea mask directly to display sea.\n",
    "        sea.mask(sea).visualize(**{\"palette\": \"000022\"}),\n",
    "    ]\n",
    ").mosaic()\n",
    "\n",
    "# Note that the visualization image doesn't require visualization parameters.\n",
    "Map.addLayer(visualized, {}, \"elev palette\", False)\n",
    "\n",
    "# Convert the visualized elevation to HSV, first converting to [0, 1] data.\n",
    "hsv = visualized.divide(255).rgbToHsv()\n",
    "# Select only the hue and saturation bands.\n",
    "hs = hsv.select(0, 1)\n",
    "# Convert the hillshade to [0, 1] data, as expected by the HSV algorithm.\n",
    "v = shade.divide(255)\n",
    "# Create a visualization image by converting back to RGB from HSV.\n",
    "# Note the cast to byte in order to export the image correctly.\n",
    "rgb = hs.addBands(v).hsvToRgb().multiply(255).byte()\n",
    "Map.addLayer(rgb, {}, \"styled\")\n",
    "\n",
    "states = ee.FeatureCollection(\"TIGER/2018/States\")\n",
    "Map.addLayer(ee.Image().paint(states, 0, 2), {}, \"US States\")"
   ]
  },
  {
   "cell_type": "code",
   "execution_count": 11,
   "id": "5",
   "metadata": {},
   "outputs": [
    {
     "data": {
      "text/html": [
       "\n",
       "            <style>\n",
       "                .geemap-dark {\n",
       "                    --jp-widgets-color: white;\n",
       "                    --jp-widgets-label-color: white;\n",
       "                    --jp-ui-font-color1: white;\n",
       "                    --jp-layout-color2: #454545;\n",
       "                    background-color: #383838;\n",
       "                }\n",
       "\n",
       "                .geemap-dark .jupyter-button {\n",
       "                    --jp-layout-color3: #383838;\n",
       "                }\n",
       "\n",
       "                .geemap-colab {\n",
       "                    background-color: var(--colab-primary-surface-color, white);\n",
       "                }\n",
       "\n",
       "                .geemap-colab .jupyter-button {\n",
       "                    --jp-layout-color3: var(--colab-primary-surface-color, white);\n",
       "                }\n",
       "            </style>\n",
       "            "
      ],
      "text/plain": [
       "<IPython.core.display.HTML object>"
      ]
     },
     "metadata": {},
     "output_type": "display_data"
    },
    {
     "data": {
      "text/html": [
       "<iframe srcdoc=\"&lt;!DOCTYPE html&gt;\n",
       "&lt;html&gt;\n",
       "&lt;head&gt;\n",
       "    \n",
       "    &lt;meta http-equiv=&quot;content-type&quot; content=&quot;text/html; charset=UTF-8&quot; /&gt;\n",
       "    \n",
       "        &lt;script&gt;\n",
       "            L_NO_TOUCH = false;\n",
       "            L_DISABLE_3D = false;\n",
       "        &lt;/script&gt;\n",
       "    \n",
       "    &lt;style&gt;html, body {width: 100%;height: 100%;margin: 0;padding: 0;}&lt;/style&gt;\n",
       "    &lt;style&gt;#map {position:absolute;top:0;bottom:0;right:0;left:0;}&lt;/style&gt;\n",
       "    &lt;script src=&quot;https://cdn.jsdelivr.net/npm/leaflet@1.9.3/dist/leaflet.js&quot;&gt;&lt;/script&gt;\n",
       "    &lt;script src=&quot;https://code.jquery.com/jquery-3.7.1.min.js&quot;&gt;&lt;/script&gt;\n",
       "    &lt;script src=&quot;https://cdn.jsdelivr.net/npm/bootstrap@5.2.2/dist/js/bootstrap.bundle.min.js&quot;&gt;&lt;/script&gt;\n",
       "    &lt;script src=&quot;https://cdnjs.cloudflare.com/ajax/libs/Leaflet.awesome-markers/2.0.2/leaflet.awesome-markers.js&quot;&gt;&lt;/script&gt;\n",
       "    &lt;link rel=&quot;stylesheet&quot; href=&quot;https://cdn.jsdelivr.net/npm/leaflet@1.9.3/dist/leaflet.css&quot;/&gt;\n",
       "    &lt;link rel=&quot;stylesheet&quot; href=&quot;https://cdn.jsdelivr.net/npm/bootstrap@5.2.2/dist/css/bootstrap.min.css&quot;/&gt;\n",
       "    &lt;link rel=&quot;stylesheet&quot; href=&quot;https://netdna.bootstrapcdn.com/bootstrap/3.0.0/css/bootstrap-glyphicons.css&quot;/&gt;\n",
       "    &lt;link rel=&quot;stylesheet&quot; href=&quot;https://cdn.jsdelivr.net/npm/@fortawesome/fontawesome-free@6.2.0/css/all.min.css&quot;/&gt;\n",
       "    &lt;link rel=&quot;stylesheet&quot; href=&quot;https://cdnjs.cloudflare.com/ajax/libs/Leaflet.awesome-markers/2.0.2/leaflet.awesome-markers.css&quot;/&gt;\n",
       "    &lt;link rel=&quot;stylesheet&quot; href=&quot;https://cdn.jsdelivr.net/gh/python-visualization/folium/folium/templates/leaflet.awesome.rotate.min.css&quot;/&gt;\n",
       "    \n",
       "            &lt;meta name=&quot;viewport&quot; content=&quot;width=device-width,\n",
       "                initial-scale=1.0, maximum-scale=1.0, user-scalable=no&quot; /&gt;\n",
       "            &lt;style&gt;\n",
       "                #map_c8cf5893fa7731505cbef19eab685684 {\n",
       "                    position: relative;\n",
       "                    width: 100.0%;\n",
       "                    height: 100.0%;\n",
       "                    left: 0.0%;\n",
       "                    top: 0.0%;\n",
       "                }\n",
       "                .leaflet-container { font-size: 1rem; }\n",
       "            &lt;/style&gt;\n",
       "        \n",
       "    &lt;script src=&quot;https://cdn.jsdelivr.net/npm/leaflet.fullscreen@3.0.0/Control.FullScreen.min.js&quot;&gt;&lt;/script&gt;\n",
       "    &lt;link rel=&quot;stylesheet&quot; href=&quot;https://cdn.jsdelivr.net/npm/leaflet.fullscreen@3.0.0/Control.FullScreen.css&quot;/&gt;\n",
       "    &lt;script src=&quot;https://cdnjs.cloudflare.com/ajax/libs/leaflet.draw/1.0.2/leaflet.draw.js&quot;&gt;&lt;/script&gt;\n",
       "    &lt;link rel=&quot;stylesheet&quot; href=&quot;https://cdnjs.cloudflare.com/ajax/libs/leaflet.draw/1.0.2/leaflet.draw.css&quot;/&gt;\n",
       "    &lt;script src=&quot;https://unpkg.com/leaflet-control-geocoder/dist/Control.Geocoder.js&quot;&gt;&lt;/script&gt;\n",
       "    &lt;link rel=&quot;stylesheet&quot; href=&quot;https://unpkg.com/leaflet-control-geocoder/dist/Control.Geocoder.css&quot;/&gt;\n",
       "&lt;/head&gt;\n",
       "&lt;body&gt;\n",
       "    \n",
       "    \n",
       "            &lt;div class=&quot;folium-map&quot; id=&quot;map_c8cf5893fa7731505cbef19eab685684&quot; &gt;&lt;/div&gt;\n",
       "        \n",
       "&lt;/body&gt;\n",
       "&lt;script&gt;\n",
       "    \n",
       "    \n",
       "            var map_c8cf5893fa7731505cbef19eab685684 = L.map(\n",
       "                &quot;map_c8cf5893fa7731505cbef19eab685684&quot;,\n",
       "                {\n",
       "                    center: [40.0, -100.0],\n",
       "                    crs: L.CRS.EPSG3857,\n",
       "                    zoom: 4,\n",
       "                    zoomControl: true,\n",
       "                    preferCanvas: false,\n",
       "                    eeInitialize: true,\n",
       "                    addGoogleMap: false,\n",
       "                    pluginLatlngpopup: false,\n",
       "                    pluginFullscreen: true,\n",
       "                    pluginDraw: true,\n",
       "                    DrawExport: false,\n",
       "                    pluginMinimap: false,\n",
       "                    locateControl: false,\n",
       "                    searchControl: true,\n",
       "                    layersControl: true,\n",
       "                }\n",
       "            );\n",
       "\n",
       "            \n",
       "\n",
       "        \n",
       "    \n",
       "            var tile_layer_fe76c9df99844124d4657d2786585d24 = L.tileLayer(\n",
       "                &quot;https://tile.openstreetmap.org/{z}/{x}/{y}.png&quot;,\n",
       "                {&quot;attribution&quot;: &quot;\\u0026copy; \\u003ca href=\\&quot;https://www.openstreetmap.org/copyright\\&quot;\\u003eOpenStreetMap\\u003c/a\\u003e contributors&quot;, &quot;detectRetina&quot;: false, &quot;maxNativeZoom&quot;: 19, &quot;maxZoom&quot;: 30, &quot;minZoom&quot;: 0, &quot;noWrap&quot;: false, &quot;opacity&quot;: 1, &quot;subdomains&quot;: &quot;abc&quot;, &quot;tms&quot;: false}\n",
       "            );\n",
       "        \n",
       "    \n",
       "            tile_layer_fe76c9df99844124d4657d2786585d24.addTo(map_c8cf5893fa7731505cbef19eab685684);\n",
       "        \n",
       "    \n",
       "            L.control.fullscreen(\n",
       "                {&quot;forceSeparateButton&quot;: false, &quot;position&quot;: &quot;topleft&quot;, &quot;title&quot;: &quot;Full Screen&quot;, &quot;titleCancel&quot;: &quot;Exit Full Screen&quot;}\n",
       "            ).addTo(map_c8cf5893fa7731505cbef19eab685684);\n",
       "        \n",
       "    \n",
       "            var options = {\n",
       "              position: &quot;topleft&quot;,\n",
       "              draw: {},\n",
       "              edit: {},\n",
       "            }\n",
       "            // FeatureGroup is to store editable layers.\n",
       "            var drawnItems_draw_control_29723d9eed60a7ee1afa4612728dbe36 = new L.featureGroup().addTo(\n",
       "                map_c8cf5893fa7731505cbef19eab685684\n",
       "            );\n",
       "            options.edit.featureGroup = drawnItems_draw_control_29723d9eed60a7ee1afa4612728dbe36;\n",
       "            var draw_control_29723d9eed60a7ee1afa4612728dbe36 = new L.Control.Draw(\n",
       "                options\n",
       "            ).addTo( map_c8cf5893fa7731505cbef19eab685684 );\n",
       "            map_c8cf5893fa7731505cbef19eab685684.on(L.Draw.Event.CREATED, function(e) {\n",
       "                var layer = e.layer,\n",
       "                    type = e.layerType;\n",
       "                var coords = JSON.stringify(layer.toGeoJSON());\n",
       "                layer.on(&#x27;click&#x27;, function() {\n",
       "                    alert(coords);\n",
       "                    console.log(coords);\n",
       "                });\n",
       "                drawnItems_draw_control_29723d9eed60a7ee1afa4612728dbe36.addLayer(layer);\n",
       "             });\n",
       "            map_c8cf5893fa7731505cbef19eab685684.on(&#x27;draw:created&#x27;, function(e) {\n",
       "                drawnItems_draw_control_29723d9eed60a7ee1afa4612728dbe36.addLayer(e.layer);\n",
       "            });\n",
       "            \n",
       "        \n",
       "    \n",
       "\n",
       "            var geocoderOpts_geocoder_28407c746b5b8bddeaa025b74167f31d = {&quot;collapsed&quot;: true, &quot;defaultMarkGeocode&quot;: true, &quot;position&quot;: &quot;topleft&quot;, &quot;provider&quot;: &quot;nominatim&quot;, &quot;providerOptions&quot;: {}, &quot;zoom&quot;: 11};\n",
       "\n",
       "            // note: geocoder name should start with lowercase\n",
       "            var geocoderName_geocoder_28407c746b5b8bddeaa025b74167f31d = geocoderOpts_geocoder_28407c746b5b8bddeaa025b74167f31d[&quot;provider&quot;];\n",
       "\n",
       "            var customGeocoder_geocoder_28407c746b5b8bddeaa025b74167f31d = L.Control.Geocoder[ geocoderName_geocoder_28407c746b5b8bddeaa025b74167f31d ](\n",
       "                geocoderOpts_geocoder_28407c746b5b8bddeaa025b74167f31d[&#x27;providerOptions&#x27;]\n",
       "            );\n",
       "            geocoderOpts_geocoder_28407c746b5b8bddeaa025b74167f31d[&quot;geocoder&quot;] = customGeocoder_geocoder_28407c746b5b8bddeaa025b74167f31d;\n",
       "\n",
       "            L.Control.geocoder(\n",
       "                geocoderOpts_geocoder_28407c746b5b8bddeaa025b74167f31d\n",
       "            ).on(&#x27;markgeocode&#x27;, function(e) {\n",
       "                var zoom = geocoderOpts_geocoder_28407c746b5b8bddeaa025b74167f31d[&#x27;zoom&#x27;] || map_c8cf5893fa7731505cbef19eab685684.getZoom();\n",
       "                map_c8cf5893fa7731505cbef19eab685684.setView(e.geocode.center, zoom);\n",
       "            }).addTo(map_c8cf5893fa7731505cbef19eab685684);\n",
       "\n",
       "        \n",
       "    \n",
       "            map_c8cf5893fa7731505cbef19eab685684.fitBounds(\n",
       "                [[40, -100], [40, -100]],\n",
       "                {&quot;maxZoom&quot;: 4}\n",
       "            );\n",
       "        \n",
       "    \n",
       "            map_c8cf5893fa7731505cbef19eab685684.fitBounds(\n",
       "                [[50.709, -121.069], [50.709, -121.069]],\n",
       "                {&quot;maxZoom&quot;: 6}\n",
       "            );\n",
       "        \n",
       "    \n",
       "            var tile_layer_32311b331f1863f25d7a085cd234f46a = L.tileLayer(\n",
       "                &quot;https://earthengine.googleapis.com/v1/projects/ee-eslamelnahas-jupyter/maps/bdd6a03de73ff60fbf141d284e26a35b-9cce78c041c73e0c99cfbc9b54f2afe1/tiles/{z}/{x}/{y}&quot;,\n",
       "                {&quot;attribution&quot;: &quot;Google Earth Engine&quot;, &quot;detectRetina&quot;: false, &quot;maxZoom&quot;: 24, &quot;minZoom&quot;: 0, &quot;noWrap&quot;: false, &quot;opacity&quot;: 1.0, &quot;subdomains&quot;: &quot;abc&quot;, &quot;tms&quot;: false}\n",
       "            );\n",
       "        \n",
       "    \n",
       "            tile_layer_32311b331f1863f25d7a085cd234f46a.addTo(map_c8cf5893fa7731505cbef19eab685684);\n",
       "        \n",
       "    \n",
       "            var tile_layer_6cf156903e6b19379c02198b5aa8ada1 = L.tileLayer(\n",
       "                &quot;https://earthengine.googleapis.com/v1/projects/ee-eslamelnahas-jupyter/maps/2a2be3c13a5debcd084ecf7ef963617a-69653d6ab0a3e290ad39b6d4530d8574/tiles/{z}/{x}/{y}&quot;,\n",
       "                {&quot;attribution&quot;: &quot;Google Earth Engine&quot;, &quot;detectRetina&quot;: false, &quot;maxZoom&quot;: 24, &quot;minZoom&quot;: 0, &quot;noWrap&quot;: false, &quot;opacity&quot;: 1.0, &quot;subdomains&quot;: &quot;abc&quot;, &quot;tms&quot;: false}\n",
       "            );\n",
       "        \n",
       "    \n",
       "            var tile_layer_e0265124b696e3c6c6145e2567ec79e8 = L.tileLayer(\n",
       "                &quot;https://earthengine.googleapis.com/v1/projects/ee-eslamelnahas-jupyter/maps/11c2b1c30698596d9169d1656d4b23a7-7da4882c8eb378ef7969ea89d802433d/tiles/{z}/{x}/{y}&quot;,\n",
       "                {&quot;attribution&quot;: &quot;Google Earth Engine&quot;, &quot;detectRetina&quot;: false, &quot;maxZoom&quot;: 24, &quot;minZoom&quot;: 0, &quot;noWrap&quot;: false, &quot;opacity&quot;: 1.0, &quot;subdomains&quot;: &quot;abc&quot;, &quot;tms&quot;: false}\n",
       "            );\n",
       "        \n",
       "    \n",
       "            var tile_layer_aa7707fde64da4479aa9005bdb9e963f = L.tileLayer(\n",
       "                &quot;https://earthengine.googleapis.com/v1/projects/ee-eslamelnahas-jupyter/maps/7ab09697014c8639a2b38a4630c985a6-ed30330effe80ef25efef4dcb001b4db/tiles/{z}/{x}/{y}&quot;,\n",
       "                {&quot;attribution&quot;: &quot;Google Earth Engine&quot;, &quot;detectRetina&quot;: false, &quot;maxZoom&quot;: 24, &quot;minZoom&quot;: 0, &quot;noWrap&quot;: false, &quot;opacity&quot;: 1.0, &quot;subdomains&quot;: &quot;abc&quot;, &quot;tms&quot;: false}\n",
       "            );\n",
       "        \n",
       "    \n",
       "            var tile_layer_8dc60e5c9962f8372b52cc8959bd7f4f = L.tileLayer(\n",
       "                &quot;https://earthengine.googleapis.com/v1/projects/ee-eslamelnahas-jupyter/maps/2901c6183c2c5aceef0e5927c8a32bc6-b0b845b8e81f9ef798956291ae6f7d8d/tiles/{z}/{x}/{y}&quot;,\n",
       "                {&quot;attribution&quot;: &quot;Google Earth Engine&quot;, &quot;detectRetina&quot;: false, &quot;maxZoom&quot;: 24, &quot;minZoom&quot;: 0, &quot;noWrap&quot;: false, &quot;opacity&quot;: 1.0, &quot;subdomains&quot;: &quot;abc&quot;, &quot;tms&quot;: false}\n",
       "            );\n",
       "        \n",
       "    \n",
       "            tile_layer_8dc60e5c9962f8372b52cc8959bd7f4f.addTo(map_c8cf5893fa7731505cbef19eab685684);\n",
       "        \n",
       "    \n",
       "            var tile_layer_2dd4110b39071aa200f81558d29df532 = L.tileLayer(\n",
       "                &quot;https://earthengine.googleapis.com/v1/projects/ee-eslamelnahas-jupyter/maps/a6f77aeb181cb5d4740c338446a88a70-fb94e18e56d39583826c535d00dfb380/tiles/{z}/{x}/{y}&quot;,\n",
       "                {&quot;attribution&quot;: &quot;Google Earth Engine&quot;, &quot;detectRetina&quot;: false, &quot;maxZoom&quot;: 24, &quot;minZoom&quot;: 0, &quot;noWrap&quot;: false, &quot;opacity&quot;: 1.0, &quot;subdomains&quot;: &quot;abc&quot;, &quot;tms&quot;: false}\n",
       "            );\n",
       "        \n",
       "    \n",
       "            tile_layer_2dd4110b39071aa200f81558d29df532.addTo(map_c8cf5893fa7731505cbef19eab685684);\n",
       "        \n",
       "    \n",
       "            var layer_control_b728979720b5cf60ff878442cf797152_layers = {\n",
       "                base_layers : {\n",
       "                    &quot;openstreetmap&quot; : tile_layer_fe76c9df99844124d4657d2786585d24,\n",
       "                },\n",
       "                overlays :  {\n",
       "                    &quot;elev&quot; : tile_layer_32311b331f1863f25d7a085cd234f46a,\n",
       "                    &quot;hillshade&quot; : tile_layer_6cf156903e6b19379c02198b5aa8ada1,\n",
       "                    &quot;sea&quot; : tile_layer_e0265124b696e3c6c6145e2567ec79e8,\n",
       "                    &quot;elev palette&quot; : tile_layer_aa7707fde64da4479aa9005bdb9e963f,\n",
       "                    &quot;styled&quot; : tile_layer_8dc60e5c9962f8372b52cc8959bd7f4f,\n",
       "                    &quot;US States&quot; : tile_layer_2dd4110b39071aa200f81558d29df532,\n",
       "                },\n",
       "            };\n",
       "            let layer_control_b728979720b5cf60ff878442cf797152 = L.control.layers(\n",
       "                layer_control_b728979720b5cf60ff878442cf797152_layers.base_layers,\n",
       "                layer_control_b728979720b5cf60ff878442cf797152_layers.overlays,\n",
       "                {&quot;autoZIndex&quot;: true, &quot;collapsed&quot;: true, &quot;position&quot;: &quot;topright&quot;}\n",
       "            ).addTo(map_c8cf5893fa7731505cbef19eab685684);\n",
       "\n",
       "        \n",
       "&lt;/script&gt;\n",
       "&lt;/html&gt;\" width=\"100%\" height=\"600\"style=\"border:none !important;\" \"allowfullscreen\" \"webkitallowfullscreen\" \"mozallowfullscreen\"></iframe>"
      ],
      "text/plain": [
       "<geemap.foliumap.Map at 0x24cfa2f63d0>"
      ]
     },
     "execution_count": 11,
     "metadata": {},
     "output_type": "execute_result"
    }
   ],
   "source": [
    "# Display the map.\n",
    "Map"
   ]
  },
  {
   "cell_type": "code",
   "execution_count": 46,
   "id": "6",
   "metadata": {},
   "outputs": [
    {
     "data": {
      "text/html": [
       "\n",
       "            <style>\n",
       "                .geemap-dark {\n",
       "                    --jp-widgets-color: white;\n",
       "                    --jp-widgets-label-color: white;\n",
       "                    --jp-ui-font-color1: white;\n",
       "                    --jp-layout-color2: #454545;\n",
       "                    background-color: #383838;\n",
       "                }\n",
       "\n",
       "                .geemap-dark .jupyter-button {\n",
       "                    --jp-layout-color3: #383838;\n",
       "                }\n",
       "\n",
       "                .geemap-colab {\n",
       "                    background-color: var(--colab-primary-surface-color, white);\n",
       "                }\n",
       "\n",
       "                .geemap-colab .jupyter-button {\n",
       "                    --jp-layout-color3: var(--colab-primary-surface-color, white);\n",
       "                }\n",
       "            </style>\n",
       "            "
      ],
      "text/plain": [
       "<IPython.core.display.HTML object>"
      ]
     },
     "metadata": {},
     "output_type": "display_data"
    },
    {
     "ename": "Exception",
     "evalue": "module 'datapane' has no attribute 'ping'",
     "output_type": "error",
     "traceback": [
      "\u001b[1;31m---------------------------------------------------------------------------\u001b[0m",
      "\u001b[1;31mAttributeError\u001b[0m                            Traceback (most recent call last)",
      "File \u001b[1;32m~\\anaconda3\\Lib\\site-packages\\geemap\\foliumap.py:1908\u001b[0m, in \u001b[0;36mMap.publish\u001b[1;34m(self, name, description, source_url, tags, source_file, open, formatting, token, **kwargs)\u001b[0m\n\u001b[0;32m   1907\u001b[0m \u001b[38;5;28;01mtry\u001b[39;00m:\n\u001b[1;32m-> 1908\u001b[0m     _ \u001b[38;5;241m=\u001b[39m dp\u001b[38;5;241m.\u001b[39mping(verbose\u001b[38;5;241m=\u001b[39m\u001b[38;5;28;01mFalse\u001b[39;00m)\n\u001b[0;32m   1909\u001b[0m \u001b[38;5;28;01mexcept\u001b[39;00m \u001b[38;5;167;01mException\u001b[39;00m \u001b[38;5;28;01mas\u001b[39;00m e:\n",
      "\u001b[1;31mAttributeError\u001b[0m: module 'datapane' has no attribute 'ping'",
      "\nDuring handling of the above exception, another exception occurred:\n",
      "\u001b[1;31mException\u001b[0m                                 Traceback (most recent call last)",
      "Cell \u001b[1;32mIn[46], line 1\u001b[0m\n\u001b[1;32m----> 1\u001b[0m Map\u001b[38;5;241m.\u001b[39mpublish(\n\u001b[0;32m      2\u001b[0m     name\u001b[38;5;241m=\u001b[39m\u001b[38;5;124m\"\u001b[39m\u001b[38;5;124mTerrain Visualization\u001b[39m\u001b[38;5;124m\"\u001b[39m,\n\u001b[0;32m      3\u001b[0m     description\u001b[38;5;241m=\u001b[39m\u001b[38;5;124m\"\u001b[39m\u001b[38;5;124mA folium map with Earth Engine data layers\u001b[39m\u001b[38;5;124m\"\u001b[39m,\n\u001b[0;32m      4\u001b[0m )\n",
      "File \u001b[1;32m~\\anaconda3\\Lib\\site-packages\\geemap\\foliumap.py:1913\u001b[0m, in \u001b[0;36mMap.publish\u001b[1;34m(self, name, description, source_url, tags, source_file, open, formatting, token, **kwargs)\u001b[0m\n\u001b[0;32m   1911\u001b[0m             dp\u001b[38;5;241m.\u001b[39mlogin(token\u001b[38;5;241m=\u001b[39mos\u001b[38;5;241m.\u001b[39menviron\u001b[38;5;241m.\u001b[39mget(\u001b[38;5;124m\"\u001b[39m\u001b[38;5;124mDP_TOKEN\u001b[39m\u001b[38;5;124m\"\u001b[39m))\n\u001b[0;32m   1912\u001b[0m         \u001b[38;5;28;01melse\u001b[39;00m:\n\u001b[1;32m-> 1913\u001b[0m             \u001b[38;5;28;01mraise\u001b[39;00m \u001b[38;5;167;01mException\u001b[39;00m(e)\n\u001b[0;32m   1914\u001b[0m \u001b[38;5;28;01melse\u001b[39;00m:\n\u001b[0;32m   1915\u001b[0m     dp\u001b[38;5;241m.\u001b[39mlogin(token)\n",
      "\u001b[1;31mException\u001b[0m: module 'datapane' has no attribute 'ping'"
     ]
    }
   ],
   "source": [
    "Map.publish(\n",
    "    name=\"Terrain Visualization\",\n",
    "    description=\"A folium map with Earth Engine data layers\",\n",
    ")"
   ]
  },
  {
   "cell_type": "code",
   "execution_count": null,
   "id": "d2fd99a6-3fc0-4288-a9e8-eadf0681a1c2",
   "metadata": {},
   "outputs": [],
   "source": []
  }
 ],
 "metadata": {
  "kernelspec": {
   "display_name": "Python 3 (ipykernel)",
   "language": "python",
   "name": "python3"
  },
  "language_info": {
   "codemirror_mode": {
    "name": "ipython",
    "version": 3
   },
   "file_extension": ".py",
   "mimetype": "text/x-python",
   "name": "python",
   "nbconvert_exporter": "python",
   "pygments_lexer": "ipython3",
   "version": "3.11.7"
  }
 },
 "nbformat": 4,
 "nbformat_minor": 5
}
