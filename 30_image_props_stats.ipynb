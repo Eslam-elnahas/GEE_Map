{
 "cells": [
  {
   "cell_type": "code",
   "execution_count": null,
   "id": "1",
   "metadata": {},
   "outputs": [],
   "source": [
    "# !pip install geemap"
   ]
  },
  {
   "cell_type": "markdown",
   "id": "2",
   "metadata": {},
   "source": [
    "# How to get image basic properties and descriptive statistics"
   ]
  },
  {
   "cell_type": "code",
   "execution_count": 1,
   "id": "3",
   "metadata": {},
   "outputs": [],
   "source": [
    "import ee\n",
    "import geemap\n",
    "ee.Authenticate()\n",
    "ee.Initialize(project='ee-eslamelnahas-jupyter')"
   ]
  },
  {
   "cell_type": "markdown",
   "id": "4",
   "metadata": {},
   "source": [
    "## Create an interactive map"
   ]
  },
  {
   "cell_type": "code",
   "execution_count": 138,
   "id": "5",
   "metadata": {},
   "outputs": [
    {
     "data": {
      "text/html": [
       "\n",
       "            <style>\n",
       "                .geemap-dark {\n",
       "                    --jp-widgets-color: white;\n",
       "                    --jp-widgets-label-color: white;\n",
       "                    --jp-ui-font-color1: white;\n",
       "                    --jp-layout-color2: #454545;\n",
       "                    background-color: #383838;\n",
       "                }\n",
       "\n",
       "                .geemap-dark .jupyter-button {\n",
       "                    --jp-layout-color3: #383838;\n",
       "                }\n",
       "\n",
       "                .geemap-colab {\n",
       "                    background-color: var(--colab-primary-surface-color, white);\n",
       "                }\n",
       "\n",
       "                .geemap-colab .jupyter-button {\n",
       "                    --jp-layout-color3: var(--colab-primary-surface-color, white);\n",
       "                }\n",
       "            </style>\n",
       "            "
      ],
      "text/plain": [
       "<IPython.core.display.HTML object>"
      ]
     },
     "metadata": {},
     "output_type": "display_data"
    },
    {
     "data": {
      "application/vnd.jupyter.widget-view+json": {
       "model_id": "a3031d8a50eb4e3dad93cf325d33e2c0",
       "version_major": 2,
       "version_minor": 0
      },
      "text/plain": [
       "Map(center=[0, 0], controls=(WidgetControl(options=['position', 'transparent_bg'], widget=SearchDataGUI(childr…"
      ]
     },
     "execution_count": 138,
     "metadata": {},
     "output_type": "execute_result"
    }
   ],
   "source": [
    "m = geemap.Map()\n",
    "m"
   ]
  },
  {
   "cell_type": "markdown",
   "id": "6",
   "metadata": {},
   "source": [
    "## Add images to the map"
   ]
  },
  {
   "cell_type": "code",
   "execution_count": 140,
   "id": "7",
   "metadata": {},
   "outputs": [
    {
     "data": {
      "text/html": [
       "\n",
       "            <style>\n",
       "                .geemap-dark {\n",
       "                    --jp-widgets-color: white;\n",
       "                    --jp-widgets-label-color: white;\n",
       "                    --jp-ui-font-color1: white;\n",
       "                    --jp-layout-color2: #454545;\n",
       "                    background-color: #383838;\n",
       "                }\n",
       "\n",
       "                .geemap-dark .jupyter-button {\n",
       "                    --jp-layout-color3: #383838;\n",
       "                }\n",
       "\n",
       "                .geemap-colab {\n",
       "                    background-color: var(--colab-primary-surface-color, white);\n",
       "                }\n",
       "\n",
       "                .geemap-colab .jupyter-button {\n",
       "                    --jp-layout-color3: var(--colab-primary-surface-color, white);\n",
       "                }\n",
       "            </style>\n",
       "            "
      ],
      "text/plain": [
       "<IPython.core.display.HTML object>"
      ]
     },
     "metadata": {},
     "output_type": "display_data"
    },
    {
     "data": {
      "application/vnd.jupyter.widget-view+json": {
       "model_id": "a3031d8a50eb4e3dad93cf325d33e2c0",
       "version_major": 2,
       "version_minor": 0
      },
      "text/plain": [
       "Map(bottom=812.0, center=[31, 31], controls=(WidgetControl(options=['position', 'transparent_bg'], widget=Sear…"
      ]
     },
     "execution_count": 140,
     "metadata": {},
     "output_type": "execute_result"
    }
   ],
   "source": [
    "dataset = ee.ImageCollection('LANDSAT/LE07/C02/T1_L2').filterDate(\n",
    "    '2017-06-01', '2017-07-01'\n",
    ")\n",
    "\n",
    "first_image_1 = dataset.first()\n",
    "# Applies scaling factors.\n",
    "def apply_scale_factors(image):\n",
    "  optical_bands = image.select('SR_B.').multiply(0.0000275).add(-0.2)\n",
    "  thermal_bands = image.select('ST_B6').multiply(0.00341802).add(149.0)\n",
    "  return image.addBands(optical_bands, None, True).addBands(\n",
    "      thermal_bands, None, True\n",
    "  )\n",
    "\n",
    "\n",
    "dataset = dataset.map(apply_scale_factors)\n",
    "\n",
    "visualization = {\n",
    "    'bands': ['SR_B3', 'SR_B2', 'SR_B1'],\n",
    "    'min': 0.0,\n",
    "    'max': 0.3,\n",
    "}\n",
    "\n",
    "m.set_center(31,31, 8)\n",
    "m.add_layer(dataset, visualization, 'True Color (321)')\n",
    "m"
   ]
  },
  {
   "cell_type": "code",
   "execution_count": 82,
   "id": "8",
   "metadata": {},
   "outputs": [
    {
     "data": {
      "text/html": [
       "\n",
       "            <style>\n",
       "                .geemap-dark {\n",
       "                    --jp-widgets-color: white;\n",
       "                    --jp-widgets-label-color: white;\n",
       "                    --jp-ui-font-color1: white;\n",
       "                    --jp-layout-color2: #454545;\n",
       "                    background-color: #383838;\n",
       "                }\n",
       "\n",
       "                .geemap-dark .jupyter-button {\n",
       "                    --jp-layout-color3: #383838;\n",
       "                }\n",
       "\n",
       "                .geemap-colab {\n",
       "                    background-color: var(--colab-primary-surface-color, white);\n",
       "                }\n",
       "\n",
       "                .geemap-colab .jupyter-button {\n",
       "                    --jp-layout-color3: var(--colab-primary-surface-color, white);\n",
       "                }\n",
       "            </style>\n",
       "            "
      ],
      "text/plain": [
       "<IPython.core.display.HTML object>"
      ]
     },
     "metadata": {},
     "output_type": "display_data"
    },
    {
     "data": {
      "application/vnd.jupyter.widget-view+json": {
       "model_id": "746ae0a8389a40cabb50c68fe378ae2b",
       "version_major": 2,
       "version_minor": 0
      },
      "text/plain": [
       "Map(center=[31, 31], controls=(WidgetControl(options=['position', 'transparent_bg'], widget=SearchDataGUI(chil…"
      ]
     },
     "execution_count": 82,
     "metadata": {},
     "output_type": "execute_result"
    }
   ],
   "source": [
    "Data = ee.ImageCollection('LANDSAT/LC09/C02/T1_L2').filterDate(\n",
    "    '2022-01-01', '2022-02-01'\n",
    ")\n",
    "\n",
    "first_image_2 = Data.first()\n",
    "# Applies scaling factors.\n",
    "def apply_scale_factors(image):\n",
    "  optical_bands = image.select('SR_B.').multiply(0.0000275).add(-0.2)\n",
    "  thermal_bands = image.select('ST_B.*').multiply(0.00341802).add(149.0)\n",
    "  return image.addBands(optical_bands, None, True).addBands(\n",
    "      thermal_bands, None, True\n",
    "  )\n",
    "\n",
    "\n",
    "Data = Data.map(apply_scale_factors)\n",
    "\n",
    "visualization = {\n",
    "    'bands': ['SR_B4', 'SR_B3', 'SR_B2'],\n",
    "    'min': 0.0,\n",
    "    'max': 0.3,\n",
    "}\n",
    "\n",
    "m = geemap.Map()\n",
    "m.set_center(31, 31, 8)\n",
    "m.add_layer(Data, visualization, 'True Color (432)')\n",
    "m\n"
   ]
  },
  {
   "cell_type": "markdown",
   "id": "9",
   "metadata": {},
   "source": [
    "## Get image property names"
   ]
  },
  {
   "cell_type": "code",
   "execution_count": 84,
   "id": "10",
   "metadata": {},
   "outputs": [
    {
     "data": {
      "text/html": [
       "\n",
       "            <style>\n",
       "                .geemap-dark {\n",
       "                    --jp-widgets-color: white;\n",
       "                    --jp-widgets-label-color: white;\n",
       "                    --jp-ui-font-color1: white;\n",
       "                    --jp-layout-color2: #454545;\n",
       "                    background-color: #383838;\n",
       "                }\n",
       "\n",
       "                .geemap-dark .jupyter-button {\n",
       "                    --jp-layout-color3: #383838;\n",
       "                }\n",
       "\n",
       "                .geemap-colab {\n",
       "                    background-color: var(--colab-primary-surface-color, white);\n",
       "                }\n",
       "\n",
       "                .geemap-colab .jupyter-button {\n",
       "                    --jp-layout-color3: var(--colab-primary-surface-color, white);\n",
       "                }\n",
       "            </style>\n",
       "            "
      ],
      "text/plain": [
       "<IPython.core.display.HTML object>"
      ]
     },
     "metadata": {},
     "output_type": "display_data"
    },
    {
     "data": {
      "text/plain": [
       "['DATA_SOURCE_ELEVATION',\n",
       " 'WRS_TYPE',\n",
       " 'system:id',\n",
       " 'REFLECTANCE_ADD_BAND_1',\n",
       " 'REFLECTANCE_ADD_BAND_2',\n",
       " 'DATUM',\n",
       " 'REFLECTANCE_ADD_BAND_3',\n",
       " 'REFLECTANCE_ADD_BAND_4',\n",
       " 'REFLECTANCE_ADD_BAND_5',\n",
       " 'REFLECTANCE_ADD_BAND_6',\n",
       " 'REFLECTANCE_ADD_BAND_7',\n",
       " 'system:footprint',\n",
       " 'REFLECTIVE_SAMPLES',\n",
       " 'system:version',\n",
       " 'GROUND_CONTROL_POINTS_VERSION',\n",
       " 'SUN_AZIMUTH',\n",
       " 'UTM_ZONE',\n",
       " 'DATE_ACQUIRED',\n",
       " 'ELLIPSOID',\n",
       " 'system:time_end',\n",
       " 'DATA_SOURCE_PRESSURE',\n",
       " 'LANDSAT_PRODUCT_ID',\n",
       " 'STATION_ID',\n",
       " 'TEMPERATURE_ADD_BAND_ST_B10',\n",
       " 'DATA_SOURCE_REANALYSIS',\n",
       " 'REFLECTANCE_MULT_BAND_7',\n",
       " 'system:time_start',\n",
       " 'REFLECTANCE_MULT_BAND_6',\n",
       " 'L1_PROCESSING_LEVEL',\n",
       " 'PROCESSING_SOFTWARE_VERSION',\n",
       " 'L1_DATE_PRODUCT_GENERATED',\n",
       " 'ORIENTATION',\n",
       " 'REFLECTANCE_MULT_BAND_1',\n",
       " 'WRS_ROW',\n",
       " 'REFLECTANCE_MULT_BAND_3',\n",
       " 'REFLECTANCE_MULT_BAND_2',\n",
       " 'TARGET_WRS_ROW',\n",
       " 'REFLECTANCE_MULT_BAND_5',\n",
       " 'REFLECTANCE_MULT_BAND_4',\n",
       " 'THERMAL_LINES',\n",
       " 'GRID_CELL_SIZE_THERMAL',\n",
       " 'IMAGE_QUALITY_TIRS',\n",
       " 'NADIR_OFFNADIR',\n",
       " 'CLOUD_COVER',\n",
       " 'REQUEST_ID',\n",
       " 'EARTH_SUN_DISTANCE',\n",
       " 'COLLECTION_CATEGORY',\n",
       " 'SCENE_CENTER_TIME',\n",
       " 'GRID_CELL_SIZE_REFLECTIVE',\n",
       " 'SUN_ELEVATION',\n",
       " 'ALGORITHM_SOURCE_SURFACE_TEMPERATURE',\n",
       " 'TEMPERATURE_MAXIMUM_BAND_ST_B10',\n",
       " 'CLOUD_COVER_LAND',\n",
       " 'GEOMETRIC_RMSE_MODEL',\n",
       " 'ROLL_ANGLE',\n",
       " 'COLLECTION_NUMBER',\n",
       " 'DATE_PRODUCT_GENERATED',\n",
       " 'L1_REQUEST_ID',\n",
       " 'DATA_SOURCE_OZONE',\n",
       " 'SATURATION_BAND_1',\n",
       " 'DATA_SOURCE_WATER_VAPOR',\n",
       " 'SATURATION_BAND_2',\n",
       " 'SATURATION_BAND_3',\n",
       " 'IMAGE_QUALITY_OLI',\n",
       " 'SATURATION_BAND_4',\n",
       " 'LANDSAT_SCENE_ID',\n",
       " 'SATURATION_BAND_5',\n",
       " 'MAP_PROJECTION',\n",
       " 'SATURATION_BAND_6',\n",
       " 'SENSOR_ID',\n",
       " 'SATURATION_BAND_7',\n",
       " 'SATURATION_BAND_8',\n",
       " 'WRS_PATH',\n",
       " 'L1_PROCESSING_SOFTWARE_VERSION',\n",
       " 'SATURATION_BAND_9',\n",
       " 'TARGET_WRS_PATH',\n",
       " 'L1_LANDSAT_PRODUCT_ID',\n",
       " 'TEMPERATURE_MULT_BAND_ST_B10',\n",
       " 'PROCESSING_LEVEL',\n",
       " 'ALGORITHM_SOURCE_SURFACE_REFLECTANCE',\n",
       " 'GROUND_CONTROL_POINTS_MODEL',\n",
       " 'SPACECRAFT_ID',\n",
       " 'TEMPERATURE_MINIMUM_BAND_ST_B10',\n",
       " 'GEOMETRIC_RMSE_MODEL_Y',\n",
       " 'REFLECTIVE_LINES',\n",
       " 'GEOMETRIC_RMSE_MODEL_X',\n",
       " 'THERMAL_SAMPLES',\n",
       " 'system:asset_size',\n",
       " 'DATA_SOURCE_AIR_TEMPERATURE',\n",
       " 'system:index',\n",
       " 'system:bands',\n",
       " 'system:band_names']"
      ]
     },
     "execution_count": 84,
     "metadata": {},
     "output_type": "execute_result"
    }
   ],
   "source": [
    "first_image_2.propertyNames().getInfo()"
   ]
  },
  {
   "cell_type": "code",
   "execution_count": 92,
   "id": "11",
   "metadata": {},
   "outputs": [
    {
     "data": {
      "text/html": [
       "\n",
       "            <style>\n",
       "                .geemap-dark {\n",
       "                    --jp-widgets-color: white;\n",
       "                    --jp-widgets-label-color: white;\n",
       "                    --jp-ui-font-color1: white;\n",
       "                    --jp-layout-color2: #454545;\n",
       "                    background-color: #383838;\n",
       "                }\n",
       "\n",
       "                .geemap-dark .jupyter-button {\n",
       "                    --jp-layout-color3: #383838;\n",
       "                }\n",
       "\n",
       "                .geemap-colab {\n",
       "                    background-color: var(--colab-primary-surface-color, white);\n",
       "                }\n",
       "\n",
       "                .geemap-colab .jupyter-button {\n",
       "                    --jp-layout-color3: var(--colab-primary-surface-color, white);\n",
       "                }\n",
       "            </style>\n",
       "            "
      ],
      "text/plain": [
       "<IPython.core.display.HTML object>"
      ]
     },
     "metadata": {},
     "output_type": "display_data"
    },
    {
     "data": {
      "text/plain": [
       "'LANDSAT/LE07/C02/T1_L2/LE07_001052_20170609'"
      ]
     },
     "execution_count": 92,
     "metadata": {},
     "output_type": "execute_result"
    }
   ],
   "source": [
    "first_image_1.get('system:id').getInfo()"
   ]
  },
  {
   "cell_type": "code",
   "execution_count": 94,
   "id": "f7bbd7fe-a887-4aef-87a1-5309941c4d23",
   "metadata": {},
   "outputs": [
    {
     "data": {
      "text/html": [
       "\n",
       "            <style>\n",
       "                .geemap-dark {\n",
       "                    --jp-widgets-color: white;\n",
       "                    --jp-widgets-label-color: white;\n",
       "                    --jp-ui-font-color1: white;\n",
       "                    --jp-layout-color2: #454545;\n",
       "                    background-color: #383838;\n",
       "                }\n",
       "\n",
       "                .geemap-dark .jupyter-button {\n",
       "                    --jp-layout-color3: #383838;\n",
       "                }\n",
       "\n",
       "                .geemap-colab {\n",
       "                    background-color: var(--colab-primary-surface-color, white);\n",
       "                }\n",
       "\n",
       "                .geemap-colab .jupyter-button {\n",
       "                    --jp-layout-color3: var(--colab-primary-surface-color, white);\n",
       "                }\n",
       "            </style>\n",
       "            "
      ],
      "text/plain": [
       "<IPython.core.display.HTML object>"
      ]
     },
     "metadata": {},
     "output_type": "display_data"
    },
    {
     "data": {
      "text/plain": [
       "'WGS84'"
      ]
     },
     "execution_count": 94,
     "metadata": {},
     "output_type": "execute_result"
    }
   ],
   "source": [
    "first_image_1.get('DATUM').getInfo()"
   ]
  },
  {
   "cell_type": "code",
   "execution_count": 96,
   "id": "ac93773c-6e87-48a5-952c-567bd94937e7",
   "metadata": {},
   "outputs": [
    {
     "data": {
      "text/html": [
       "\n",
       "            <style>\n",
       "                .geemap-dark {\n",
       "                    --jp-widgets-color: white;\n",
       "                    --jp-widgets-label-color: white;\n",
       "                    --jp-ui-font-color1: white;\n",
       "                    --jp-layout-color2: #454545;\n",
       "                    background-color: #383838;\n",
       "                }\n",
       "\n",
       "                .geemap-dark .jupyter-button {\n",
       "                    --jp-layout-color3: #383838;\n",
       "                }\n",
       "\n",
       "                .geemap-colab {\n",
       "                    background-color: var(--colab-primary-surface-color, white);\n",
       "                }\n",
       "\n",
       "                .geemap-colab .jupyter-button {\n",
       "                    --jp-layout-color3: var(--colab-primary-surface-color, white);\n",
       "                }\n",
       "            </style>\n",
       "            "
      ],
      "text/plain": [
       "<IPython.core.display.HTML object>"
      ]
     },
     "metadata": {},
     "output_type": "display_data"
    },
    {
     "data": {
      "text/plain": [
       "'GLS2000'"
      ]
     },
     "execution_count": 96,
     "metadata": {},
     "output_type": "execute_result"
    }
   ],
   "source": [
    "first_image_1.get('DATA_SOURCE_ELEVATION').getInfo()"
   ]
  },
  {
   "cell_type": "code",
   "execution_count": 98,
   "id": "12",
   "metadata": {},
   "outputs": [
    {
     "data": {
      "text/html": [
       "\n",
       "            <style>\n",
       "                .geemap-dark {\n",
       "                    --jp-widgets-color: white;\n",
       "                    --jp-widgets-label-color: white;\n",
       "                    --jp-ui-font-color1: white;\n",
       "                    --jp-layout-color2: #454545;\n",
       "                    background-color: #383838;\n",
       "                }\n",
       "\n",
       "                .geemap-dark .jupyter-button {\n",
       "                    --jp-layout-color3: #383838;\n",
       "                }\n",
       "\n",
       "                .geemap-colab {\n",
       "                    background-color: var(--colab-primary-surface-color, white);\n",
       "                }\n",
       "\n",
       "                .geemap-colab .jupyter-button {\n",
       "                    --jp-layout-color3: var(--colab-primary-surface-color, white);\n",
       "                }\n",
       "            </style>\n",
       "            "
      ],
      "text/plain": [
       "<IPython.core.display.HTML object>"
      ]
     },
     "metadata": {},
     "output_type": "display_data"
    },
    {
     "data": {
      "text/plain": [
       "1681034291385266"
      ]
     },
     "execution_count": 98,
     "metadata": {},
     "output_type": "execute_result"
    }
   ],
   "source": [
    "# The number of milliseconds since 1970-01-01T00:00:00Z.\n",
    "first_image_2.get('system:version').getInfo()"
   ]
  },
  {
   "cell_type": "code",
   "execution_count": 100,
   "id": "13",
   "metadata": {},
   "outputs": [
    {
     "data": {
      "text/html": [
       "\n",
       "            <style>\n",
       "                .geemap-dark {\n",
       "                    --jp-widgets-color: white;\n",
       "                    --jp-widgets-label-color: white;\n",
       "                    --jp-ui-font-color1: white;\n",
       "                    --jp-layout-color2: #454545;\n",
       "                    background-color: #383838;\n",
       "                }\n",
       "\n",
       "                .geemap-dark .jupyter-button {\n",
       "                    --jp-layout-color3: #383838;\n",
       "                }\n",
       "\n",
       "                .geemap-colab {\n",
       "                    background-color: var(--colab-primary-surface-color, white);\n",
       "                }\n",
       "\n",
       "                .geemap-colab .jupyter-button {\n",
       "                    --jp-layout-color3: var(--colab-primary-surface-color, white);\n",
       "                }\n",
       "            </style>\n",
       "            "
      ],
      "text/plain": [
       "<IPython.core.display.HTML object>"
      ]
     },
     "metadata": {},
     "output_type": "display_data"
    },
    {
     "data": {
      "text/plain": [
       "'2022-07-09'"
      ]
     },
     "execution_count": 100,
     "metadata": {},
     "output_type": "execute_result"
    }
   ],
   "source": [
    "ee.Date(first_image_2.get(\"system:time_start\")).format(\"YYYY-MM-dd\").getInfo()"
   ]
  },
  {
   "cell_type": "code",
   "execution_count": 102,
   "id": "d8ebf1e1-38ed-4c98-bd02-d54634b547ea",
   "metadata": {},
   "outputs": [
    {
     "data": {
      "text/html": [
       "\n",
       "            <style>\n",
       "                .geemap-dark {\n",
       "                    --jp-widgets-color: white;\n",
       "                    --jp-widgets-label-color: white;\n",
       "                    --jp-ui-font-color1: white;\n",
       "                    --jp-layout-color2: #454545;\n",
       "                    background-color: #383838;\n",
       "                }\n",
       "\n",
       "                .geemap-dark .jupyter-button {\n",
       "                    --jp-layout-color3: #383838;\n",
       "                }\n",
       "\n",
       "                .geemap-colab {\n",
       "                    background-color: var(--colab-primary-surface-color, white);\n",
       "                }\n",
       "\n",
       "                .geemap-colab .jupyter-button {\n",
       "                    --jp-layout-color3: var(--colab-primary-surface-color, white);\n",
       "                }\n",
       "            </style>\n",
       "            "
      ],
      "text/plain": [
       "<IPython.core.display.HTML object>"
      ]
     },
     "metadata": {},
     "output_type": "display_data"
    },
    {
     "data": {
      "text/plain": [
       "'2017-06-09'"
      ]
     },
     "execution_count": 102,
     "metadata": {},
     "output_type": "execute_result"
    }
   ],
   "source": [
    "ee.Date(first_image_1.get(\"system:time_start\")).format(\"YYYY-MM-dd\").getInfo()"
   ]
  },
  {
   "cell_type": "markdown",
   "id": "14",
   "metadata": {},
   "source": [
    "## Get image properties all at once"
   ]
  },
  {
   "cell_type": "code",
   "execution_count": 104,
   "id": "15",
   "metadata": {},
   "outputs": [
    {
     "data": {
      "text/html": [
       "\n",
       "            <style>\n",
       "                .geemap-dark {\n",
       "                    --jp-widgets-color: white;\n",
       "                    --jp-widgets-label-color: white;\n",
       "                    --jp-ui-font-color1: white;\n",
       "                    --jp-layout-color2: #454545;\n",
       "                    background-color: #383838;\n",
       "                }\n",
       "\n",
       "                .geemap-dark .jupyter-button {\n",
       "                    --jp-layout-color3: #383838;\n",
       "                }\n",
       "\n",
       "                .geemap-colab {\n",
       "                    background-color: var(--colab-primary-surface-color, white);\n",
       "                }\n",
       "\n",
       "                .geemap-colab .jupyter-button {\n",
       "                    --jp-layout-color3: var(--colab-primary-surface-color, white);\n",
       "                }\n",
       "            </style>\n",
       "            "
      ],
      "text/plain": [
       "<IPython.core.display.HTML object>"
      ]
     },
     "metadata": {},
     "output_type": "display_data"
    },
    {
     "data": {
      "text/plain": [
       "{'ALGORITHM_SOURCE_SURFACE_REFLECTANCE': 'LaSRC_1.5.0',\n",
       " 'ALGORITHM_SOURCE_SURFACE_TEMPERATURE': 'st_1.3.0',\n",
       " 'CLOUD_COVER': 28.19,\n",
       " 'CLOUD_COVER_LAND': 0.89,\n",
       " 'COLLECTION_CATEGORY': 'T1',\n",
       " 'COLLECTION_NUMBER': 2,\n",
       " 'DATA_SOURCE_AIR_TEMPERATURE': 'MODIS',\n",
       " 'DATA_SOURCE_ELEVATION': 'GLS2000',\n",
       " 'DATA_SOURCE_OZONE': 'MODIS',\n",
       " 'DATA_SOURCE_PRESSURE': 'Calculated',\n",
       " 'DATA_SOURCE_REANALYSIS': 'GEOS-5 FP-IT',\n",
       " 'DATA_SOURCE_WATER_VAPOR': 'MODIS',\n",
       " 'DATE_ACQUIRED': '2022-07-09',\n",
       " 'DATE_PRODUCT_GENERATED': 1680922454000,\n",
       " 'DATUM': 'WGS84',\n",
       " 'EARTH_SUN_DISTANCE': 1.0166445,\n",
       " 'ELLIPSOID': 'WGS84',\n",
       " 'GEOMETRIC_RMSE_MODEL': 7.592,\n",
       " 'GEOMETRIC_RMSE_MODEL_X': 4.541,\n",
       " 'GEOMETRIC_RMSE_MODEL_Y': 6.084,\n",
       " 'GRID_CELL_SIZE_REFLECTIVE': 30,\n",
       " 'GRID_CELL_SIZE_THERMAL': 30,\n",
       " 'GROUND_CONTROL_POINTS_MODEL': 56,\n",
       " 'GROUND_CONTROL_POINTS_VERSION': 5,\n",
       " 'IMAGE_DATE': '2022-07-09',\n",
       " 'IMAGE_QUALITY_OLI': 9,\n",
       " 'IMAGE_QUALITY_TIRS': 9,\n",
       " 'L1_DATE_PRODUCT_GENERATED': '2023-04-08T02:09:50Z',\n",
       " 'L1_LANDSAT_PRODUCT_ID': 'LC09_L1TP_001004_20220709_20230408_02_T1',\n",
       " 'L1_PROCESSING_LEVEL': 'L1TP',\n",
       " 'L1_PROCESSING_SOFTWARE_VERSION': 'LPGS_16.2.0',\n",
       " 'L1_REQUEST_ID': '1688653_00001',\n",
       " 'LANDSAT_PRODUCT_ID': 'LC09_L2SP_001004_20220709_20230408_02_T1',\n",
       " 'LANDSAT_SCENE_ID': 'LC90010042022190LGN01',\n",
       " 'MAP_PROJECTION': 'UTM',\n",
       " 'NADIR_OFFNADIR': 'NADIR',\n",
       " 'NOMINAL_SCALE': 30,\n",
       " 'ORIENTATION': 'NORTH_UP',\n",
       " 'PROCESSING_LEVEL': 'L2SP',\n",
       " 'PROCESSING_SOFTWARE_VERSION': 'LPGS_16.2.0',\n",
       " 'REFLECTANCE_ADD_BAND_1': -0.2,\n",
       " 'REFLECTANCE_ADD_BAND_2': -0.2,\n",
       " 'REFLECTANCE_ADD_BAND_3': -0.2,\n",
       " 'REFLECTANCE_ADD_BAND_4': -0.2,\n",
       " 'REFLECTANCE_ADD_BAND_5': -0.2,\n",
       " 'REFLECTANCE_ADD_BAND_6': -0.2,\n",
       " 'REFLECTANCE_ADD_BAND_7': -0.2,\n",
       " 'REFLECTANCE_MULT_BAND_1': 2.75e-05,\n",
       " 'REFLECTANCE_MULT_BAND_2': 2.75e-05,\n",
       " 'REFLECTANCE_MULT_BAND_3': 2.75e-05,\n",
       " 'REFLECTANCE_MULT_BAND_4': 2.75e-05,\n",
       " 'REFLECTANCE_MULT_BAND_5': 2.75e-05,\n",
       " 'REFLECTANCE_MULT_BAND_6': 2.75e-05,\n",
       " 'REFLECTANCE_MULT_BAND_7': 2.75e-05,\n",
       " 'REFLECTIVE_LINES': 9161,\n",
       " 'REFLECTIVE_SAMPLES': 9171,\n",
       " 'REQUEST_ID': '1688653_00001',\n",
       " 'ROLL_ANGLE': 0,\n",
       " 'SATURATION_BAND_1': 'N',\n",
       " 'SATURATION_BAND_2': 'N',\n",
       " 'SATURATION_BAND_3': 'N',\n",
       " 'SATURATION_BAND_4': 'N',\n",
       " 'SATURATION_BAND_5': 'N',\n",
       " 'SATURATION_BAND_6': 'N',\n",
       " 'SATURATION_BAND_7': 'N',\n",
       " 'SATURATION_BAND_8': 'N',\n",
       " 'SATURATION_BAND_9': 'N',\n",
       " 'SCENE_CENTER_TIME': '14:08:13.1083320Z',\n",
       " 'SENSOR_ID': 'OLI_TIRS',\n",
       " 'SPACECRAFT_ID': 'LANDSAT_9',\n",
       " 'STATION_ID': 'LGN',\n",
       " 'SUN_AZIMUTH': -163.51899965,\n",
       " 'SUN_ELEVATION': 33.75717462,\n",
       " 'TARGET_WRS_PATH': 1,\n",
       " 'TARGET_WRS_ROW': 4,\n",
       " 'TEMPERATURE_ADD_BAND_ST_B10': 149,\n",
       " 'TEMPERATURE_MAXIMUM_BAND_ST_B10': 372.999941,\n",
       " 'TEMPERATURE_MINIMUM_BAND_ST_B10': 149.003418,\n",
       " 'TEMPERATURE_MULT_BAND_ST_B10': 0.00341802,\n",
       " 'THERMAL_LINES': 9161,\n",
       " 'THERMAL_SAMPLES': 9171,\n",
       " 'UTM_ZONE': 28,\n",
       " 'WRS_PATH': 1,\n",
       " 'WRS_ROW': 4,\n",
       " 'WRS_TYPE': 2,\n",
       " 'system:asset_size': '876.866614 MB',\n",
       " 'system:band_names': ['SR_B1',\n",
       "  'SR_B2',\n",
       "  'SR_B3',\n",
       "  'SR_B4',\n",
       "  'SR_B5',\n",
       "  'SR_B6',\n",
       "  'SR_B7',\n",
       "  'SR_QA_AEROSOL',\n",
       "  'ST_B10',\n",
       "  'ST_ATRAN',\n",
       "  'ST_CDIST',\n",
       "  'ST_DRAD',\n",
       "  'ST_EMIS',\n",
       "  'ST_EMSD',\n",
       "  'ST_QA',\n",
       "  'ST_TRAD',\n",
       "  'ST_URAD',\n",
       "  'QA_PIXEL',\n",
       "  'QA_RADSAT'],\n",
       " 'system:id': 'LANDSAT/LC09/C02/T1_L2/LC09_001004_20220709',\n",
       " 'system:index': 'LC09_001004_20220709',\n",
       " 'system:time_end': '2022-07-09 14:08:13',\n",
       " 'system:time_start': '2022-07-09 14:08:13',\n",
       " 'system:version': 1681034291385266}"
      ]
     },
     "execution_count": 104,
     "metadata": {},
     "output_type": "execute_result"
    }
   ],
   "source": [
    "first_image_2_props = geemap.image_props(first_image_2)\n",
    "first_image_2_props.getInfo()"
   ]
  },
  {
   "cell_type": "code",
   "execution_count": 106,
   "id": "16",
   "metadata": {},
   "outputs": [
    {
     "data": {
      "text/html": [
       "\n",
       "            <style>\n",
       "                .geemap-dark {\n",
       "                    --jp-widgets-color: white;\n",
       "                    --jp-widgets-label-color: white;\n",
       "                    --jp-ui-font-color1: white;\n",
       "                    --jp-layout-color2: #454545;\n",
       "                    background-color: #383838;\n",
       "                }\n",
       "\n",
       "                .geemap-dark .jupyter-button {\n",
       "                    --jp-layout-color3: #383838;\n",
       "                }\n",
       "\n",
       "                .geemap-colab {\n",
       "                    background-color: var(--colab-primary-surface-color, white);\n",
       "                }\n",
       "\n",
       "                .geemap-colab .jupyter-button {\n",
       "                    --jp-layout-color3: var(--colab-primary-surface-color, white);\n",
       "                }\n",
       "            </style>\n",
       "            "
      ],
      "text/plain": [
       "<IPython.core.display.HTML object>"
      ]
     },
     "metadata": {},
     "output_type": "display_data"
    },
    {
     "data": {
      "text/plain": [
       "'2022-07-09'"
      ]
     },
     "execution_count": 106,
     "metadata": {},
     "output_type": "execute_result"
    }
   ],
   "source": [
    "first_image_2_props.get(\"IMAGE_DATE\").getInfo()"
   ]
  },
  {
   "cell_type": "code",
   "execution_count": 108,
   "id": "17",
   "metadata": {},
   "outputs": [
    {
     "data": {
      "text/html": [
       "\n",
       "            <style>\n",
       "                .geemap-dark {\n",
       "                    --jp-widgets-color: white;\n",
       "                    --jp-widgets-label-color: white;\n",
       "                    --jp-ui-font-color1: white;\n",
       "                    --jp-layout-color2: #454545;\n",
       "                    background-color: #383838;\n",
       "                }\n",
       "\n",
       "                .geemap-dark .jupyter-button {\n",
       "                    --jp-layout-color3: #383838;\n",
       "                }\n",
       "\n",
       "                .geemap-colab {\n",
       "                    background-color: var(--colab-primary-surface-color, white);\n",
       "                }\n",
       "\n",
       "                .geemap-colab .jupyter-button {\n",
       "                    --jp-layout-color3: var(--colab-primary-surface-color, white);\n",
       "                }\n",
       "            </style>\n",
       "            "
      ],
      "text/plain": [
       "<IPython.core.display.HTML object>"
      ]
     },
     "metadata": {},
     "output_type": "display_data"
    },
    {
     "data": {
      "text/plain": [
       "{'ALGORITHM_SOURCE_SURFACE_REFLECTANCE': 'LEDAPS_3.4.0',\n",
       " 'ALGORITHM_SOURCE_SURFACE_TEMPERATURE': 'st_1.3.0',\n",
       " 'CLOUD_COVER': 93,\n",
       " 'CLOUD_COVER_LAND': 83,\n",
       " 'COLLECTION_CATEGORY': 'T1',\n",
       " 'COLLECTION_NUMBER': 2,\n",
       " 'CORRECTION_BIAS_BAND_1': 'INTERNAL_CALIBRATION',\n",
       " 'CORRECTION_BIAS_BAND_2': 'INTERNAL_CALIBRATION',\n",
       " 'CORRECTION_BIAS_BAND_3': 'INTERNAL_CALIBRATION',\n",
       " 'CORRECTION_BIAS_BAND_4': 'INTERNAL_CALIBRATION',\n",
       " 'CORRECTION_BIAS_BAND_5': 'INTERNAL_CALIBRATION',\n",
       " 'CORRECTION_BIAS_BAND_6_VCID_1': 'INTERNAL_CALIBRATION',\n",
       " 'CORRECTION_BIAS_BAND_6_VCID_2': 'INTERNAL_CALIBRATION',\n",
       " 'CORRECTION_BIAS_BAND_7': 'INTERNAL_CALIBRATION',\n",
       " 'CORRECTION_BIAS_BAND_8': 'INTERNAL_CALIBRATION',\n",
       " 'CORRECTION_GAIN_BAND_1': 'CPF',\n",
       " 'CORRECTION_GAIN_BAND_2': 'CPF',\n",
       " 'CORRECTION_GAIN_BAND_3': 'CPF',\n",
       " 'CORRECTION_GAIN_BAND_4': 'CPF',\n",
       " 'CORRECTION_GAIN_BAND_5': 'CPF',\n",
       " 'CORRECTION_GAIN_BAND_6_VCID_1': 'CPF',\n",
       " 'CORRECTION_GAIN_BAND_6_VCID_2': 'CPF',\n",
       " 'CORRECTION_GAIN_BAND_7': 'CPF',\n",
       " 'CORRECTION_GAIN_BAND_8': 'CPF',\n",
       " 'DATA_SOURCE_AIR_TEMPERATURE': 'NCEP',\n",
       " 'DATA_SOURCE_ELEVATION': 'GLS2000',\n",
       " 'DATA_SOURCE_OZONE': 'TOMS',\n",
       " 'DATA_SOURCE_PRESSURE': 'NCEP',\n",
       " 'DATA_SOURCE_REANALYSIS': 'GEOS-5 FP-IT',\n",
       " 'DATA_SOURCE_WATER_VAPOR': 'NCEP',\n",
       " 'DATE_ACQUIRED': '2017-06-09',\n",
       " 'DATE_PRODUCT_GENERATED': 1598868886000,\n",
       " 'DATUM': 'WGS84',\n",
       " 'EARTH_SUN_DISTANCE': 1.015173,\n",
       " 'ELLIPSOID': 'WGS84',\n",
       " 'EPHEMERIS_TYPE': 'DEFINITIVE',\n",
       " 'GAIN_BAND_1': 'H',\n",
       " 'GAIN_BAND_2': 'H',\n",
       " 'GAIN_BAND_3': 'H',\n",
       " 'GAIN_BAND_4': 'L',\n",
       " 'GAIN_BAND_5': 'H',\n",
       " 'GAIN_BAND_6_VCID_1': 'L',\n",
       " 'GAIN_BAND_6_VCID_2': 'H',\n",
       " 'GAIN_BAND_7': 'H',\n",
       " 'GAIN_BAND_8': 'L',\n",
       " 'GAIN_CHANGE_BAND_1': 'HH',\n",
       " 'GAIN_CHANGE_BAND_2': 'HH',\n",
       " 'GAIN_CHANGE_BAND_3': 'HH',\n",
       " 'GAIN_CHANGE_BAND_4': 'LL',\n",
       " 'GAIN_CHANGE_BAND_5': 'HH',\n",
       " 'GAIN_CHANGE_BAND_6_VCID_1': 'LL',\n",
       " 'GAIN_CHANGE_BAND_6_VCID_2': 'HH',\n",
       " 'GAIN_CHANGE_BAND_7': 'HH',\n",
       " 'GAIN_CHANGE_BAND_8': 'LL',\n",
       " 'GAIN_CHANGE_SCAN_BAND_1': 0,\n",
       " 'GAIN_CHANGE_SCAN_BAND_2': 0,\n",
       " 'GAIN_CHANGE_SCAN_BAND_3': 0,\n",
       " 'GAIN_CHANGE_SCAN_BAND_4': 0,\n",
       " 'GAIN_CHANGE_SCAN_BAND_5': 0,\n",
       " 'GAIN_CHANGE_SCAN_BAND_6_VCID_1': 0,\n",
       " 'GAIN_CHANGE_SCAN_BAND_6_VCID_2': 0,\n",
       " 'GAIN_CHANGE_SCAN_BAND_7': 0,\n",
       " 'GAIN_CHANGE_SCAN_BAND_8': 0,\n",
       " 'GEOMETRIC_RMSE_MODEL': 5.929,\n",
       " 'GEOMETRIC_RMSE_MODEL_X': 4.085,\n",
       " 'GEOMETRIC_RMSE_MODEL_Y': 4.297,\n",
       " 'GRID_CELL_SIZE_REFLECTIVE': 30,\n",
       " 'GRID_CELL_SIZE_THERMAL': 30,\n",
       " 'GROUND_CONTROL_POINTS_MODEL': 11,\n",
       " 'GROUND_CONTROL_POINTS_VERSION': 5,\n",
       " 'IMAGE_DATE': '2017-06-09',\n",
       " 'IMAGE_QUALITY': 9,\n",
       " 'L1_DATE_PRODUCT_GENERATED': '2020-08-31T10:01:19Z',\n",
       " 'L1_LANDSAT_PRODUCT_ID': 'LE07_L1TP_001052_20170609_20200831_02_T1',\n",
       " 'L1_PROCESSING_LEVEL': 'L1TP',\n",
       " 'L1_PROCESSING_SOFTWARE_VERSION': 'LPGS_15.3.1c',\n",
       " 'L1_REQUEST_ID': 'L2',\n",
       " 'LANDSAT_PRODUCT_ID': 'LE07_L2SP_001052_20170609_20200831_02_T1',\n",
       " 'LANDSAT_SCENE_ID': 'LE70010522017160EDC00',\n",
       " 'MAP_PROJECTION': 'UTM',\n",
       " 'NOMINAL_SCALE': 30,\n",
       " 'ORIENTATION': 'NORTH_UP',\n",
       " 'PROCESSING_LEVEL': 'L2SP',\n",
       " 'PROCESSING_SOFTWARE_VERSION': 'LPGS_15.3.1c',\n",
       " 'REFLECTANCE_ADD_BAND_1': -0.2,\n",
       " 'REFLECTANCE_ADD_BAND_2': -0.2,\n",
       " 'REFLECTANCE_ADD_BAND_3': -0.2,\n",
       " 'REFLECTANCE_ADD_BAND_4': -0.2,\n",
       " 'REFLECTANCE_ADD_BAND_5': -0.2,\n",
       " 'REFLECTANCE_ADD_BAND_7': -0.2,\n",
       " 'REFLECTANCE_MULT_BAND_1': 2.75e-05,\n",
       " 'REFLECTANCE_MULT_BAND_2': 2.75e-05,\n",
       " 'REFLECTANCE_MULT_BAND_3': 2.75e-05,\n",
       " 'REFLECTANCE_MULT_BAND_4': 2.75e-05,\n",
       " 'REFLECTANCE_MULT_BAND_5': 2.75e-05,\n",
       " 'REFLECTANCE_MULT_BAND_7': 2.75e-05,\n",
       " 'REFLECTIVE_LINES': 6971,\n",
       " 'REFLECTIVE_SAMPLES': 8041,\n",
       " 'REQUEST_ID': 'L2',\n",
       " 'SATURATION_BAND_1': 'Y',\n",
       " 'SATURATION_BAND_2': 'Y',\n",
       " 'SATURATION_BAND_3': 'Y',\n",
       " 'SATURATION_BAND_4': 'Y',\n",
       " 'SATURATION_BAND_5': 'Y',\n",
       " 'SATURATION_BAND_6_VCID_1': 'N',\n",
       " 'SATURATION_BAND_6_VCID_2': 'Y',\n",
       " 'SATURATION_BAND_7': 'Y',\n",
       " 'SATURATION_BAND_8': 'N',\n",
       " 'SCENE_CENTER_TIME': '14:30:05.2155193Z',\n",
       " 'SENSOR_ANOMALIES': 'NONE',\n",
       " 'SENSOR_ID': 'ETM',\n",
       " 'SENSOR_MODE': 'BUMPER',\n",
       " 'SENSOR_MODE_SLC': 'OFF',\n",
       " 'SPACECRAFT_ID': 'LANDSAT_7',\n",
       " 'STATION_ID': 'EDC',\n",
       " 'SUN_AZIMUTH': 60.61013632,\n",
       " 'SUN_ELEVATION': 64.08977945,\n",
       " 'TEMPERATURE_ADD_BAND_ST_B6': 149,\n",
       " 'TEMPERATURE_MAXIMUM_BAND_ST_B6': 372.999941,\n",
       " 'TEMPERATURE_MINIMUM_BAND_ST_B6': 149.003418,\n",
       " 'TEMPERATURE_MULT_BAND_ST_B6': 0.00341802,\n",
       " 'THERMAL_LINES': 6971,\n",
       " 'THERMAL_SAMPLES': 8041,\n",
       " 'UTM_ZONE': 20,\n",
       " 'WRS_PATH': 1,\n",
       " 'WRS_ROW': 52,\n",
       " 'WRS_TYPE': 2,\n",
       " 'system:asset_size': '334.704264 MB',\n",
       " 'system:band_names': ['SR_B1',\n",
       "  'SR_B2',\n",
       "  'SR_B3',\n",
       "  'SR_B4',\n",
       "  'SR_B5',\n",
       "  'SR_B7',\n",
       "  'SR_ATMOS_OPACITY',\n",
       "  'SR_CLOUD_QA',\n",
       "  'ST_B6',\n",
       "  'ST_ATRAN',\n",
       "  'ST_CDIST',\n",
       "  'ST_DRAD',\n",
       "  'ST_EMIS',\n",
       "  'ST_EMSD',\n",
       "  'ST_QA',\n",
       "  'ST_TRAD',\n",
       "  'ST_URAD',\n",
       "  'QA_PIXEL',\n",
       "  'QA_RADSAT'],\n",
       " 'system:id': 'LANDSAT/LE07/C02/T1_L2/LE07_001052_20170609',\n",
       " 'system:index': 'LE07_001052_20170609',\n",
       " 'system:time_end': '2017-06-09 14:30:05',\n",
       " 'system:time_start': '2017-06-09 14:30:05',\n",
       " 'system:version': 1612548491003491}"
      ]
     },
     "execution_count": 108,
     "metadata": {},
     "output_type": "execute_result"
    }
   ],
   "source": [
    "first_image_1_props = geemap.image_props(first_image_1)\n",
    "first_image_1_props.getInfo()"
   ]
  },
  {
   "cell_type": "code",
   "execution_count": 110,
   "id": "18",
   "metadata": {},
   "outputs": [
    {
     "data": {
      "text/html": [
       "\n",
       "            <style>\n",
       "                .geemap-dark {\n",
       "                    --jp-widgets-color: white;\n",
       "                    --jp-widgets-label-color: white;\n",
       "                    --jp-ui-font-color1: white;\n",
       "                    --jp-layout-color2: #454545;\n",
       "                    background-color: #383838;\n",
       "                }\n",
       "\n",
       "                .geemap-dark .jupyter-button {\n",
       "                    --jp-layout-color3: #383838;\n",
       "                }\n",
       "\n",
       "                .geemap-colab {\n",
       "                    background-color: var(--colab-primary-surface-color, white);\n",
       "                }\n",
       "\n",
       "                .geemap-colab .jupyter-button {\n",
       "                    --jp-layout-color3: var(--colab-primary-surface-color, white);\n",
       "                }\n",
       "            </style>\n",
       "            "
      ],
      "text/plain": [
       "<IPython.core.display.HTML object>"
      ]
     },
     "metadata": {},
     "output_type": "display_data"
    },
    {
     "data": {
      "text/plain": [
       "30"
      ]
     },
     "execution_count": 110,
     "metadata": {},
     "output_type": "execute_result"
    }
   ],
   "source": [
    "first_image_1_props.get(\"NOMINAL_SCALE\").getInfo()"
   ]
  },
  {
   "cell_type": "markdown",
   "id": "19",
   "metadata": {},
   "source": [
    "## Get image descriptive statistics\n",
    "\n",
    "Including minimum, maximum, mean, standard deviation, and sum."
   ]
  },
  {
   "cell_type": "code",
   "execution_count": 112,
   "id": "20",
   "metadata": {},
   "outputs": [
    {
     "data": {
      "text/html": [
       "\n",
       "            <style>\n",
       "                .geemap-dark {\n",
       "                    --jp-widgets-color: white;\n",
       "                    --jp-widgets-label-color: white;\n",
       "                    --jp-ui-font-color1: white;\n",
       "                    --jp-layout-color2: #454545;\n",
       "                    background-color: #383838;\n",
       "                }\n",
       "\n",
       "                .geemap-dark .jupyter-button {\n",
       "                    --jp-layout-color3: #383838;\n",
       "                }\n",
       "\n",
       "                .geemap-colab {\n",
       "                    background-color: var(--colab-primary-surface-color, white);\n",
       "                }\n",
       "\n",
       "                .geemap-colab .jupyter-button {\n",
       "                    --jp-layout-color3: var(--colab-primary-surface-color, white);\n",
       "                }\n",
       "            </style>\n",
       "            "
      ],
      "text/plain": [
       "<IPython.core.display.HTML object>"
      ]
     },
     "metadata": {},
     "output_type": "display_data"
    },
    {
     "data": {
      "text/plain": [
       "{'max': {'QA_PIXEL': 63076,\n",
       "  'QA_RADSAT': 2048,\n",
       "  'SR_B1': 62313,\n",
       "  'SR_B2': 63767,\n",
       "  'SR_B3': 63520,\n",
       "  'SR_B4': 63704,\n",
       "  'SR_B5': 53686,\n",
       "  'SR_B6': 32492,\n",
       "  'SR_B7': 31958,\n",
       "  'SR_QA_AEROSOL': 228,\n",
       "  'ST_ATRAN': 8928,\n",
       "  'ST_B10': 44233,\n",
       "  'ST_CDIST': 4053,\n",
       "  'ST_DRAD': 534,\n",
       "  'ST_EMIS': 9915,\n",
       "  'ST_EMSD': 1305,\n",
       "  'ST_QA': 935,\n",
       "  'ST_TRAD': 8863,\n",
       "  'ST_URAD': 1047},\n",
       " 'mean': {'QA_PIXEL': 29015.14575975741,\n",
       "  'QA_RADSAT': 0.0013477507392712419,\n",
       "  'SR_B1': 31929.87481011731,\n",
       "  'SR_B2': 31772.667215763464,\n",
       "  'SR_B3': 29505.69584566514,\n",
       "  'SR_B4': 27548.19210183275,\n",
       "  'SR_B5': 22686.78421094902,\n",
       "  'SR_B6': 9688.053324376728,\n",
       "  'SR_B7': 9996.013171527808,\n",
       "  'SR_QA_AEROSOL': 209.87441557843218,\n",
       "  'ST_ATRAN': 8634.254622737146,\n",
       "  'ST_B10': 35886.198766467154,\n",
       "  'ST_CDIST': 559.4598667789302,\n",
       "  'ST_DRAD': 428.5549716611796,\n",
       "  'ST_EMIS': 9897.808025689823,\n",
       "  'ST_EMSD': 30.5213871787423,\n",
       "  'ST_QA': 383.86237687394316,\n",
       "  'ST_TRAD': 5982.448851124244,\n",
       "  'ST_URAD': 817.1553183190582},\n",
       " 'min': {'QA_PIXEL': 21762,\n",
       "  'QA_RADSAT': 0,\n",
       "  'SR_B1': 1,\n",
       "  'SR_B2': 1,\n",
       "  'SR_B3': 1,\n",
       "  'SR_B4': 2,\n",
       "  'SR_B5': 205,\n",
       "  'SR_B6': 5551,\n",
       "  'SR_B7': 6781,\n",
       "  'SR_QA_AEROSOL': 1,\n",
       "  'ST_ATRAN': 8237,\n",
       "  'ST_B10': 27192,\n",
       "  'ST_CDIST': 0,\n",
       "  'ST_DRAD': 338,\n",
       "  'ST_EMIS': 9388,\n",
       "  'ST_EMSD': 0,\n",
       "  'ST_QA': 130,\n",
       "  'ST_TRAD': 3625,\n",
       "  'ST_URAD': 620},\n",
       " 'std': {'QA_PIXEL': 7885.48765913337,\n",
       "  'QA_RADSAT': 1.6614244617389062,\n",
       "  'SR_B1': 9025.574440599305,\n",
       "  'SR_B2': 9194.147425584808,\n",
       "  'SR_B3': 8549.424060722991,\n",
       "  'SR_B4': 8431.213399793463,\n",
       "  'SR_B5': 6742.150787547489,\n",
       "  'SR_B6': 3250.7637054950524,\n",
       "  'SR_B7': 2756.9106429166677,\n",
       "  'SR_QA_AEROSOL': 28.961361193198666,\n",
       "  'ST_ATRAN': 170.5414959458924,\n",
       "  'ST_B10': 1312.5859450275204,\n",
       "  'ST_CDIST': 913.8217724819689,\n",
       "  'ST_DRAD': 51.026651246979114,\n",
       "  'ST_EMIS': 51.12693653496923,\n",
       "  'ST_EMSD': 35.26824846244876,\n",
       "  'ST_QA': 211.20985761025108,\n",
       "  'ST_TRAD': 363.0487273641119,\n",
       "  'ST_URAD': 110.0713461888523},\n",
       " 'sum': {'QA_PIXEL': 132130096742.18039,\n",
       "  'QA_RADSAT': 6144,\n",
       "  'SR_B1': 144658357680.09418,\n",
       "  'SR_B2': 143873049874.00403,\n",
       "  'SR_B3': 133939203231.86685,\n",
       "  'SR_B4': 125041827539.76077,\n",
       "  'SR_B5': 103310512638.5373,\n",
       "  'SR_B6': 44121984702.815674,\n",
       "  'SR_B7': 45524516172.2588,\n",
       "  'SR_QA_AEROSOL': 956755853.8392129,\n",
       "  'ST_ATRAN': 39330652064.50196,\n",
       "  'ST_B10': 95723386008.4639,\n",
       "  'ST_CDIST': 2547929931.6078415,\n",
       "  'ST_DRAD': 1952148415.5137222,\n",
       "  'ST_EMIS': 26401561905.355614,\n",
       "  'ST_EMSD': 82426904.43530425,\n",
       "  'ST_QA': 1023920274.0515906,\n",
       "  'ST_TRAD': 27251178536.898033,\n",
       "  'ST_URAD': 3722296007.2117677}}"
      ]
     },
     "execution_count": 112,
     "metadata": {},
     "output_type": "execute_result"
    }
   ],
   "source": [
    "first_image_2_stats = geemap.image_stats(first_image_2, scale=90)\n",
    "first_image_2_stats.getInfo()"
   ]
  },
  {
   "cell_type": "code",
   "execution_count": 114,
   "id": "21",
   "metadata": {},
   "outputs": [
    {
     "data": {
      "text/html": [
       "\n",
       "            <style>\n",
       "                .geemap-dark {\n",
       "                    --jp-widgets-color: white;\n",
       "                    --jp-widgets-label-color: white;\n",
       "                    --jp-ui-font-color1: white;\n",
       "                    --jp-layout-color2: #454545;\n",
       "                    background-color: #383838;\n",
       "                }\n",
       "\n",
       "                .geemap-dark .jupyter-button {\n",
       "                    --jp-layout-color3: #383838;\n",
       "                }\n",
       "\n",
       "                .geemap-colab {\n",
       "                    background-color: var(--colab-primary-surface-color, white);\n",
       "                }\n",
       "\n",
       "                .geemap-colab .jupyter-button {\n",
       "                    --jp-layout-color3: var(--colab-primary-surface-color, white);\n",
       "                }\n",
       "            </style>\n",
       "            "
      ],
      "text/plain": [
       "<IPython.core.display.HTML object>"
      ]
     },
     "metadata": {},
     "output_type": "display_data"
    },
    {
     "data": {
      "text/plain": [
       "{'max': {'QA_PIXEL': 7696,\n",
       "  'QA_RADSAT': 263,\n",
       "  'SR_ATMOS_OPACITY': 504,\n",
       "  'SR_B1': 65535,\n",
       "  'SR_B2': 65535,\n",
       "  'SR_B3': 65535,\n",
       "  'SR_B4': 65535,\n",
       "  'SR_B5': 65535,\n",
       "  'SR_B7': 65535,\n",
       "  'SR_CLOUD_QA': 56,\n",
       "  'ST_ATRAN': 6653,\n",
       "  'ST_B6': 47979,\n",
       "  'ST_CDIST': 776,\n",
       "  'ST_DRAD': 1888,\n",
       "  'ST_EMIS': 9896,\n",
       "  'ST_EMSD': 3364,\n",
       "  'ST_QA': 10000,\n",
       "  'ST_TRAD': 9562,\n",
       "  'ST_URAD': 4450},\n",
       " 'mean': {'QA_PIXEL': 6004.736033791247,\n",
       "  'QA_RADSAT': 16.828847588331143,\n",
       "  'SR_ATMOS_OPACITY': 422.2434985156533,\n",
       "  'SR_B1': 29420.400010447865,\n",
       "  'SR_B2': 23131.1105687256,\n",
       "  'SR_B3': 24807.93974002465,\n",
       "  'SR_B4': 17237.678275043818,\n",
       "  'SR_B5': 13385.688493591291,\n",
       "  'SR_B7': 12742.087849896365,\n",
       "  'SR_CLOUD_QA': 13.11994386478233,\n",
       "  'ST_ATRAN': 4916.384962465355,\n",
       "  'ST_B6': 17171.50540299766,\n",
       "  'ST_CDIST': 8.575469492833498,\n",
       "  'ST_DRAD': 1781.5579649892761,\n",
       "  'ST_EMIS': 9878.136114032375,\n",
       "  'ST_EMSD': 2.681567695128156,\n",
       "  'ST_QA': 796.7955760601826,\n",
       "  'ST_TRAD': 5092.554545796552,\n",
       "  'ST_URAD': 4141.697916594489},\n",
       " 'min': {'QA_PIXEL': 5896,\n",
       "  'QA_RADSAT': 0,\n",
       "  'SR_ATMOS_OPACITY': 330,\n",
       "  'SR_B1': 1837,\n",
       "  'SR_B2': 6942,\n",
       "  'SR_B3': 7120,\n",
       "  'SR_B4': 7343,\n",
       "  'SR_B5': 7320,\n",
       "  'SR_B7': 7453,\n",
       "  'SR_CLOUD_QA': 1,\n",
       "  'ST_ATRAN': 4525,\n",
       "  'ST_B6': 293,\n",
       "  'ST_CDIST': 0,\n",
       "  'ST_DRAD': 1183,\n",
       "  'ST_EMIS': 8629,\n",
       "  'ST_EMSD': 0,\n",
       "  'ST_QA': 0,\n",
       "  'ST_TRAD': 0,\n",
       "  'ST_URAD': 2562},\n",
       " 'std': {'QA_PIXEL': 399.3178531094942,\n",
       "  'QA_RADSAT': 63.027856598501046,\n",
       "  'SR_ATMOS_OPACITY': 9.677821610861162,\n",
       "  'SR_B1': 23797.402671532658,\n",
       "  'SR_B2': 19231.855506033564,\n",
       "  'SR_B3': 20669.75514985839,\n",
       "  'SR_B4': 5763.320140060827,\n",
       "  'SR_B5': 3093.4703112229317,\n",
       "  'SR_B7': 2614.0369074916844,\n",
       "  'SR_CLOUD_QA': 16.571915998453264,\n",
       "  'ST_ATRAN': 125.57763759744229,\n",
       "  'ST_B6': 15511.652779641096,\n",
       "  'ST_CDIST': 48.912303418963525,\n",
       "  'ST_DRAD': 33.86081732089168,\n",
       "  'ST_EMIS': 19.557422770174288,\n",
       "  'ST_EMSD': 28.405422821363185,\n",
       "  'ST_QA': 914.5049584178378,\n",
       "  'ST_TRAD': 1704.4582591642481,\n",
       "  'ST_URAD': 97.22823118498054},\n",
       " 'sum': {'QA_PIXEL': 1615773228562.698,\n",
       "  'QA_RADSAT': 5946547794.137255,\n",
       "  'SR_ATMOS_OPACITY': 113618606546.0549,\n",
       "  'SR_B1': 7916533623289.656,\n",
       "  'SR_B2': 6224191870141.718,\n",
       "  'SR_B3': 6675398329278.497,\n",
       "  'SR_B4': 4638368601493.283,\n",
       "  'SR_B5': 3601863094749.3965,\n",
       "  'SR_B7': 3428681012453.698,\n",
       "  'SR_CLOUD_QA': 3408161034.4862742,\n",
       "  'ST_ATRAN': 1369138998000.9565,\n",
       "  'ST_B6': 4620483470984.443,\n",
       "  'ST_CDIST': 2307514260.560784,\n",
       "  'ST_DRAD': 496137000191.8823,\n",
       "  'ST_EMIS': 2657994367287.875,\n",
       "  'ST_EMSD': 721552299.6313725,\n",
       "  'ST_QA': 214400584138.47058,\n",
       "  'ST_TRAD': 1418199567635.3103,\n",
       "  'ST_URAD': 1153400349818.2708}}"
      ]
     },
     "execution_count": 114,
     "metadata": {},
     "output_type": "execute_result"
    }
   ],
   "source": [
    "first_image_1_stats = geemap.image_stats(first_image_1, scale=10)\n",
    "first_image_1_stats.getInfo()"
   ]
  },
  {
   "cell_type": "code",
   "execution_count": 118,
   "id": "ce267c28-1cd3-4bde-a575-10004617fe32",
   "metadata": {},
   "outputs": [
    {
     "data": {
      "text/html": [
       "\n",
       "            <style>\n",
       "                .geemap-dark {\n",
       "                    --jp-widgets-color: white;\n",
       "                    --jp-widgets-label-color: white;\n",
       "                    --jp-ui-font-color1: white;\n",
       "                    --jp-layout-color2: #454545;\n",
       "                    background-color: #383838;\n",
       "                }\n",
       "\n",
       "                .geemap-dark .jupyter-button {\n",
       "                    --jp-layout-color3: #383838;\n",
       "                }\n",
       "\n",
       "                .geemap-colab {\n",
       "                    background-color: var(--colab-primary-surface-color, white);\n",
       "                }\n",
       "\n",
       "                .geemap-colab .jupyter-button {\n",
       "                    --jp-layout-color3: var(--colab-primary-surface-color, white);\n",
       "                }\n",
       "            </style>\n",
       "            "
      ],
      "text/plain": [
       "<IPython.core.display.HTML object>"
      ]
     },
     "metadata": {},
     "output_type": "display_data"
    },
    {
     "data": {
      "application/vnd.jupyter.widget-view+json": {
       "model_id": "746ae0a8389a40cabb50c68fe378ae2b",
       "version_major": 2,
       "version_minor": 0
      },
      "text/plain": [
       "Map(bottom=13840.0, center=[29.80251790576445, 31.503295898437504], controls=(WidgetControl(options=['position…"
      ]
     },
     "execution_count": 118,
     "metadata": {},
     "output_type": "execute_result"
    }
   ],
   "source": [
    "m"
   ]
  },
  {
   "cell_type": "code",
   "execution_count": 124,
   "id": "0366c8f1-4b18-4f34-b14f-01cfef4b373a",
   "metadata": {},
   "outputs": [
    {
     "data": {
      "text/html": [
       "\n",
       "            <style>\n",
       "                .geemap-dark {\n",
       "                    --jp-widgets-color: white;\n",
       "                    --jp-widgets-label-color: white;\n",
       "                    --jp-ui-font-color1: white;\n",
       "                    --jp-layout-color2: #454545;\n",
       "                    background-color: #383838;\n",
       "                }\n",
       "\n",
       "                .geemap-dark .jupyter-button {\n",
       "                    --jp-layout-color3: #383838;\n",
       "                }\n",
       "\n",
       "                .geemap-colab {\n",
       "                    background-color: var(--colab-primary-surface-color, white);\n",
       "                }\n",
       "\n",
       "                .geemap-colab .jupyter-button {\n",
       "                    --jp-layout-color3: var(--colab-primary-surface-color, white);\n",
       "                }\n",
       "            </style>\n",
       "            "
      ],
      "text/plain": [
       "<IPython.core.display.HTML object>"
      ]
     },
     "metadata": {},
     "output_type": "display_data"
    },
    {
     "data": {
      "text/html": [
       "<div><style>:root {\n",
       "  --font-color-primary: var(--jp-content-font-color0, rgba(0, 0, 0, 1));\n",
       "  --font-color-secondary: var(--jp-content-font-color2, rgba(0, 0, 0, 0.6));\n",
       "  --font-color-accent: rgba(123, 31, 162, 1);\n",
       "  --border-color: var(--jp-border-color2, #e0e0e0);\n",
       "  --background-color: var(--jp-layout-color0, white);\n",
       "  --background-color-row-even: var(--jp-layout-color1, white);\n",
       "  --background-color-row-odd: var(--jp-layout-color2, #eeeeee);\n",
       "}\n",
       "\n",
       "html[theme=\"dark\"],\n",
       "body[data-theme=\"dark\"],\n",
       "body.vscode-dark {\n",
       "  --font-color-primary: rgba(255, 255, 255, 1);\n",
       "  --font-color-secondary: rgba(255, 255, 255, 0.6);\n",
       "  --font-color-accent: rgb(173, 132, 190);\n",
       "  --border-color: #2e2e2e;\n",
       "  --background-color: #111111;\n",
       "  --background-color-row-even: #111111;\n",
       "  --background-color-row-odd: #313131;\n",
       "}\n",
       "\n",
       ".ee {\n",
       "  padding: 1em;\n",
       "  line-height: 1.5em;\n",
       "  min-width: 300px;\n",
       "  max-width: 1200px;\n",
       "  overflow-y: scroll;\n",
       "  max-height: 600px;\n",
       "  border: 1px solid var(--border-color);\n",
       "  font-family: monospace;\n",
       "}\n",
       "\n",
       ".ee li {\n",
       "  list-style-type: none;\n",
       "}\n",
       "\n",
       ".ee ul {\n",
       "  padding-left: 1.5em !important;\n",
       "  margin: 0;\n",
       "}\n",
       "\n",
       ".ee > ul {\n",
       "  padding-left: 0 !important;\n",
       "}\n",
       "\n",
       ".ee-open,\n",
       ".ee-shut {\n",
       "  color: var(--font-color-secondary);\n",
       "  cursor: pointer;\n",
       "  margin: 0;\n",
       "}\n",
       "\n",
       ".ee-open:hover,\n",
       ".ee-shut:hover {\n",
       "  color: var(--font-color-primary);\n",
       "}\n",
       "\n",
       ".ee-k {\n",
       "  color: var(--font-color-accent);\n",
       "  margin-right: 6px;\n",
       "}\n",
       "\n",
       ".ee-v {\n",
       "  color: var(--font-color-primary);\n",
       "}\n",
       "\n",
       ".ee-toggle {\n",
       "  display: none;\n",
       "}\n",
       "\n",
       ".ee-shut + ul {\n",
       "  display: none;\n",
       "}\n",
       "\n",
       ".ee-open + ul {\n",
       "  display: block;\n",
       "}\n",
       "\n",
       ".ee-shut::before {\n",
       "  display: inline-block;\n",
       "  content: \"▼\";\n",
       "  margin-right: 6px;\n",
       "  transform: rotate(-90deg);\n",
       "  transition: transform 0.2s;\n",
       "}\n",
       "\n",
       ".ee-open::before {\n",
       "  transform: rotate(0deg);\n",
       "  display: inline-block;\n",
       "  content: \"▼\";\n",
       "  margin-right: 6px;\n",
       "  transition: transform 0.2s;\n",
       "}\n",
       "</style><div class='ee'><ul><li><label class='ee-shut'>Polygon (5 vertices)<input type='checkbox' class='ee-toggle'></label><ul><li><span class='ee-k'>type:</span><span class='ee-v'>Polygon</span></li><li><label class='ee-shut'>coordinates: List (1 element)<input type='checkbox' class='ee-toggle'></label><ul><li><label class='ee-shut'>0: List (5 elements)<input type='checkbox' class='ee-toggle'></label><ul><li><label class='ee-shut'>0: [32.23114, 30.261254]<input type='checkbox' class='ee-toggle'></label><ul><li><span class='ee-k'>0:</span><span class='ee-v'>32.23114</span></li><li><span class='ee-k'>1:</span><span class='ee-v'>30.261254</span></li></ul></li><li><label class='ee-shut'>1: [32.23114, 30.459143]<input type='checkbox' class='ee-toggle'></label><ul><li><span class='ee-k'>0:</span><span class='ee-v'>32.23114</span></li><li><span class='ee-k'>1:</span><span class='ee-v'>30.459143</span></li></ul></li><li><label class='ee-shut'>2: [32.496185, 30.459143]<input type='checkbox' class='ee-toggle'></label><ul><li><span class='ee-k'>0:</span><span class='ee-v'>32.496185</span></li><li><span class='ee-k'>1:</span><span class='ee-v'>30.459143</span></li></ul></li><li><label class='ee-shut'>3: [32.496185, 30.261254]<input type='checkbox' class='ee-toggle'></label><ul><li><span class='ee-k'>0:</span><span class='ee-v'>32.496185</span></li><li><span class='ee-k'>1:</span><span class='ee-v'>30.261254</span></li></ul></li><li><label class='ee-shut'>4: [32.23114, 30.261254]<input type='checkbox' class='ee-toggle'></label><ul><li><span class='ee-k'>0:</span><span class='ee-v'>32.23114</span></li><li><span class='ee-k'>1:</span><span class='ee-v'>30.261254</span></li></ul></li></ul></li></ul></li><li><span class='ee-k'>geodesic:</span><span class='ee-v'>False</span></li></ul></li></ul></div><script>function toggleHeader() {\n",
       "    const parent = this.parentElement;\n",
       "    parent.className = parent.className === \"ee-open\" ? \"ee-shut\" : \"ee-open\";\n",
       "}\n",
       "\n",
       "for (let c of document.getElementsByClassName(\"ee-toggle\")) {\n",
       "    c.onclick = toggleHeader;\n",
       "}</script></div>"
      ],
      "text/plain": [
       "ee.Geometry({\n",
       "  \"functionInvocationValue\": {\n",
       "    \"functionName\": \"GeometryConstructors.Polygon\",\n",
       "    \"arguments\": {\n",
       "      \"coordinates\": {\n",
       "        \"constantValue\": [\n",
       "          [\n",
       "            [\n",
       "              32.23114,\n",
       "              30.261254\n",
       "            ],\n",
       "            [\n",
       "              32.23114,\n",
       "              30.459143\n",
       "            ],\n",
       "            [\n",
       "              32.496185,\n",
       "              30.459143\n",
       "            ],\n",
       "            [\n",
       "              32.496185,\n",
       "              30.261254\n",
       "            ],\n",
       "            [\n",
       "              32.23114,\n",
       "              30.261254\n",
       "            ]\n",
       "          ]\n",
       "        ]\n",
       "      },\n",
       "      \"geodesic\": {\n",
       "        \"constantValue\": false\n",
       "      }\n",
       "    }\n",
       "  }\n",
       "})"
      ]
     },
     "execution_count": 124,
     "metadata": {},
     "output_type": "execute_result"
    }
   ],
   "source": [
    "m.user_roi"
   ]
  },
  {
   "cell_type": "code",
   "execution_count": 136,
   "id": "6251e826-e843-45d8-b198-1d7172186d22",
   "metadata": {},
   "outputs": [
    {
     "data": {
      "text/html": [
       "\n",
       "            <style>\n",
       "                .geemap-dark {\n",
       "                    --jp-widgets-color: white;\n",
       "                    --jp-widgets-label-color: white;\n",
       "                    --jp-ui-font-color1: white;\n",
       "                    --jp-layout-color2: #454545;\n",
       "                    background-color: #383838;\n",
       "                }\n",
       "\n",
       "                .geemap-dark .jupyter-button {\n",
       "                    --jp-layout-color3: #383838;\n",
       "                }\n",
       "\n",
       "                .geemap-colab {\n",
       "                    background-color: var(--colab-primary-surface-color, white);\n",
       "                }\n",
       "\n",
       "                .geemap-colab .jupyter-button {\n",
       "                    --jp-layout-color3: var(--colab-primary-surface-color, white);\n",
       "                }\n",
       "            </style>\n",
       "            "
      ],
      "text/plain": [
       "<IPython.core.display.HTML object>"
      ]
     },
     "metadata": {},
     "output_type": "display_data"
    },
    {
     "data": {
      "text/plain": [
       "{'max': {'QA_PIXEL': None,\n",
       "  'QA_RADSAT': None,\n",
       "  'SR_ATMOS_OPACITY': None,\n",
       "  'SR_B1': None,\n",
       "  'SR_B2': None,\n",
       "  'SR_B3': None,\n",
       "  'SR_B4': None,\n",
       "  'SR_B5': None,\n",
       "  'SR_B7': None,\n",
       "  'SR_CLOUD_QA': None,\n",
       "  'ST_ATRAN': None,\n",
       "  'ST_B6': None,\n",
       "  'ST_CDIST': None,\n",
       "  'ST_DRAD': None,\n",
       "  'ST_EMIS': None,\n",
       "  'ST_EMSD': None,\n",
       "  'ST_QA': None,\n",
       "  'ST_TRAD': None,\n",
       "  'ST_URAD': None},\n",
       " 'mean': {'QA_PIXEL': None,\n",
       "  'QA_RADSAT': None,\n",
       "  'SR_ATMOS_OPACITY': None,\n",
       "  'SR_B1': None,\n",
       "  'SR_B2': None,\n",
       "  'SR_B3': None,\n",
       "  'SR_B4': None,\n",
       "  'SR_B5': None,\n",
       "  'SR_B7': None,\n",
       "  'SR_CLOUD_QA': None,\n",
       "  'ST_ATRAN': None,\n",
       "  'ST_B6': None,\n",
       "  'ST_CDIST': None,\n",
       "  'ST_DRAD': None,\n",
       "  'ST_EMIS': None,\n",
       "  'ST_EMSD': None,\n",
       "  'ST_QA': None,\n",
       "  'ST_TRAD': None,\n",
       "  'ST_URAD': None},\n",
       " 'min': {'QA_PIXEL': None,\n",
       "  'QA_RADSAT': None,\n",
       "  'SR_ATMOS_OPACITY': None,\n",
       "  'SR_B1': None,\n",
       "  'SR_B2': None,\n",
       "  'SR_B3': None,\n",
       "  'SR_B4': None,\n",
       "  'SR_B5': None,\n",
       "  'SR_B7': None,\n",
       "  'SR_CLOUD_QA': None,\n",
       "  'ST_ATRAN': None,\n",
       "  'ST_B6': None,\n",
       "  'ST_CDIST': None,\n",
       "  'ST_DRAD': None,\n",
       "  'ST_EMIS': None,\n",
       "  'ST_EMSD': None,\n",
       "  'ST_QA': None,\n",
       "  'ST_TRAD': None,\n",
       "  'ST_URAD': None},\n",
       " 'std': {'QA_PIXEL': None,\n",
       "  'QA_RADSAT': None,\n",
       "  'SR_ATMOS_OPACITY': None,\n",
       "  'SR_B1': None,\n",
       "  'SR_B2': None,\n",
       "  'SR_B3': None,\n",
       "  'SR_B4': None,\n",
       "  'SR_B5': None,\n",
       "  'SR_B7': None,\n",
       "  'SR_CLOUD_QA': None,\n",
       "  'ST_ATRAN': None,\n",
       "  'ST_B6': None,\n",
       "  'ST_CDIST': None,\n",
       "  'ST_DRAD': None,\n",
       "  'ST_EMIS': None,\n",
       "  'ST_EMSD': None,\n",
       "  'ST_QA': None,\n",
       "  'ST_TRAD': None,\n",
       "  'ST_URAD': None},\n",
       " 'sum': {'QA_PIXEL': 0,\n",
       "  'QA_RADSAT': 0,\n",
       "  'SR_ATMOS_OPACITY': 0,\n",
       "  'SR_B1': 0,\n",
       "  'SR_B2': 0,\n",
       "  'SR_B3': 0,\n",
       "  'SR_B4': 0,\n",
       "  'SR_B5': 0,\n",
       "  'SR_B7': 0,\n",
       "  'SR_CLOUD_QA': 0,\n",
       "  'ST_ATRAN': 0,\n",
       "  'ST_B6': 0,\n",
       "  'ST_CDIST': 0,\n",
       "  'ST_DRAD': 0,\n",
       "  'ST_EMIS': 0,\n",
       "  'ST_EMSD': 0,\n",
       "  'ST_QA': 0,\n",
       "  'ST_TRAD': 0,\n",
       "  'ST_URAD': 0}}"
      ]
     },
     "execution_count": 136,
     "metadata": {},
     "output_type": "execute_result"
    }
   ],
   "source": [
    "first_image_1_roi = geemap.image_stats(first_image_1,region=m.user_roi, scale=90)\n",
    "first_image_1_roi.getInfo()"
   ]
  },
  {
   "cell_type": "code",
   "execution_count": null,
   "id": "bed0a12d-12a8-4eb1-b67b-2b5dedfabbc8",
   "metadata": {},
   "outputs": [],
   "source": []
  }
 ],
 "metadata": {
  "kernelspec": {
   "display_name": "Python 3 (ipykernel)",
   "language": "python",
   "name": "python3"
  },
  "language_info": {
   "codemirror_mode": {
    "name": "ipython",
    "version": 3
   },
   "file_extension": ".py",
   "mimetype": "text/x-python",
   "name": "python",
   "nbconvert_exporter": "python",
   "pygments_lexer": "ipython3",
   "version": "3.11.7"
  }
 },
 "nbformat": 4,
 "nbformat_minor": 5
}
