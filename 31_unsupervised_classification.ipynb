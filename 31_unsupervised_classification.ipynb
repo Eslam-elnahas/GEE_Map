{
 "cells": [
  {
   "cell_type": "code",
   "execution_count": 1,
   "id": "1",
   "metadata": {},
   "outputs": [],
   "source": [
    "# !pip install geemap"
   ]
  },
  {
   "cell_type": "markdown",
   "id": "2",
   "metadata": {},
   "source": [
    "# Machine Learning with Earth Engine - Unsupervised Classification"
   ]
  },
  {
   "cell_type": "markdown",
   "id": "3",
   "metadata": {},
   "source": [
    "## Unsupervised classification algorithms available in Earth Engine\n",
    "\n",
    "Source: https://developers.google.com/earth-engine/clustering\n",
    "\n",
    "The `ee.Clusterer` package handles unsupervised classification (or clustering) in Earth Engine. These algorithms are currently based on the algorithms with the same name in [Weka](http://www.cs.waikato.ac.nz/ml/weka/). More details about each Clusterer are available in the reference docs in the Code Editor.\n",
    "\n",
    "Clusterers are used in the same manner as classifiers in Earth Engine. The general workflow for clustering is:\n",
    "\n",
    "1. Assemble features with numeric properties in which to find clusters.\n",
    "2. Instantiate a clusterer. Set its parameters if necessary.\n",
    "3. Train the clusterer using the training data.\n",
    "4. Apply the clusterer to an image or feature collection.\n",
    "5. Label the clusters.\n",
    "\n",
    "The training data is a `FeatureCollection` with properties that will be input to the clusterer. Unlike classifiers, there is no input class value for an `Clusterer`. Like classifiers, the data for the train and apply steps are expected to have the same number of values. When a trained clusterer is applied to an image or table, it assigns an integer cluster ID to each pixel or feature.\n",
    "\n",
    "Here is a simple example of building and using an ee.Clusterer:"
   ]
  },
  {
   "cell_type": "markdown",
   "id": "4",
   "metadata": {},
   "source": [
    "![](https://i.imgur.com/IcBapEx.png)"
   ]
  },
  {
   "cell_type": "markdown",
   "id": "5",
   "metadata": {},
   "source": [
    "## Step-by-step tutorial\n",
    "\n",
    "### Import libraries"
   ]
  },
  {
   "cell_type": "code",
   "execution_count": 7,
   "id": "6",
   "metadata": {},
   "outputs": [],
   "source": [
    "import ee\n",
    "import geemap\n",
    "ee.Authenticate()\n",
    "ee.Initialize(project='ee-eslamelnahas-jupyter')"
   ]
  },
  {
   "cell_type": "code",
   "execution_count": 8,
   "id": "21aa9e3c-1b8d-47b1-90c0-c362679d6dc5",
   "metadata": {},
   "outputs": [
    {
     "data": {
      "text/html": [
       "\n",
       "            <style>\n",
       "                .geemap-dark {\n",
       "                    --jp-widgets-color: white;\n",
       "                    --jp-widgets-label-color: white;\n",
       "                    --jp-ui-font-color1: white;\n",
       "                    --jp-layout-color2: #454545;\n",
       "                    background-color: #383838;\n",
       "                }\n",
       "\n",
       "                .geemap-dark .jupyter-button {\n",
       "                    --jp-layout-color3: #383838;\n",
       "                }\n",
       "\n",
       "                .geemap-colab {\n",
       "                    background-color: var(--colab-primary-surface-color, white);\n",
       "                }\n",
       "\n",
       "                .geemap-colab .jupyter-button {\n",
       "                    --jp-layout-color3: var(--colab-primary-surface-color, white);\n",
       "                }\n",
       "            </style>\n",
       "            "
      ],
      "text/plain": [
       "<IPython.core.display.HTML object>"
      ]
     },
     "metadata": {},
     "output_type": "display_data"
    },
    {
     "data": {
      "application/vnd.jupyter.widget-view+json": {
       "model_id": "823ff509a8694282a08a0989668d8e53",
       "version_major": 2,
       "version_minor": 0
      },
      "text/plain": [
       "Map(center=[31.0, 31.5], controls=(WidgetControl(options=['position', 'transparent_bg'], widget=SearchDataGUI(…"
      ]
     },
     "execution_count": 8,
     "metadata": {},
     "output_type": "execute_result"
    }
   ],
   "source": [
    "# Define a region in which to generate a segmented map.\n",
    "region = ee.Geometry.Rectangle(29.7, 30, 32.5, 31.7)\n",
    "\n",
    "# Load a Landsat composite for input.\n",
    "input = (\n",
    "    ee.ImageCollection('LANDSAT/COMPOSITES/C02/T1_L2_32DAY')\n",
    "    .filterDate('2001-05', '2001-06')\n",
    "    .first()\n",
    "    .clip(region)\n",
    ")\n",
    "\n",
    "# Display the sample region.\n",
    "m = geemap.Map()\n",
    "m.set_center(31.5, 31.0, 8)\n",
    "m.add_layer(ee.Image().paint(region, 0, 2), {}, 'region')\n",
    "\n",
    "# Make the training dataset.\n",
    "training = input.sample(region=region, scale=30, numPixels=5000)\n",
    "\n",
    "# Instantiate the clusterer and train it.\n",
    "n_cluster=15 # عدد الكلاسات المصنفعه\n",
    "clusterer = ee.Clusterer.wekaKMeans(n_cluster).train(training)\n",
    "\n",
    "# Cluster the input using the trained clusterer.\n",
    "result = input.cluster(clusterer)\n",
    "\n",
    "# Display the clusters with random colors.\n",
    "m.add_layer(result.randomVisualizer(), {}, 'clusters')\n",
    "m"
   ]
  },
  {
   "cell_type": "markdown",
   "id": "7",
   "metadata": {},
   "source": [
    "### Create an interactive map"
   ]
  },
  {
   "cell_type": "code",
   "execution_count": 10,
   "id": "8",
   "metadata": {},
   "outputs": [
    {
     "data": {
      "text/html": [
       "\n",
       "            <style>\n",
       "                .geemap-dark {\n",
       "                    --jp-widgets-color: white;\n",
       "                    --jp-widgets-label-color: white;\n",
       "                    --jp-ui-font-color1: white;\n",
       "                    --jp-layout-color2: #454545;\n",
       "                    background-color: #383838;\n",
       "                }\n",
       "\n",
       "                .geemap-dark .jupyter-button {\n",
       "                    --jp-layout-color3: #383838;\n",
       "                }\n",
       "\n",
       "                .geemap-colab {\n",
       "                    background-color: var(--colab-primary-surface-color, white);\n",
       "                }\n",
       "\n",
       "                .geemap-colab .jupyter-button {\n",
       "                    --jp-layout-color3: var(--colab-primary-surface-color, white);\n",
       "                }\n",
       "            </style>\n",
       "            "
      ],
      "text/plain": [
       "<IPython.core.display.HTML object>"
      ]
     },
     "metadata": {},
     "output_type": "display_data"
    },
    {
     "data": {
      "application/vnd.jupyter.widget-view+json": {
       "model_id": "6add8036b3db43c595cc33101b708eb4",
       "version_major": 2,
       "version_minor": 0
      },
      "text/plain": [
       "Map(center=[0, 0], controls=(WidgetControl(options=['position', 'transparent_bg'], widget=SearchDataGUI(childr…"
      ]
     },
     "execution_count": 10,
     "metadata": {},
     "output_type": "execute_result"
    }
   ],
   "source": [
    "Map = geemap.Map()\n",
    "Map"
   ]
  },
  {
   "cell_type": "markdown",
   "id": "9",
   "metadata": {},
   "source": [
    "### Add data to the map"
   ]
  },
  {
   "cell_type": "code",
   "execution_count": 12,
   "id": "91652e1c-d68a-46f5-a002-7f55ca98db26",
   "metadata": {},
   "outputs": [
    {
     "data": {
      "text/html": [
       "\n",
       "            <style>\n",
       "                .geemap-dark {\n",
       "                    --jp-widgets-color: white;\n",
       "                    --jp-widgets-label-color: white;\n",
       "                    --jp-ui-font-color1: white;\n",
       "                    --jp-layout-color2: #454545;\n",
       "                    background-color: #383838;\n",
       "                }\n",
       "\n",
       "                .geemap-dark .jupyter-button {\n",
       "                    --jp-layout-color3: #383838;\n",
       "                }\n",
       "\n",
       "                .geemap-colab {\n",
       "                    background-color: var(--colab-primary-surface-color, white);\n",
       "                }\n",
       "\n",
       "                .geemap-colab .jupyter-button {\n",
       "                    --jp-layout-color3: var(--colab-primary-surface-color, white);\n",
       "                }\n",
       "            </style>\n",
       "            "
      ],
      "text/plain": [
       "<IPython.core.display.HTML object>"
      ]
     },
     "metadata": {},
     "output_type": "display_data"
    }
   ],
   "source": [
    "point=ee.Geometry.Point([31.5,31.5])\n",
    "first = ee.ImageCollection('COPERNICUS/S2_SR') \\\n",
    ".filterBounds(point) \\\n",
    ".filterDate('2024-01-01', '2024-8-31') \\\n",
    ".sort('CLOUDY_PIXEL_PERCENTAGE') \\\n",
    ".first()\n",
    "Map.centerObject(first, 10)\n",
    "Map.addLayer(first, {\"bands\": ['B4', 'B3', 'B2'], \"min\": 0, \"max\": 4000}, 'first')\n"
   ]
  },
  {
   "cell_type": "markdown",
   "id": "11",
   "metadata": {},
   "source": [
    "### Check image properties"
   ]
  },
  {
   "cell_type": "code",
   "execution_count": 14,
   "id": "12",
   "metadata": {},
   "outputs": [
    {
     "data": {
      "text/html": [
       "\n",
       "            <style>\n",
       "                .geemap-dark {\n",
       "                    --jp-widgets-color: white;\n",
       "                    --jp-widgets-label-color: white;\n",
       "                    --jp-ui-font-color1: white;\n",
       "                    --jp-layout-color2: #454545;\n",
       "                    background-color: #383838;\n",
       "                }\n",
       "\n",
       "                .geemap-dark .jupyter-button {\n",
       "                    --jp-layout-color3: #383838;\n",
       "                }\n",
       "\n",
       "                .geemap-colab {\n",
       "                    background-color: var(--colab-primary-surface-color, white);\n",
       "                }\n",
       "\n",
       "                .geemap-colab .jupyter-button {\n",
       "                    --jp-layout-color3: var(--colab-primary-surface-color, white);\n",
       "                }\n",
       "            </style>\n",
       "            "
      ],
      "text/plain": [
       "<IPython.core.display.HTML object>"
      ]
     },
     "metadata": {},
     "output_type": "display_data"
    },
    {
     "data": {
      "text/plain": [
       "{'AOT_RETRIEVAL_ACCURACY': 0,\n",
       " 'AOT_RETRIEVAL_METHOD': 'SEN2COR_DDV',\n",
       " 'BOA_ADD_OFFSET_B1': -1000,\n",
       " 'BOA_ADD_OFFSET_B10': -1000,\n",
       " 'BOA_ADD_OFFSET_B11': -1000,\n",
       " 'BOA_ADD_OFFSET_B12': -1000,\n",
       " 'BOA_ADD_OFFSET_B2': -1000,\n",
       " 'BOA_ADD_OFFSET_B3': -1000,\n",
       " 'BOA_ADD_OFFSET_B4': -1000,\n",
       " 'BOA_ADD_OFFSET_B5': -1000,\n",
       " 'BOA_ADD_OFFSET_B6': -1000,\n",
       " 'BOA_ADD_OFFSET_B7': -1000,\n",
       " 'BOA_ADD_OFFSET_B8': -1000,\n",
       " 'BOA_ADD_OFFSET_B8A': -1000,\n",
       " 'BOA_ADD_OFFSET_B9': -1000,\n",
       " 'CLOUDY_PIXEL_OVER_LAND_PERCENTAGE': 0.001766,\n",
       " 'CLOUDY_PIXEL_PERCENTAGE': 0.002369,\n",
       " 'CLOUD_COVERAGE_ASSESSMENT': 0.002369,\n",
       " 'CLOUD_SHADOW_PERCENTAGE': 0,\n",
       " 'DARK_FEATURES_PERCENTAGE': 0.008222,\n",
       " 'DATASTRIP_ID': 'S2B_OPER_MSI_L2A_DS_2BPS_20240711T111659_S20240711T083525_N05.10',\n",
       " 'DATATAKE_IDENTIFIER': 'GS2B_20240711T082559_038371_N05.10',\n",
       " 'DATATAKE_TYPE': 'INS-NOBS',\n",
       " 'DEGRADED_MSI_DATA_PERCENTAGE': 0.0213,\n",
       " 'FORMAT_CORRECTNESS': 'PASSED',\n",
       " 'GENERAL_QUALITY': 'PASSED',\n",
       " 'GENERATION_TIME': 1720696619000,\n",
       " 'GEOMETRIC_QUALITY': 'PASSED',\n",
       " 'GRANULE_ID': 'L2A_T36RUV_A038371_20240711T083525',\n",
       " 'GRANULE_MEAN_AOT': 0.354363,\n",
       " 'GRANULE_MEAN_WV': 2.844977,\n",
       " 'HIGH_PROBA_CLOUDS_PERCENTAGE': 7e-05,\n",
       " 'IMAGE_DATE': '2024-07-11',\n",
       " 'L2A_QUALITY': 'PASSED',\n",
       " 'MEAN_INCIDENCE_AZIMUTH_ANGLE_B1': 105.46832171432,\n",
       " 'MEAN_INCIDENCE_AZIMUTH_ANGLE_B10': 105.211277033728,\n",
       " 'MEAN_INCIDENCE_AZIMUTH_ANGLE_B11': 105.358581291608,\n",
       " 'MEAN_INCIDENCE_AZIMUTH_ANGLE_B12': 105.456456723007,\n",
       " 'MEAN_INCIDENCE_AZIMUTH_ANGLE_B2': 104.974822064071,\n",
       " 'MEAN_INCIDENCE_AZIMUTH_ANGLE_B3': 105.106699485323,\n",
       " 'MEAN_INCIDENCE_AZIMUTH_ANGLE_B4': 105.204634043325,\n",
       " 'MEAN_INCIDENCE_AZIMUTH_ANGLE_B5': 105.267788570756,\n",
       " 'MEAN_INCIDENCE_AZIMUTH_ANGLE_B6': 105.284236757834,\n",
       " 'MEAN_INCIDENCE_AZIMUTH_ANGLE_B7': 105.337096243371,\n",
       " 'MEAN_INCIDENCE_AZIMUTH_ANGLE_B8': 105.047241316984,\n",
       " 'MEAN_INCIDENCE_AZIMUTH_ANGLE_B8A': 105.386042994004,\n",
       " 'MEAN_INCIDENCE_AZIMUTH_ANGLE_B9': 105.502191668444,\n",
       " 'MEAN_INCIDENCE_ZENITH_ANGLE_B1': 6.62537489705557,\n",
       " 'MEAN_INCIDENCE_ZENITH_ANGLE_B10': 6.41807428170382,\n",
       " 'MEAN_INCIDENCE_ZENITH_ANGLE_B11': 6.49375068969794,\n",
       " 'MEAN_INCIDENCE_ZENITH_ANGLE_B12': 6.58944422356592,\n",
       " 'MEAN_INCIDENCE_ZENITH_ANGLE_B2': 6.33836523794665,\n",
       " 'MEAN_INCIDENCE_ZENITH_ANGLE_B3': 6.37514650115137,\n",
       " 'MEAN_INCIDENCE_ZENITH_ANGLE_B4': 6.42445450308049,\n",
       " 'MEAN_INCIDENCE_ZENITH_ANGLE_B5': 6.45635645408633,\n",
       " 'MEAN_INCIDENCE_ZENITH_ANGLE_B6': 6.49081668514308,\n",
       " 'MEAN_INCIDENCE_ZENITH_ANGLE_B7': 6.52938379223632,\n",
       " 'MEAN_INCIDENCE_ZENITH_ANGLE_B8': 6.35354541874748,\n",
       " 'MEAN_INCIDENCE_ZENITH_ANGLE_B8A': 6.57681969038683,\n",
       " 'MEAN_INCIDENCE_ZENITH_ANGLE_B9': 6.67425528620721,\n",
       " 'MEAN_SOLAR_AZIMUTH_ANGLE': 112.929028552799,\n",
       " 'MEAN_SOLAR_ZENITH_ANGLE': 19.6411353387712,\n",
       " 'MEDIUM_PROBA_CLOUDS_PERCENTAGE': 0.002097,\n",
       " 'MGRS_TILE': '36RUV',\n",
       " 'NODATA_PIXEL_PERCENTAGE': 0,\n",
       " 'NOMINAL_SCALE': {'AOT': 10,\n",
       "  'B1': 60,\n",
       "  'B11': 20,\n",
       "  'B12': 20,\n",
       "  'B2': 10,\n",
       "  'B3': 10,\n",
       "  'B4': 10,\n",
       "  'B5': 20,\n",
       "  'B6': 20,\n",
       "  'B7': 20,\n",
       "  'B8': 10,\n",
       "  'B8A': 20,\n",
       "  'B9': 60,\n",
       "  'MSK_CLASSI_CIRRUS': 60,\n",
       "  'MSK_CLASSI_OPAQUE': 60,\n",
       "  'MSK_CLASSI_SNOW_ICE': 60,\n",
       "  'MSK_CLDPRB': 20,\n",
       "  'MSK_SNWPRB': 20,\n",
       "  'SCL': 20,\n",
       "  'TCI_B': 10,\n",
       "  'TCI_G': 10,\n",
       "  'TCI_R': 10,\n",
       "  'WVP': 10},\n",
       " 'NOT_VEGETATED_PERCENTAGE': 26.153767,\n",
       " 'OZONE_SOURCE': 'AUX_ECMWFT',\n",
       " 'OZONE_VALUE': 298.417841,\n",
       " 'PROCESSING_BASELINE': '05.10',\n",
       " 'PRODUCT_ID': 'S2B_MSIL2A_20240711T082559_N0510_R021_T36RUV_20240711T111659',\n",
       " 'RADIATIVE_TRANSFER_ACCURACY': 0,\n",
       " 'RADIOMETRIC_QUALITY': 'PASSED',\n",
       " 'REFLECTANCE_CONVERSION_CORRECTION': 0.967400704010809,\n",
       " 'SATURATED_DEFECTIVE_PIXEL_PERCENTAGE': 0,\n",
       " 'SENSING_ORBIT_DIRECTION': 'DESCENDING',\n",
       " 'SENSING_ORBIT_NUMBER': 21,\n",
       " 'SENSOR_QUALITY': 'PASSED',\n",
       " 'SNOW_ICE_PERCENTAGE': 0,\n",
       " 'SOLAR_IRRADIANCE_B1': 1874.3,\n",
       " 'SOLAR_IRRADIANCE_B10': 365.41,\n",
       " 'SOLAR_IRRADIANCE_B11': 247.08,\n",
       " 'SOLAR_IRRADIANCE_B12': 87.75,\n",
       " 'SOLAR_IRRADIANCE_B2': 1959.75,\n",
       " 'SOLAR_IRRADIANCE_B3': 1824.93,\n",
       " 'SOLAR_IRRADIANCE_B4': 1512.79,\n",
       " 'SOLAR_IRRADIANCE_B5': 1425.78,\n",
       " 'SOLAR_IRRADIANCE_B6': 1291.13,\n",
       " 'SOLAR_IRRADIANCE_B7': 1175.57,\n",
       " 'SOLAR_IRRADIANCE_B8': 1041.28,\n",
       " 'SOLAR_IRRADIANCE_B8A': 953.93,\n",
       " 'SOLAR_IRRADIANCE_B9': 817.58,\n",
       " 'SPACECRAFT_NAME': 'Sentinel-2B',\n",
       " 'THIN_CIRRUS_PERCENTAGE': 0.000202,\n",
       " 'UNCLASSIFIED_PERCENTAGE': 2.321721,\n",
       " 'VEGETATION_PERCENTAGE': 55.164158,\n",
       " 'WATER_PERCENTAGE': 16.34976,\n",
       " 'WATER_VAPOUR_RETRIEVAL_ACCURACY': 0,\n",
       " 'system:asset_size': '1805.186289 MB',\n",
       " 'system:band_names': ['B1',\n",
       "  'B2',\n",
       "  'B3',\n",
       "  'B4',\n",
       "  'B5',\n",
       "  'B6',\n",
       "  'B7',\n",
       "  'B8',\n",
       "  'B8A',\n",
       "  'B9',\n",
       "  'B11',\n",
       "  'B12',\n",
       "  'AOT',\n",
       "  'WVP',\n",
       "  'SCL',\n",
       "  'TCI_R',\n",
       "  'TCI_G',\n",
       "  'TCI_B',\n",
       "  'MSK_CLDPRB',\n",
       "  'MSK_SNWPRB',\n",
       "  'MSK_CLASSI_OPAQUE',\n",
       "  'MSK_CLASSI_CIRRUS',\n",
       "  'MSK_CLASSI_SNOW_ICE'],\n",
       " 'system:id': 'COPERNICUS/S2_SR/20240711T082559_20240711T083525_T36RUV',\n",
       " 'system:index': '20240711T082559_20240711T083525_T36RUV',\n",
       " 'system:time_end': '2024-07-11 08:41:39',\n",
       " 'system:time_start': '2024-07-11 08:41:39',\n",
       " 'system:version': 1720705270105675}"
      ]
     },
     "execution_count": 14,
     "metadata": {},
     "output_type": "execute_result"
    }
   ],
   "source": [
    "props = geemap.image_props(first)\n",
    "props.getInfo()"
   ]
  },
  {
   "cell_type": "code",
   "execution_count": 15,
   "id": "13",
   "metadata": {},
   "outputs": [
    {
     "data": {
      "text/html": [
       "\n",
       "            <style>\n",
       "                .geemap-dark {\n",
       "                    --jp-widgets-color: white;\n",
       "                    --jp-widgets-label-color: white;\n",
       "                    --jp-ui-font-color1: white;\n",
       "                    --jp-layout-color2: #454545;\n",
       "                    background-color: #383838;\n",
       "                }\n",
       "\n",
       "                .geemap-dark .jupyter-button {\n",
       "                    --jp-layout-color3: #383838;\n",
       "                }\n",
       "\n",
       "                .geemap-colab {\n",
       "                    background-color: var(--colab-primary-surface-color, white);\n",
       "                }\n",
       "\n",
       "                .geemap-colab .jupyter-button {\n",
       "                    --jp-layout-color3: var(--colab-primary-surface-color, white);\n",
       "                }\n",
       "            </style>\n",
       "            "
      ],
      "text/plain": [
       "<IPython.core.display.HTML object>"
      ]
     },
     "metadata": {},
     "output_type": "display_data"
    },
    {
     "data": {
      "text/plain": [
       "'2024-07-11'"
      ]
     },
     "execution_count": 15,
     "metadata": {},
     "output_type": "execute_result"
    }
   ],
   "source": [
    "props.get(\"IMAGE_DATE\").getInfo()"
   ]
  },
  {
   "cell_type": "code",
   "execution_count": 16,
   "id": "14",
   "metadata": {},
   "outputs": [
    {
     "data": {
      "text/html": [
       "\n",
       "            <style>\n",
       "                .geemap-dark {\n",
       "                    --jp-widgets-color: white;\n",
       "                    --jp-widgets-label-color: white;\n",
       "                    --jp-ui-font-color1: white;\n",
       "                    --jp-layout-color2: #454545;\n",
       "                    background-color: #383838;\n",
       "                }\n",
       "\n",
       "                .geemap-dark .jupyter-button {\n",
       "                    --jp-layout-color3: #383838;\n",
       "                }\n",
       "\n",
       "                .geemap-colab {\n",
       "                    background-color: var(--colab-primary-surface-color, white);\n",
       "                }\n",
       "\n",
       "                .geemap-colab .jupyter-button {\n",
       "                    --jp-layout-color3: var(--colab-primary-surface-color, white);\n",
       "                }\n",
       "            </style>\n",
       "            "
      ],
      "text/plain": [
       "<IPython.core.display.HTML object>"
      ]
     },
     "metadata": {},
     "output_type": "display_data"
    },
    {
     "data": {
      "text/plain": [
       "0.002369"
      ]
     },
     "execution_count": 16,
     "metadata": {},
     "output_type": "execute_result"
    }
   ],
   "source": [
    "props.get(\"CLOUD_COVERAGE_ASSESSMENT\").getInfo()"
   ]
  },
  {
   "cell_type": "code",
   "execution_count": 19,
   "id": "5bd0caca-4f2e-414d-8abe-ee731c31a551",
   "metadata": {},
   "outputs": [
    {
     "data": {
      "text/html": [
       "\n",
       "            <style>\n",
       "                .geemap-dark {\n",
       "                    --jp-widgets-color: white;\n",
       "                    --jp-widgets-label-color: white;\n",
       "                    --jp-ui-font-color1: white;\n",
       "                    --jp-layout-color2: #454545;\n",
       "                    background-color: #383838;\n",
       "                }\n",
       "\n",
       "                .geemap-dark .jupyter-button {\n",
       "                    --jp-layout-color3: #383838;\n",
       "                }\n",
       "\n",
       "                .geemap-colab {\n",
       "                    background-color: var(--colab-primary-surface-color, white);\n",
       "                }\n",
       "\n",
       "                .geemap-colab .jupyter-button {\n",
       "                    --jp-layout-color3: var(--colab-primary-surface-color, white);\n",
       "                }\n",
       "            </style>\n",
       "            "
      ],
      "text/plain": [
       "<IPython.core.display.HTML object>"
      ]
     },
     "metadata": {},
     "output_type": "display_data"
    },
    {
     "data": {
      "text/plain": [
       "{'geodesic': False,\n",
       " 'type': 'Polygon',\n",
       " 'coordinates': [[[31.217651, 31.102407],\n",
       "   [31.217651, 31.594986],\n",
       "   [31.992188, 31.594986],\n",
       "   [31.992188, 31.102407],\n",
       "   [31.217651, 31.102407]]]}"
      ]
     },
     "execution_count": 19,
     "metadata": {},
     "output_type": "execute_result"
    }
   ],
   "source": [
    "Map.user_roi.getInfo()"
   ]
  },
  {
   "cell_type": "code",
   "execution_count": 20,
   "id": "16",
   "metadata": {},
   "outputs": [
    {
     "data": {
      "text/html": [
       "\n",
       "            <style>\n",
       "                .geemap-dark {\n",
       "                    --jp-widgets-color: white;\n",
       "                    --jp-widgets-label-color: white;\n",
       "                    --jp-ui-font-color1: white;\n",
       "                    --jp-layout-color2: #454545;\n",
       "                    background-color: #383838;\n",
       "                }\n",
       "\n",
       "                .geemap-dark .jupyter-button {\n",
       "                    --jp-layout-color3: #383838;\n",
       "                }\n",
       "\n",
       "                .geemap-colab {\n",
       "                    background-color: var(--colab-primary-surface-color, white);\n",
       "                }\n",
       "\n",
       "                .geemap-colab .jupyter-button {\n",
       "                    --jp-layout-color3: var(--colab-primary-surface-color, white);\n",
       "                }\n",
       "            </style>\n",
       "            "
      ],
      "text/plain": [
       "<IPython.core.display.HTML object>"
      ]
     },
     "metadata": {},
     "output_type": "display_data"
    }
   ],
   "source": [
    "# region = Map.user_roi\n",
    "# region = ee.Geometry.Rectangle([31.217651, 31.102407, 31.992188, 31.594986])\n",
    "# region = ee.Geometry.Point([31.6049195, 31.3486965]).buffer(10000)"
   ]
  },
  {
   "cell_type": "markdown",
   "id": "15",
   "metadata": {},
   "source": [
    "### Make training dataset\n",
    "\n",
    "There are several ways you can create a region for generating the training dataset.\n",
    "\n",
    "- Draw a shape (e.g., rectangle) on the map and the use `region = Map.user_roi`\n",
    "- Define a geometry, such as `region = ee.Geometry.Rectangle([31.217651, 31.102407, 31.992188, 31.594986])`\n",
    "- Create a buffer zone around a point, such as `region = ee.Geometry.Point([31.6049195, 31.3486965]).buffer(10000)`\n",
    "- If you don't define a region, it will use the image footprint by default"
   ]
  },
  {
   "cell_type": "code",
   "execution_count": 24,
   "id": "17",
   "metadata": {},
   "outputs": [
    {
     "data": {
      "text/html": [
       "\n",
       "            <style>\n",
       "                .geemap-dark {\n",
       "                    --jp-widgets-color: white;\n",
       "                    --jp-widgets-label-color: white;\n",
       "                    --jp-ui-font-color1: white;\n",
       "                    --jp-layout-color2: #454545;\n",
       "                    background-color: #383838;\n",
       "                }\n",
       "\n",
       "                .geemap-dark .jupyter-button {\n",
       "                    --jp-layout-color3: #383838;\n",
       "                }\n",
       "\n",
       "                .geemap-colab {\n",
       "                    background-color: var(--colab-primary-surface-color, white);\n",
       "                }\n",
       "\n",
       "                .geemap-colab .jupyter-button {\n",
       "                    --jp-layout-color3: var(--colab-primary-surface-color, white);\n",
       "                }\n",
       "            </style>\n",
       "            "
      ],
      "text/plain": [
       "<IPython.core.display.HTML object>"
      ]
     },
     "metadata": {},
     "output_type": "display_data"
    },
    {
     "data": {
      "application/vnd.jupyter.widget-view+json": {
       "model_id": "6add8036b3db43c595cc33101b708eb4",
       "version_major": 2,
       "version_minor": 0
      },
      "text/plain": [
       "Map(bottom=27181.0, center=[30.748271908888693, 31.039123535156254], controls=(WidgetControl(options=['positio…"
      ]
     },
     "execution_count": 24,
     "metadata": {},
     "output_type": "execute_result"
    }
   ],
   "source": [
    "# Make the training dataset.\n",
    "training = input.sample(\n",
    "    **{\n",
    "        # 'region': region,\n",
    "        \"scale\": 30,\n",
    "        \"numPixels\": 5000,\n",
    "        \"seed\": 0,\n",
    "        \"geometries\": True,  # Set this to False to ignore geometries\n",
    "    }\n",
    ")\n",
    "\n",
    "Map.addLayer(training, {}, \"training\", False)\n",
    "Map"
   ]
  },
  {
   "cell_type": "markdown",
   "id": "18",
   "metadata": {},
   "source": [
    "### Train the clusterer"
   ]
  },
  {
   "cell_type": "code",
   "execution_count": 43,
   "id": "19",
   "metadata": {},
   "outputs": [
    {
     "data": {
      "text/html": [
       "\n",
       "            <style>\n",
       "                .geemap-dark {\n",
       "                    --jp-widgets-color: white;\n",
       "                    --jp-widgets-label-color: white;\n",
       "                    --jp-ui-font-color1: white;\n",
       "                    --jp-layout-color2: #454545;\n",
       "                    background-color: #383838;\n",
       "                }\n",
       "\n",
       "                .geemap-dark .jupyter-button {\n",
       "                    --jp-layout-color3: #383838;\n",
       "                }\n",
       "\n",
       "                .geemap-colab {\n",
       "                    background-color: var(--colab-primary-surface-color, white);\n",
       "                }\n",
       "\n",
       "                .geemap-colab .jupyter-button {\n",
       "                    --jp-layout-color3: var(--colab-primary-surface-color, white);\n",
       "                }\n",
       "            </style>\n",
       "            "
      ],
      "text/plain": [
       "<IPython.core.display.HTML object>"
      ]
     },
     "metadata": {},
     "output_type": "display_data"
    }
   ],
   "source": [
    "# Instantiate the clusterer and train it.\n",
    "n_clusters = 5\n",
    "clusterer = ee.Clusterer.wekaKMeans(n_clusters).train(training)"
   ]
  },
  {
   "cell_type": "markdown",
   "id": "20",
   "metadata": {},
   "source": [
    "### Classify the image"
   ]
  },
  {
   "cell_type": "code",
   "execution_count": 46,
   "id": "21",
   "metadata": {},
   "outputs": [
    {
     "data": {
      "text/html": [
       "\n",
       "            <style>\n",
       "                .geemap-dark {\n",
       "                    --jp-widgets-color: white;\n",
       "                    --jp-widgets-label-color: white;\n",
       "                    --jp-ui-font-color1: white;\n",
       "                    --jp-layout-color2: #454545;\n",
       "                    background-color: #383838;\n",
       "                }\n",
       "\n",
       "                .geemap-dark .jupyter-button {\n",
       "                    --jp-layout-color3: #383838;\n",
       "                }\n",
       "\n",
       "                .geemap-colab {\n",
       "                    background-color: var(--colab-primary-surface-color, white);\n",
       "                }\n",
       "\n",
       "                .geemap-colab .jupyter-button {\n",
       "                    --jp-layout-color3: var(--colab-primary-surface-color, white);\n",
       "                }\n",
       "            </style>\n",
       "            "
      ],
      "text/plain": [
       "<IPython.core.display.HTML object>"
      ]
     },
     "metadata": {},
     "output_type": "display_data"
    },
    {
     "data": {
      "application/vnd.jupyter.widget-view+json": {
       "model_id": "6add8036b3db43c595cc33101b708eb4",
       "version_major": 2,
       "version_minor": 0
      },
      "text/plain": [
       "Map(bottom=27181.0, center=[30.748271908888693, 31.039123535156254], controls=(WidgetControl(options=['positio…"
      ]
     },
     "execution_count": 46,
     "metadata": {},
     "output_type": "execute_result"
    }
   ],
   "source": [
    "# Cluster the input using the trained clusterer.\n",
    "result = input.cluster(clusterer)\n",
    "\n",
    "# # Display the clusters with random colors.\n",
    "Map.addLayer(result.randomVisualizer(), {}, \"clusters\")\n",
    "Map"
   ]
  },
  {
   "cell_type": "markdown",
   "id": "22",
   "metadata": {},
   "source": [
    "### Label the clusters"
   ]
  },
  {
   "cell_type": "code",
   "execution_count": 49,
   "id": "23",
   "metadata": {},
   "outputs": [
    {
     "data": {
      "text/html": [
       "\n",
       "            <style>\n",
       "                .geemap-dark {\n",
       "                    --jp-widgets-color: white;\n",
       "                    --jp-widgets-label-color: white;\n",
       "                    --jp-ui-font-color1: white;\n",
       "                    --jp-layout-color2: #454545;\n",
       "                    background-color: #383838;\n",
       "                }\n",
       "\n",
       "                .geemap-dark .jupyter-button {\n",
       "                    --jp-layout-color3: #383838;\n",
       "                }\n",
       "\n",
       "                .geemap-colab {\n",
       "                    background-color: var(--colab-primary-surface-color, white);\n",
       "                }\n",
       "\n",
       "                .geemap-colab .jupyter-button {\n",
       "                    --jp-layout-color3: var(--colab-primary-surface-color, white);\n",
       "                }\n",
       "            </style>\n",
       "            "
      ],
      "text/plain": [
       "<IPython.core.display.HTML object>"
      ]
     },
     "metadata": {},
     "output_type": "display_data"
    },
    {
     "data": {
      "application/vnd.jupyter.widget-view+json": {
       "model_id": "6add8036b3db43c595cc33101b708eb4",
       "version_major": 2,
       "version_minor": 0
      },
      "text/plain": [
       "Map(bottom=27181.0, center=[30.748271908888693, 31.039123535156254], controls=(WidgetControl(options=['positio…"
      ]
     },
     "execution_count": 49,
     "metadata": {},
     "output_type": "execute_result"
    }
   ],
   "source": [
    "legend_keys = [\"Vegetation\", \"Buliding\", \"Desart\", \"Water\", \"etc\"]\n",
    "legend_colors = [\"#008000\", \"#A52A2A\", \"#FFFF00\", \"#0000FF\", \"#80B1D3\"]\n",
    "\n",
    "# Reclassify the map\n",
    "result = result.remap([0, 1, 2, 3, 4], [1, 2, 3, 4, 5])\n",
    "\n",
    "Map.addLayer(\n",
    "    result, {\"min\": 1, \"max\": 5, \"palette\": legend_colors}, \"Labelled clusters\"\n",
    ")\n",
    "Map.add_legend(\n",
    "    legend_keys=legend_keys, legend_colors=legend_colors, position=\"bottomright\"\n",
    ")\n",
    "Map"
   ]
  },
  {
   "cell_type": "markdown",
   "id": "24",
   "metadata": {},
   "source": [
    "### Visualize the result"
   ]
  },
  {
   "cell_type": "code",
   "execution_count": 32,
   "id": "25",
   "metadata": {},
   "outputs": [
    {
     "data": {
      "text/html": [
       "\n",
       "            <style>\n",
       "                .geemap-dark {\n",
       "                    --jp-widgets-color: white;\n",
       "                    --jp-widgets-label-color: white;\n",
       "                    --jp-ui-font-color1: white;\n",
       "                    --jp-layout-color2: #454545;\n",
       "                    background-color: #383838;\n",
       "                }\n",
       "\n",
       "                .geemap-dark .jupyter-button {\n",
       "                    --jp-layout-color3: #383838;\n",
       "                }\n",
       "\n",
       "                .geemap-colab {\n",
       "                    background-color: var(--colab-primary-surface-color, white);\n",
       "                }\n",
       "\n",
       "                .geemap-colab .jupyter-button {\n",
       "                    --jp-layout-color3: var(--colab-primary-surface-color, white);\n",
       "                }\n",
       "            </style>\n",
       "            "
      ],
      "text/plain": [
       "<IPython.core.display.HTML object>"
      ]
     },
     "metadata": {},
     "output_type": "display_data"
    },
    {
     "name": "stdout",
     "output_type": "stream",
     "text": [
      "Change layer opacity:\n"
     ]
    },
    {
     "data": {
      "application/vnd.jupyter.widget-view+json": {
       "model_id": "1690e7464b16499d9d97c0af2201e18b",
       "version_major": 2,
       "version_minor": 0
      },
      "text/plain": [
       "Box(children=(FloatSlider(value=1.0, description='opacity', max=1.0),))"
      ]
     },
     "execution_count": 32,
     "metadata": {},
     "output_type": "execute_result"
    }
   ],
   "source": [
    "print(\"Change layer opacity:\")\n",
    "cluster_layer = Map.layers[-1]\n",
    "cluster_layer.interact(opacity=(0, 1, 0.1))"
   ]
  },
  {
   "cell_type": "markdown",
   "id": "26",
   "metadata": {},
   "source": [
    "### Export the result\n",
    "\n",
    "Export the result directly to your computer:"
   ]
  },
  {
   "cell_type": "code",
   "execution_count": 34,
   "id": "27",
   "metadata": {},
   "outputs": [
    {
     "data": {
      "text/html": [
       "\n",
       "            <style>\n",
       "                .geemap-dark {\n",
       "                    --jp-widgets-color: white;\n",
       "                    --jp-widgets-label-color: white;\n",
       "                    --jp-ui-font-color1: white;\n",
       "                    --jp-layout-color2: #454545;\n",
       "                    background-color: #383838;\n",
       "                }\n",
       "\n",
       "                .geemap-dark .jupyter-button {\n",
       "                    --jp-layout-color3: #383838;\n",
       "                }\n",
       "\n",
       "                .geemap-colab {\n",
       "                    background-color: var(--colab-primary-surface-color, white);\n",
       "                }\n",
       "\n",
       "                .geemap-colab .jupyter-button {\n",
       "                    --jp-layout-color3: var(--colab-primary-surface-color, white);\n",
       "                }\n",
       "            </style>\n",
       "            "
      ],
      "text/plain": [
       "<IPython.core.display.HTML object>"
      ]
     },
     "metadata": {},
     "output_type": "display_data"
    }
   ],
   "source": [
    "import os\n",
    "\n",
    "out_dir = os.path.join(os.path.expanduser(\"~\"), \"Downloads\")\n",
    "out_file = os.path.join(out_dir, \"cluster.tif\")"
   ]
  },
  {
   "cell_type": "code",
   "execution_count": 35,
   "id": "28",
   "metadata": {},
   "outputs": [
    {
     "data": {
      "text/html": [
       "\n",
       "            <style>\n",
       "                .geemap-dark {\n",
       "                    --jp-widgets-color: white;\n",
       "                    --jp-widgets-label-color: white;\n",
       "                    --jp-ui-font-color1: white;\n",
       "                    --jp-layout-color2: #454545;\n",
       "                    background-color: #383838;\n",
       "                }\n",
       "\n",
       "                .geemap-dark .jupyter-button {\n",
       "                    --jp-layout-color3: #383838;\n",
       "                }\n",
       "\n",
       "                .geemap-colab {\n",
       "                    background-color: var(--colab-primary-surface-color, white);\n",
       "                }\n",
       "\n",
       "                .geemap-colab .jupyter-button {\n",
       "                    --jp-layout-color3: var(--colab-primary-surface-color, white);\n",
       "                }\n",
       "            </style>\n",
       "            "
      ],
      "text/plain": [
       "<IPython.core.display.HTML object>"
      ]
     },
     "metadata": {},
     "output_type": "display_data"
    },
    {
     "name": "stdout",
     "output_type": "stream",
     "text": [
      "Generating URL ...\n",
      "Downloading data from https://earthengine.googleapis.com/v1/projects/ee-eslamelnahas-jupyter/thumbnails/02dfdfb3fdd5aaf77c0667c525de60e4-f8c00e877514cb67e22557a8ef47418b:getPixels\n",
      "Please wait ...\n",
      "An error occurred while downloading.\n"
     ]
    }
   ],
   "source": [
    "geemap.ee_export_image(result, filename=out_file, scale=90)"
   ]
  },
  {
   "cell_type": "markdown",
   "id": "29",
   "metadata": {},
   "source": [
    "Export the result to Google Drive:"
   ]
  },
  {
   "cell_type": "code",
   "execution_count": 51,
   "id": "30",
   "metadata": {},
   "outputs": [
    {
     "data": {
      "text/html": [
       "\n",
       "            <style>\n",
       "                .geemap-dark {\n",
       "                    --jp-widgets-color: white;\n",
       "                    --jp-widgets-label-color: white;\n",
       "                    --jp-ui-font-color1: white;\n",
       "                    --jp-layout-color2: #454545;\n",
       "                    background-color: #383838;\n",
       "                }\n",
       "\n",
       "                .geemap-dark .jupyter-button {\n",
       "                    --jp-layout-color3: #383838;\n",
       "                }\n",
       "\n",
       "                .geemap-colab {\n",
       "                    background-color: var(--colab-primary-surface-color, white);\n",
       "                }\n",
       "\n",
       "                .geemap-colab .jupyter-button {\n",
       "                    --jp-layout-color3: var(--colab-primary-surface-color, white);\n",
       "                }\n",
       "            </style>\n",
       "            "
      ],
      "text/plain": [
       "<IPython.core.display.HTML object>"
      ]
     },
     "metadata": {},
     "output_type": "display_data"
    }
   ],
   "source": [
    "geemap.ee_export_image_to_drive(\n",
    "    result, description=\"clusters\", folder=\"export\", scale=90\n",
    ")"
   ]
  },
  {
   "cell_type": "code",
   "execution_count": null,
   "id": "0a8831f4-2e1e-470d-bfec-1853c7734571",
   "metadata": {},
   "outputs": [],
   "source": []
  }
 ],
 "metadata": {
  "kernelspec": {
   "display_name": "Python 3 (ipykernel)",
   "language": "python",
   "name": "python3"
  },
  "language_info": {
   "codemirror_mode": {
    "name": "ipython",
    "version": 3
   },
   "file_extension": ".py",
   "mimetype": "text/x-python",
   "name": "python",
   "nbconvert_exporter": "python",
   "pygments_lexer": "ipython3",
   "version": "3.11.7"
  }
 },
 "nbformat": 4,
 "nbformat_minor": 5
}
